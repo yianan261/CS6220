{
  "nbformat": 4,
  "nbformat_minor": 0,
  "metadata": {
    "colab": {
      "provenance": [],
      "mount_file_id": "13M5Uq9IuR_g4ckOiXXe9BbBLXjWhkF3I",
      "authorship_tag": "ABX9TyNJp9KWg4otu8eVFSGfyGl0",
      "include_colab_link": true
    },
    "kernelspec": {
      "name": "python3",
      "display_name": "Python 3"
    },
    "language_info": {
      "name": "python"
    }
  },
  "cells": [
    {
      "cell_type": "markdown",
      "metadata": {
        "id": "view-in-github",
        "colab_type": "text"
      },
      "source": [
        "<a href=\"https://colab.research.google.com/github/yianan261/CS6220/blob/main/CS6620_HW_1.ipynb\" target=\"_parent\"><img src=\"https://colab.research.google.com/assets/colab-badge.svg\" alt=\"Open In Colab\"/></a>"
      ]
    },
    {
      "cell_type": "code",
      "execution_count": null,
      "metadata": {
        "id": "OTHxx2tCzekr"
      },
      "outputs": [],
      "source": [
        "def cardinality_items(filename):\n",
        "  grocery_set = set()\n",
        "\n",
        "  delimiter = \", \"\n",
        "\n",
        "  with open(filename, \"r\") as file:\n",
        "      lines = file.readlines()\n",
        "      for l in lines:\n",
        "        for item in l.strip().split(delimiter):\n",
        "          grocery_set.add(item)\n",
        "  return len(grocery_set)\n"
      ]
    },
    {
      "cell_type": "code",
      "source": [
        "cardinality_items(\"/content/drive/MyDrive/data_mining/basket_data.csv\")"
      ],
      "metadata": {
        "colab": {
          "base_uri": "https://localhost:8080/"
        },
        "id": "15HrEkub2uh7",
        "outputId": "9129164c-f502-4030-87d3-476ae7e3f73e"
      },
      "execution_count": null,
      "outputs": [
        {
          "output_type": "execute_result",
          "data": {
            "text/plain": [
              "21"
            ]
          },
          "metadata": {},
          "execution_count": 4
        }
      ]
    },
    {
      "cell_type": "code",
      "source": [
        "def all_itemsets(items:list, N:int) -> list:\n",
        "  res = []\n",
        "\n",
        "  def combination(start, comb):\n",
        "      if len(comb) == N:\n",
        "          res.append(comb[:])\n",
        "      else:\n",
        "          for i in range(start, len(items)):\n",
        "              comb.append(items[i])\n",
        "              combination(i + 1, comb)\n",
        "              comb.pop()\n",
        "  combination(0, [])\n",
        "  return res"
      ],
      "metadata": {
        "id": "lTNbcCR590Jk"
      },
      "execution_count": null,
      "outputs": []
    },
    {
      "cell_type": "code",
      "source": [
        "all_itemsets( [\"ham\", \"cheese\", \"bread\"], 2 )"
      ],
      "metadata": {
        "colab": {
          "base_uri": "https://localhost:8080/"
        },
        "id": "2hWkJuFy_sw4",
        "outputId": "36cce219-b261-41f5-b163-afa4e9541988"
      },
      "execution_count": null,
      "outputs": [
        {
          "output_type": "execute_result",
          "data": {
            "text/plain": [
              "[['ham', 'cheese'], ['ham', 'bread'], ['cheese', 'bread']]"
            ]
          },
          "metadata": {},
          "execution_count": 42
        }
      ]
    }
  ]
}