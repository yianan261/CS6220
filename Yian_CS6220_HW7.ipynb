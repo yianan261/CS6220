{
  "nbformat": 4,
  "nbformat_minor": 0,
  "metadata": {
    "colab": {
      "provenance": [],
      "include_colab_link": true
    },
    "kernelspec": {
      "name": "python3",
      "display_name": "Python 3"
    },
    "language_info": {
      "name": "python"
    }
  },
  "cells": [
    {
      "cell_type": "markdown",
      "metadata": {
        "id": "view-in-github",
        "colab_type": "text"
      },
      "source": [
        "<a href=\"https://colab.research.google.com/github/yianan261/CS6220/blob/main/Yian_CS6220_HW7.ipynb\" target=\"_parent\"><img src=\"https://colab.research.google.com/assets/colab-badge.svg\" alt=\"Open In Colab\"/></a>"
      ]
    },
    {
      "cell_type": "code",
      "execution_count": 220,
      "metadata": {
        "colab": {
          "base_uri": "https://localhost:8080/"
        },
        "id": "C63skZu1Kol_",
        "outputId": "4c28ffa6-5260-499d-8e35-0774ecee2f6a"
      },
      "outputs": [
        {
          "output_type": "stream",
          "name": "stdout",
          "text": [
            "--2023-11-22 01:10:02--  https://course.ccs.neu.edu/cs6220/fall2023/homework-7/data/titanic/titanic.train.csv\n",
            "Resolving course.ccs.neu.edu (course.ccs.neu.edu)... 129.10.117.35\n",
            "Connecting to course.ccs.neu.edu (course.ccs.neu.edu)|129.10.117.35|:443... connected.\n",
            "HTTP request sent, awaiting response... 200 OK\n",
            "Length: 73203 (71K) [text/csv]\n",
            "Saving to: ‘titanic.train.csv.14’\n",
            "\n",
            "titanic.train.csv.1 100%[===================>]  71.49K   131KB/s    in 0.5s    \n",
            "\n",
            "2023-11-22 01:10:04 (131 KB/s) - ‘titanic.train.csv.14’ saved [73203/73203]\n",
            "\n",
            "--2023-11-22 01:10:04--  https://course.ccs.neu.edu/cs6220/fall2023/homework-7/data/titanic/titanic.test.csv\n",
            "Resolving course.ccs.neu.edu (course.ccs.neu.edu)... 129.10.117.35\n",
            "Connecting to course.ccs.neu.edu (course.ccs.neu.edu)|129.10.117.35|:443... connected.\n",
            "HTTP request sent, awaiting response... 200 OK\n",
            "Length: 35145 (34K) [text/csv]\n",
            "Saving to: ‘titanic.test.csv.14’\n",
            "\n",
            "titanic.test.csv.14 100%[===================>]  34.32K   189KB/s    in 0.2s    \n",
            "\n",
            "2023-11-22 01:10:05 (189 KB/s) - ‘titanic.test.csv.14’ saved [35145/35145]\n",
            "\n"
          ]
        }
      ],
      "source": [
        "#@title Download Titanic Data\n",
        "import numpy as np\n",
        "import pandas as pd\n",
        "import matplotlib.pylab as plt\n",
        "%matplotlib inline\n",
        "\n",
        "!wget https://course.ccs.neu.edu/cs6220/fall2023/homework-7/data/titanic/titanic.train.csv\n",
        "!wget https://course.ccs.neu.edu/cs6220/fall2023/homework-7/data/titanic/titanic.test.csv\n",
        "df = pd.read_csv('titanic.train.csv')\n",
        "df_test = pd.read_csv('titanic.test.csv')"
      ]
    },
    {
      "cell_type": "code",
      "source": [
        "df"
      ],
      "metadata": {
        "colab": {
          "base_uri": "https://localhost:8080/",
          "height": 510
        },
        "id": "hmeLb8aqhPC2",
        "outputId": "3f6845ec-fd0e-4e51-d922-a80658d56d54"
      },
      "execution_count": 221,
      "outputs": [
        {
          "output_type": "execute_result",
          "data": {
            "text/plain": [
              "     pclass  survived                                               name  \\\n",
              "0         3         1                        Sheerlinck, Mr. Jan Baptist   \n",
              "1         2         1                         Quick, Miss. Winifred Vera   \n",
              "2         1         1                  Pears, Mrs. Thomas (Edith Wearne)   \n",
              "3         1         0                       Crosby, Capt. Edward Gifford   \n",
              "4         3         1             Daly, Miss. Margaret Marcella \"Maggie\"   \n",
              "..      ...       ...                                                ...   \n",
              "886       1         0                         Hays, Mr. Charles Melville   \n",
              "887       3         1  Hakkarainen, Mrs. Pekka Pietari (Elin Matilda ...   \n",
              "888       3         0                                      Ling, Mr. Lee   \n",
              "889       3         0                       Saether, Mr. Simon Sivertsen   \n",
              "890       1         0                                Ringhini, Mr. Sante   \n",
              "\n",
              "        sex   age  sibsp  parch              ticket      fare cabin embarked  \\\n",
              "0      male  29.0      0      0              345779    9.5000   NaN        S   \n",
              "1    female   8.0      1      1               26360   26.0000   NaN        S   \n",
              "2    female  22.0      1      0              113776   66.6000    C2        S   \n",
              "3      male  70.0      1      1           WE/P 5735   71.0000   B22        S   \n",
              "4    female  30.0      0      0              382650    6.9500   NaN        Q   \n",
              "..      ...   ...    ...    ...                 ...       ...   ...      ...   \n",
              "886    male  55.0      1      1               12749   93.5000   B69        S   \n",
              "887  female  24.0      1      0    STON/O2. 3101279   15.8500   NaN        S   \n",
              "888    male  28.0      0      0                1601   56.4958   NaN        S   \n",
              "889    male  38.5      0      0  SOTON/O.Q. 3101262    7.2500   NaN        S   \n",
              "890    male  22.0      0      0            PC 17760  135.6333   NaN        C   \n",
              "\n",
              "    boat   body                         home.dest  \n",
              "0     11    NaN                               NaN  \n",
              "1     11    NaN     Plymouth, Devon / Detroit, MI  \n",
              "2      8    NaN                Isleworth, England  \n",
              "3    NaN  269.0                     Milwaukee, WI  \n",
              "4     15    NaN  Co Athlone, Ireland New York, NY  \n",
              "..   ...    ...                               ...  \n",
              "886  NaN  307.0                      Montreal, PQ  \n",
              "887   15    NaN                               NaN  \n",
              "888  NaN    NaN                               NaN  \n",
              "889  NaN   32.0                               NaN  \n",
              "890  NaN  232.0                               NaN  \n",
              "\n",
              "[891 rows x 14 columns]"
            ],
            "text/html": [
              "\n",
              "  <div id=\"df-4d58cf71-b8a5-4021-9c8d-5b94856fe3ff\" class=\"colab-df-container\">\n",
              "    <div>\n",
              "<style scoped>\n",
              "    .dataframe tbody tr th:only-of-type {\n",
              "        vertical-align: middle;\n",
              "    }\n",
              "\n",
              "    .dataframe tbody tr th {\n",
              "        vertical-align: top;\n",
              "    }\n",
              "\n",
              "    .dataframe thead th {\n",
              "        text-align: right;\n",
              "    }\n",
              "</style>\n",
              "<table border=\"1\" class=\"dataframe\">\n",
              "  <thead>\n",
              "    <tr style=\"text-align: right;\">\n",
              "      <th></th>\n",
              "      <th>pclass</th>\n",
              "      <th>survived</th>\n",
              "      <th>name</th>\n",
              "      <th>sex</th>\n",
              "      <th>age</th>\n",
              "      <th>sibsp</th>\n",
              "      <th>parch</th>\n",
              "      <th>ticket</th>\n",
              "      <th>fare</th>\n",
              "      <th>cabin</th>\n",
              "      <th>embarked</th>\n",
              "      <th>boat</th>\n",
              "      <th>body</th>\n",
              "      <th>home.dest</th>\n",
              "    </tr>\n",
              "  </thead>\n",
              "  <tbody>\n",
              "    <tr>\n",
              "      <th>0</th>\n",
              "      <td>3</td>\n",
              "      <td>1</td>\n",
              "      <td>Sheerlinck, Mr. Jan Baptist</td>\n",
              "      <td>male</td>\n",
              "      <td>29.0</td>\n",
              "      <td>0</td>\n",
              "      <td>0</td>\n",
              "      <td>345779</td>\n",
              "      <td>9.5000</td>\n",
              "      <td>NaN</td>\n",
              "      <td>S</td>\n",
              "      <td>11</td>\n",
              "      <td>NaN</td>\n",
              "      <td>NaN</td>\n",
              "    </tr>\n",
              "    <tr>\n",
              "      <th>1</th>\n",
              "      <td>2</td>\n",
              "      <td>1</td>\n",
              "      <td>Quick, Miss. Winifred Vera</td>\n",
              "      <td>female</td>\n",
              "      <td>8.0</td>\n",
              "      <td>1</td>\n",
              "      <td>1</td>\n",
              "      <td>26360</td>\n",
              "      <td>26.0000</td>\n",
              "      <td>NaN</td>\n",
              "      <td>S</td>\n",
              "      <td>11</td>\n",
              "      <td>NaN</td>\n",
              "      <td>Plymouth, Devon / Detroit, MI</td>\n",
              "    </tr>\n",
              "    <tr>\n",
              "      <th>2</th>\n",
              "      <td>1</td>\n",
              "      <td>1</td>\n",
              "      <td>Pears, Mrs. Thomas (Edith Wearne)</td>\n",
              "      <td>female</td>\n",
              "      <td>22.0</td>\n",
              "      <td>1</td>\n",
              "      <td>0</td>\n",
              "      <td>113776</td>\n",
              "      <td>66.6000</td>\n",
              "      <td>C2</td>\n",
              "      <td>S</td>\n",
              "      <td>8</td>\n",
              "      <td>NaN</td>\n",
              "      <td>Isleworth, England</td>\n",
              "    </tr>\n",
              "    <tr>\n",
              "      <th>3</th>\n",
              "      <td>1</td>\n",
              "      <td>0</td>\n",
              "      <td>Crosby, Capt. Edward Gifford</td>\n",
              "      <td>male</td>\n",
              "      <td>70.0</td>\n",
              "      <td>1</td>\n",
              "      <td>1</td>\n",
              "      <td>WE/P 5735</td>\n",
              "      <td>71.0000</td>\n",
              "      <td>B22</td>\n",
              "      <td>S</td>\n",
              "      <td>NaN</td>\n",
              "      <td>269.0</td>\n",
              "      <td>Milwaukee, WI</td>\n",
              "    </tr>\n",
              "    <tr>\n",
              "      <th>4</th>\n",
              "      <td>3</td>\n",
              "      <td>1</td>\n",
              "      <td>Daly, Miss. Margaret Marcella \"Maggie\"</td>\n",
              "      <td>female</td>\n",
              "      <td>30.0</td>\n",
              "      <td>0</td>\n",
              "      <td>0</td>\n",
              "      <td>382650</td>\n",
              "      <td>6.9500</td>\n",
              "      <td>NaN</td>\n",
              "      <td>Q</td>\n",
              "      <td>15</td>\n",
              "      <td>NaN</td>\n",
              "      <td>Co Athlone, Ireland New York, NY</td>\n",
              "    </tr>\n",
              "    <tr>\n",
              "      <th>...</th>\n",
              "      <td>...</td>\n",
              "      <td>...</td>\n",
              "      <td>...</td>\n",
              "      <td>...</td>\n",
              "      <td>...</td>\n",
              "      <td>...</td>\n",
              "      <td>...</td>\n",
              "      <td>...</td>\n",
              "      <td>...</td>\n",
              "      <td>...</td>\n",
              "      <td>...</td>\n",
              "      <td>...</td>\n",
              "      <td>...</td>\n",
              "      <td>...</td>\n",
              "    </tr>\n",
              "    <tr>\n",
              "      <th>886</th>\n",
              "      <td>1</td>\n",
              "      <td>0</td>\n",
              "      <td>Hays, Mr. Charles Melville</td>\n",
              "      <td>male</td>\n",
              "      <td>55.0</td>\n",
              "      <td>1</td>\n",
              "      <td>1</td>\n",
              "      <td>12749</td>\n",
              "      <td>93.5000</td>\n",
              "      <td>B69</td>\n",
              "      <td>S</td>\n",
              "      <td>NaN</td>\n",
              "      <td>307.0</td>\n",
              "      <td>Montreal, PQ</td>\n",
              "    </tr>\n",
              "    <tr>\n",
              "      <th>887</th>\n",
              "      <td>3</td>\n",
              "      <td>1</td>\n",
              "      <td>Hakkarainen, Mrs. Pekka Pietari (Elin Matilda ...</td>\n",
              "      <td>female</td>\n",
              "      <td>24.0</td>\n",
              "      <td>1</td>\n",
              "      <td>0</td>\n",
              "      <td>STON/O2. 3101279</td>\n",
              "      <td>15.8500</td>\n",
              "      <td>NaN</td>\n",
              "      <td>S</td>\n",
              "      <td>15</td>\n",
              "      <td>NaN</td>\n",
              "      <td>NaN</td>\n",
              "    </tr>\n",
              "    <tr>\n",
              "      <th>888</th>\n",
              "      <td>3</td>\n",
              "      <td>0</td>\n",
              "      <td>Ling, Mr. Lee</td>\n",
              "      <td>male</td>\n",
              "      <td>28.0</td>\n",
              "      <td>0</td>\n",
              "      <td>0</td>\n",
              "      <td>1601</td>\n",
              "      <td>56.4958</td>\n",
              "      <td>NaN</td>\n",
              "      <td>S</td>\n",
              "      <td>NaN</td>\n",
              "      <td>NaN</td>\n",
              "      <td>NaN</td>\n",
              "    </tr>\n",
              "    <tr>\n",
              "      <th>889</th>\n",
              "      <td>3</td>\n",
              "      <td>0</td>\n",
              "      <td>Saether, Mr. Simon Sivertsen</td>\n",
              "      <td>male</td>\n",
              "      <td>38.5</td>\n",
              "      <td>0</td>\n",
              "      <td>0</td>\n",
              "      <td>SOTON/O.Q. 3101262</td>\n",
              "      <td>7.2500</td>\n",
              "      <td>NaN</td>\n",
              "      <td>S</td>\n",
              "      <td>NaN</td>\n",
              "      <td>32.0</td>\n",
              "      <td>NaN</td>\n",
              "    </tr>\n",
              "    <tr>\n",
              "      <th>890</th>\n",
              "      <td>1</td>\n",
              "      <td>0</td>\n",
              "      <td>Ringhini, Mr. Sante</td>\n",
              "      <td>male</td>\n",
              "      <td>22.0</td>\n",
              "      <td>0</td>\n",
              "      <td>0</td>\n",
              "      <td>PC 17760</td>\n",
              "      <td>135.6333</td>\n",
              "      <td>NaN</td>\n",
              "      <td>C</td>\n",
              "      <td>NaN</td>\n",
              "      <td>232.0</td>\n",
              "      <td>NaN</td>\n",
              "    </tr>\n",
              "  </tbody>\n",
              "</table>\n",
              "<p>891 rows × 14 columns</p>\n",
              "</div>\n",
              "    <div class=\"colab-df-buttons\">\n",
              "\n",
              "  <div class=\"colab-df-container\">\n",
              "    <button class=\"colab-df-convert\" onclick=\"convertToInteractive('df-4d58cf71-b8a5-4021-9c8d-5b94856fe3ff')\"\n",
              "            title=\"Convert this dataframe to an interactive table.\"\n",
              "            style=\"display:none;\">\n",
              "\n",
              "  <svg xmlns=\"http://www.w3.org/2000/svg\" height=\"24px\" viewBox=\"0 -960 960 960\">\n",
              "    <path d=\"M120-120v-720h720v720H120Zm60-500h600v-160H180v160Zm220 220h160v-160H400v160Zm0 220h160v-160H400v160ZM180-400h160v-160H180v160Zm440 0h160v-160H620v160ZM180-180h160v-160H180v160Zm440 0h160v-160H620v160Z\"/>\n",
              "  </svg>\n",
              "    </button>\n",
              "\n",
              "  <style>\n",
              "    .colab-df-container {\n",
              "      display:flex;\n",
              "      gap: 12px;\n",
              "    }\n",
              "\n",
              "    .colab-df-convert {\n",
              "      background-color: #E8F0FE;\n",
              "      border: none;\n",
              "      border-radius: 50%;\n",
              "      cursor: pointer;\n",
              "      display: none;\n",
              "      fill: #1967D2;\n",
              "      height: 32px;\n",
              "      padding: 0 0 0 0;\n",
              "      width: 32px;\n",
              "    }\n",
              "\n",
              "    .colab-df-convert:hover {\n",
              "      background-color: #E2EBFA;\n",
              "      box-shadow: 0px 1px 2px rgba(60, 64, 67, 0.3), 0px 1px 3px 1px rgba(60, 64, 67, 0.15);\n",
              "      fill: #174EA6;\n",
              "    }\n",
              "\n",
              "    .colab-df-buttons div {\n",
              "      margin-bottom: 4px;\n",
              "    }\n",
              "\n",
              "    [theme=dark] .colab-df-convert {\n",
              "      background-color: #3B4455;\n",
              "      fill: #D2E3FC;\n",
              "    }\n",
              "\n",
              "    [theme=dark] .colab-df-convert:hover {\n",
              "      background-color: #434B5C;\n",
              "      box-shadow: 0px 1px 3px 1px rgba(0, 0, 0, 0.15);\n",
              "      filter: drop-shadow(0px 1px 2px rgba(0, 0, 0, 0.3));\n",
              "      fill: #FFFFFF;\n",
              "    }\n",
              "  </style>\n",
              "\n",
              "    <script>\n",
              "      const buttonEl =\n",
              "        document.querySelector('#df-4d58cf71-b8a5-4021-9c8d-5b94856fe3ff button.colab-df-convert');\n",
              "      buttonEl.style.display =\n",
              "        google.colab.kernel.accessAllowed ? 'block' : 'none';\n",
              "\n",
              "      async function convertToInteractive(key) {\n",
              "        const element = document.querySelector('#df-4d58cf71-b8a5-4021-9c8d-5b94856fe3ff');\n",
              "        const dataTable =\n",
              "          await google.colab.kernel.invokeFunction('convertToInteractive',\n",
              "                                                    [key], {});\n",
              "        if (!dataTable) return;\n",
              "\n",
              "        const docLinkHtml = 'Like what you see? Visit the ' +\n",
              "          '<a target=\"_blank\" href=https://colab.research.google.com/notebooks/data_table.ipynb>data table notebook</a>'\n",
              "          + ' to learn more about interactive tables.';\n",
              "        element.innerHTML = '';\n",
              "        dataTable['output_type'] = 'display_data';\n",
              "        await google.colab.output.renderOutput(dataTable, element);\n",
              "        const docLink = document.createElement('div');\n",
              "        docLink.innerHTML = docLinkHtml;\n",
              "        element.appendChild(docLink);\n",
              "      }\n",
              "    </script>\n",
              "  </div>\n",
              "\n",
              "\n",
              "<div id=\"df-003ac885-dc32-47f5-a70e-e8099fc6e3e2\">\n",
              "  <button class=\"colab-df-quickchart\" onclick=\"quickchart('df-003ac885-dc32-47f5-a70e-e8099fc6e3e2')\"\n",
              "            title=\"Suggest charts\"\n",
              "            style=\"display:none;\">\n",
              "\n",
              "<svg xmlns=\"http://www.w3.org/2000/svg\" height=\"24px\"viewBox=\"0 0 24 24\"\n",
              "     width=\"24px\">\n",
              "    <g>\n",
              "        <path d=\"M19 3H5c-1.1 0-2 .9-2 2v14c0 1.1.9 2 2 2h14c1.1 0 2-.9 2-2V5c0-1.1-.9-2-2-2zM9 17H7v-7h2v7zm4 0h-2V7h2v10zm4 0h-2v-4h2v4z\"/>\n",
              "    </g>\n",
              "</svg>\n",
              "  </button>\n",
              "\n",
              "<style>\n",
              "  .colab-df-quickchart {\n",
              "      --bg-color: #E8F0FE;\n",
              "      --fill-color: #1967D2;\n",
              "      --hover-bg-color: #E2EBFA;\n",
              "      --hover-fill-color: #174EA6;\n",
              "      --disabled-fill-color: #AAA;\n",
              "      --disabled-bg-color: #DDD;\n",
              "  }\n",
              "\n",
              "  [theme=dark] .colab-df-quickchart {\n",
              "      --bg-color: #3B4455;\n",
              "      --fill-color: #D2E3FC;\n",
              "      --hover-bg-color: #434B5C;\n",
              "      --hover-fill-color: #FFFFFF;\n",
              "      --disabled-bg-color: #3B4455;\n",
              "      --disabled-fill-color: #666;\n",
              "  }\n",
              "\n",
              "  .colab-df-quickchart {\n",
              "    background-color: var(--bg-color);\n",
              "    border: none;\n",
              "    border-radius: 50%;\n",
              "    cursor: pointer;\n",
              "    display: none;\n",
              "    fill: var(--fill-color);\n",
              "    height: 32px;\n",
              "    padding: 0;\n",
              "    width: 32px;\n",
              "  }\n",
              "\n",
              "  .colab-df-quickchart:hover {\n",
              "    background-color: var(--hover-bg-color);\n",
              "    box-shadow: 0 1px 2px rgba(60, 64, 67, 0.3), 0 1px 3px 1px rgba(60, 64, 67, 0.15);\n",
              "    fill: var(--button-hover-fill-color);\n",
              "  }\n",
              "\n",
              "  .colab-df-quickchart-complete:disabled,\n",
              "  .colab-df-quickchart-complete:disabled:hover {\n",
              "    background-color: var(--disabled-bg-color);\n",
              "    fill: var(--disabled-fill-color);\n",
              "    box-shadow: none;\n",
              "  }\n",
              "\n",
              "  .colab-df-spinner {\n",
              "    border: 2px solid var(--fill-color);\n",
              "    border-color: transparent;\n",
              "    border-bottom-color: var(--fill-color);\n",
              "    animation:\n",
              "      spin 1s steps(1) infinite;\n",
              "  }\n",
              "\n",
              "  @keyframes spin {\n",
              "    0% {\n",
              "      border-color: transparent;\n",
              "      border-bottom-color: var(--fill-color);\n",
              "      border-left-color: var(--fill-color);\n",
              "    }\n",
              "    20% {\n",
              "      border-color: transparent;\n",
              "      border-left-color: var(--fill-color);\n",
              "      border-top-color: var(--fill-color);\n",
              "    }\n",
              "    30% {\n",
              "      border-color: transparent;\n",
              "      border-left-color: var(--fill-color);\n",
              "      border-top-color: var(--fill-color);\n",
              "      border-right-color: var(--fill-color);\n",
              "    }\n",
              "    40% {\n",
              "      border-color: transparent;\n",
              "      border-right-color: var(--fill-color);\n",
              "      border-top-color: var(--fill-color);\n",
              "    }\n",
              "    60% {\n",
              "      border-color: transparent;\n",
              "      border-right-color: var(--fill-color);\n",
              "    }\n",
              "    80% {\n",
              "      border-color: transparent;\n",
              "      border-right-color: var(--fill-color);\n",
              "      border-bottom-color: var(--fill-color);\n",
              "    }\n",
              "    90% {\n",
              "      border-color: transparent;\n",
              "      border-bottom-color: var(--fill-color);\n",
              "    }\n",
              "  }\n",
              "</style>\n",
              "\n",
              "  <script>\n",
              "    async function quickchart(key) {\n",
              "      const quickchartButtonEl =\n",
              "        document.querySelector('#' + key + ' button');\n",
              "      quickchartButtonEl.disabled = true;  // To prevent multiple clicks.\n",
              "      quickchartButtonEl.classList.add('colab-df-spinner');\n",
              "      try {\n",
              "        const charts = await google.colab.kernel.invokeFunction(\n",
              "            'suggestCharts', [key], {});\n",
              "      } catch (error) {\n",
              "        console.error('Error during call to suggestCharts:', error);\n",
              "      }\n",
              "      quickchartButtonEl.classList.remove('colab-df-spinner');\n",
              "      quickchartButtonEl.classList.add('colab-df-quickchart-complete');\n",
              "    }\n",
              "    (() => {\n",
              "      let quickchartButtonEl =\n",
              "        document.querySelector('#df-003ac885-dc32-47f5-a70e-e8099fc6e3e2 button');\n",
              "      quickchartButtonEl.style.display =\n",
              "        google.colab.kernel.accessAllowed ? 'block' : 'none';\n",
              "    })();\n",
              "  </script>\n",
              "</div>\n",
              "    </div>\n",
              "  </div>\n"
            ]
          },
          "metadata": {},
          "execution_count": 221
        }
      ]
    },
    {
      "cell_type": "markdown",
      "source": [
        "## Preprocess Data\n",
        "Get y_train, y_test, drop unwanted data"
      ],
      "metadata": {
        "id": "G_FS2B56L8xL"
      }
    },
    {
      "cell_type": "code",
      "source": [
        "df.columns"
      ],
      "metadata": {
        "colab": {
          "base_uri": "https://localhost:8080/"
        },
        "id": "HVhb271vWRks",
        "outputId": "e85ac25b-885d-482a-d169-0990cd7e2029"
      },
      "execution_count": 222,
      "outputs": [
        {
          "output_type": "execute_result",
          "data": {
            "text/plain": [
              "Index(['pclass', 'survived', 'name', 'sex', 'age', 'sibsp', 'parch', 'ticket',\n",
              "       'fare', 'cabin', 'embarked', 'boat', 'body', 'home.dest'],\n",
              "      dtype='object')"
            ]
          },
          "metadata": {},
          "execution_count": 222
        }
      ]
    },
    {
      "cell_type": "code",
      "source": [
        "df.replace(\" \", float(\"NaN\"), inplace=True)"
      ],
      "metadata": {
        "id": "TBa-byv4QyRl"
      },
      "execution_count": 223,
      "outputs": []
    },
    {
      "cell_type": "code",
      "source": [
        "df = df.drop(['name','cabin','body','home.dest','ticket','boat'], axis=1)\n",
        "df = df.dropna()"
      ],
      "metadata": {
        "id": "jYA0C3o3tZKh"
      },
      "execution_count": 224,
      "outputs": []
    },
    {
      "cell_type": "code",
      "source": [
        "X_train = df[['pclass','sex','age', 'sibsp','fare','embarked']]\n",
        "y_train = df['survived'].to_numpy()"
      ],
      "metadata": {
        "id": "eoTG492CWOve"
      },
      "execution_count": 225,
      "outputs": []
    },
    {
      "cell_type": "code",
      "source": [
        "df_test = df_test.drop(['name','cabin','home.dest','ticket','Unnamed: 0'], axis=1)\n",
        "df_test = df_test.dropna()"
      ],
      "metadata": {
        "id": "zFpgXT5iQoCl"
      },
      "execution_count": 226,
      "outputs": []
    },
    {
      "cell_type": "code",
      "source": [
        "X_test = df_test[['pclass','sex','age', 'sibsp','fare','embarked']]\n",
        "y_test = df_test['survived'].to_numpy()"
      ],
      "metadata": {
        "id": "I4Wm16NotfPN"
      },
      "execution_count": 227,
      "outputs": []
    },
    {
      "cell_type": "code",
      "source": [
        "#@title Preprocess Data\n",
        "\n",
        "import numpy as np\n",
        "\n",
        "def preprocess(df):\n",
        "\n",
        "  mapping_dict_sex= {'male': 0,'female': 1}\n",
        "\n",
        "  df['sex'] = df['sex'].map(mapping_dict_sex)  # map sex\n",
        "\n",
        "  numerical_df = df[['pclass','fare']]\n",
        "\n",
        "  return numerical_df"
      ],
      "metadata": {
        "id": "MM-9aJ3QwTY0"
      },
      "execution_count": 228,
      "outputs": []
    },
    {
      "cell_type": "code",
      "source": [
        "#@title One-Hot Encoding for Categorical features\n",
        "from sklearn.preprocessing import OneHotEncoder\n",
        "\n",
        "#bins for \"age\"\n",
        "bins_age = [0, 10, 20, 30, 40, 50, 60, 70, 80]\n",
        "labels_age = [f\"{b}-{b+10}\" for b in bins_age[:-1]]\n",
        "X_train['age_binned'] = pd.cut(X_train['age'], bins=bins_age, labels=labels_age, right=False)\n",
        "X_test['age_binned'] = pd.cut(X_test['age'], bins=bins_age, labels=labels_age, right=False)\n",
        "\n",
        "# one-hot encoding for categorical features\n",
        "categorical_columns = ['age_binned','sibsp', 'embarked']\n",
        "categorical_df_train = X_train[categorical_columns]\n",
        "categorical_df_test = X_test[categorical_columns]\n",
        "ohe = OneHotEncoder(sparse_output=False,handle_unknown = 'ignore').fit(categorical_df_train)\n",
        "ohe_features_train = ohe.transform(categorical_df_train)\n",
        "ohe_features_test = ohe.transform(categorical_df_test)"
      ],
      "metadata": {
        "colab": {
          "base_uri": "https://localhost:8080/"
        },
        "id": "u1k6AUFvachF",
        "outputId": "ec7cdb5d-3920-4641-f6fe-a44df57e6730"
      },
      "execution_count": 229,
      "outputs": [
        {
          "output_type": "stream",
          "name": "stderr",
          "text": [
            "<ipython-input-229-836c2aaca9b6>:7: SettingWithCopyWarning: \n",
            "A value is trying to be set on a copy of a slice from a DataFrame.\n",
            "Try using .loc[row_indexer,col_indexer] = value instead\n",
            "\n",
            "See the caveats in the documentation: https://pandas.pydata.org/pandas-docs/stable/user_guide/indexing.html#returning-a-view-versus-a-copy\n",
            "  X_train['age_binned'] = pd.cut(X_train['age'], bins=bins_age, labels=labels_age, right=False)\n",
            "<ipython-input-229-836c2aaca9b6>:8: SettingWithCopyWarning: \n",
            "A value is trying to be set on a copy of a slice from a DataFrame.\n",
            "Try using .loc[row_indexer,col_indexer] = value instead\n",
            "\n",
            "See the caveats in the documentation: https://pandas.pydata.org/pandas-docs/stable/user_guide/indexing.html#returning-a-view-versus-a-copy\n",
            "  X_test['age_binned'] = pd.cut(X_test['age'], bins=bins_age, labels=labels_age, right=False)\n"
          ]
        }
      ]
    },
    {
      "cell_type": "code",
      "source": [
        "#@title Proprocess and normalize data\n",
        "from sklearn.preprocessing import MinMaxScaler, StandardScaler\n",
        "\n",
        "train_numerical_df = preprocess(X_train)\n",
        "\n",
        "# normalize numerical data\n",
        "scaler = MinMaxScaler().fit(train_numerical_df)\n",
        "train_numerical_features = scaler.transform(train_numerical_df)\n",
        "\n",
        "test_numerical_df = preprocess(X_test)\n",
        "test_numerical_features = scaler.transform(test_numerical_df)\n",
        "print(\"train_num_feature shape\",train_numerical_features.shape)\n",
        "print(\"train_data_ohe\",ohe_features_train.shape)\n",
        "print(\"test_numerical_features\",test_numerical_features.shape)\n",
        "print(\"test_data_ohe\",ohe_features_test.shape)\n",
        "\n",
        "train_X = np.hstack((train_numerical_features, ohe_features_train)) # stack numerical and one-hot encoded features\n",
        "test_X = np.hstack((test_numerical_features, ohe_features_test))\n"
      ],
      "metadata": {
        "id": "-GCVwpv-uf3S",
        "colab": {
          "base_uri": "https://localhost:8080/"
        },
        "outputId": "676a010e-b52a-4b77-ec10-30943132b8dd"
      },
      "execution_count": 230,
      "outputs": [
        {
          "output_type": "stream",
          "name": "stdout",
          "text": [
            "train_num_feature shape (696, 2)\n",
            "train_data_ohe (696, 18)\n",
            "test_numerical_features (347, 2)\n",
            "test_data_ohe (347, 18)\n"
          ]
        },
        {
          "output_type": "stream",
          "name": "stderr",
          "text": [
            "<ipython-input-228-a1107e8090fa>:9: SettingWithCopyWarning: \n",
            "A value is trying to be set on a copy of a slice from a DataFrame.\n",
            "Try using .loc[row_indexer,col_indexer] = value instead\n",
            "\n",
            "See the caveats in the documentation: https://pandas.pydata.org/pandas-docs/stable/user_guide/indexing.html#returning-a-view-versus-a-copy\n",
            "  df['sex'] = df['sex'].map(mapping_dict_sex)  # map sex\n",
            "<ipython-input-228-a1107e8090fa>:9: SettingWithCopyWarning: \n",
            "A value is trying to be set on a copy of a slice from a DataFrame.\n",
            "Try using .loc[row_indexer,col_indexer] = value instead\n",
            "\n",
            "See the caveats in the documentation: https://pandas.pydata.org/pandas-docs/stable/user_guide/indexing.html#returning-a-view-versus-a-copy\n",
            "  df['sex'] = df['sex'].map(mapping_dict_sex)  # map sex\n"
          ]
        }
      ]
    },
    {
      "cell_type": "markdown",
      "source": [
        "Give binary cross-entropy cost function:\n",
        "$\\mathcal{L}(W, b) = -\\sum_i y_i \\log h_{W,b}(\\textbf{x}) + (1 - y_i) \\log (1 - h_{W,b}(\\textbf{x}))$\n",
        "\n",
        "\n",
        "where $$h_{W,b}(\\textbf{x}) = \\hat{\\textbf{y}} = \\sigma ( W^T \\textbf{x} + \\textbf{b} )$$\n",
        "\n",
        "where $ \\sigma(z) = \\frac{1}{1 + e^{-z}} $\n"
      ],
      "metadata": {
        "id": "BZ-gM8xMVTQX"
      }
    },
    {
      "cell_type": "code",
      "source": [
        "#@title Sigmoid function and binary cross-entropy cost function\n",
        "\n",
        "def sigmoid(z):\n",
        "  return 1/(1+np.exp(-z))\n",
        "\n",
        "def logreg(W, x, b):\n",
        "  return sigmoid(((W @ x.T).T + b))\n",
        "\n",
        "def costfxn(W, x, y, b):\n",
        "  yhat = logreg(W, x, b)\n",
        "  return -np.sum(y*np.log(yhat)+ (1-y)*np.log(1-yhat))"
      ],
      "metadata": {
        "id": "e6_s9_elTWbF"
      },
      "execution_count": 232,
      "outputs": []
    },
    {
      "cell_type": "code",
      "source": [
        "#@title Gradient descent\n",
        "\n",
        "def gradW(y, W, x, b):\n",
        "  '''\n",
        "  Calculate the gradient w/r/t W\n",
        "\n",
        "  Args:\n",
        "    * y: N x m matrix\n",
        "    * W: m x d matrix\n",
        "    * x: N x d matrix of data\n",
        "    * b: m offsite vector\n",
        "\n",
        "  Returns:\n",
        "    * gradient of size m x d\n",
        "  '''\n",
        "  yhat = logreg(W, x, b)\n",
        "  return (np.expand_dims(yhat - y, 2) * np.expand_dims(x, 1)).sum(axis=0)\n",
        "\n",
        "\n",
        "def gradb(y, W, x, b):\n",
        "  '''\n",
        "  Calculate the gradient w/r/t b\n",
        "\n",
        "  Args:\n",
        "    * y: N x m matrix\n",
        "    * W: m x d matrix\n",
        "    * x: N x d matrix of data\n",
        "    * b: m offset vector\n",
        "\n",
        "  Returns:\n",
        "    * gradient of size N x m\n",
        "  '''\n",
        "  yhat = logreg(W, x, b)\n",
        "  return (yhat - y).sum(axis=0)\n"
      ],
      "metadata": {
        "id": "KNUfwv1yjB2W"
      },
      "execution_count": 233,
      "outputs": []
    },
    {
      "cell_type": "code",
      "source": [
        "#@title Train model\n",
        "from sklearn.linear_model import LogisticRegression\n",
        "\n",
        "model_logistic = LogisticRegression(random_state=123)\n",
        "\n",
        "model_logistic.fit(train_X, y_train)\n",
        "\n",
        "print(\"test_X\",test_X.shape)\n",
        "print(\"train_X\",train_X.shape)\n",
        "train_preds = model_logistic.predict(train_X)\n",
        "test_preds = model_logistic.predict(test_X)\n",
        "\n",
        "# Calculate accuracy\n",
        "train_accuracy = np.sum(train_preds == y_train) / len(y_train)\n",
        "test_accuracy = np.sum(test_preds == y_test) / len(y_test)\n",
        "\n",
        "# Print accuracies and cost\n",
        "print(f\"Training Accuracy with threshold of 0.5: {train_accuracy:.2%}\")\n",
        "print(f\"Test Accuracy with threshold of 0.5: {test_accuracy:.2%}\")\n",
        "print(f\"Features included ['pclass','sex','age', 'sibsp','fare','embarked']\")"
      ],
      "metadata": {
        "colab": {
          "base_uri": "https://localhost:8080/"
        },
        "id": "m92vSJBkR6kH",
        "outputId": "6bc23179-9568-4d16-da3a-a8133292a26d"
      },
      "execution_count": 234,
      "outputs": [
        {
          "output_type": "stream",
          "name": "stdout",
          "text": [
            "test_X (347, 20)\n",
            "train_X (696, 20)\n",
            "Training Accuracy with threshold of 0.5: 70.55%\n",
            "Test Accuracy with threshold of 0.5: 72.05%\n",
            "Features included ['pclass','sex','age', 'sibsp', 'parch','fare','embarked']\n"
          ]
        }
      ]
    },
    {
      "cell_type": "code",
      "source": [
        "#@title Optimize with Gradient Descent\n",
        "# Parameters\n",
        "num_iters = 1000\n",
        "batch_size = 256\n",
        "num_labels = 1\n",
        "N,d = train_X.shape #where N is number of instances, d is number of features\n",
        "learn_rate = 0.001\n",
        "random_range = np.random.default_rng(N)\n",
        "\n",
        "# Randomly initialize\n",
        "W = np.random.randn(num_labels, d)\n",
        "b = np.random.randn(num_labels)\n",
        "\n",
        "# Iterate through num_iters\n",
        "L = []\n",
        "for i in range(num_iters):\n",
        "\n",
        "  # Take a random training sample\n",
        "  rand_sample = random_range.integers(low=0, high=N-1, size=batch_size)\n",
        "\n",
        "  # Features\n",
        "  xtrain_batch = train_X[rand_sample]\n",
        "\n",
        "  ytrain_batch = y_train[rand_sample].reshape((batch_size,1))\n",
        "\n",
        "  # Calculate cost function and the gradient\n",
        "  W -= learn_rate * gradW(ytrain_batch, W, xtrain_batch, b)\n",
        "  b -= learn_rate * gradb(ytrain_batch, W, xtrain_batch, b)\n",
        "\n",
        "  L.append(costfxn(W,xtrain_batch,ytrain_batch, b))\n",
        "\n",
        "yhat = logreg(W, xtrain_batch, b)\n",
        "plt.plot(L)\n",
        "plt.xlabel('Iteration Number')\n",
        "plt.ylabel('Loss Value')"
      ],
      "metadata": {
        "colab": {
          "base_uri": "https://localhost:8080/",
          "height": 504
        },
        "id": "6dlyi34acu5l",
        "outputId": "5bcb576a-4ca6-4835-b383-c4d99cb12736"
      },
      "execution_count": 235,
      "outputs": [
        {
          "output_type": "stream",
          "name": "stdout",
          "text": [
            "L [284.90609816843346, 281.238178433653, 261.84300877530586, 260.9315815718918, 253.19458210461877, 241.49421229777298, 220.04791515611578, 245.80538127727561, 237.2545700208897, 242.28598517733383, 245.03657469727864, 232.49358693039227, 224.7060126487321, 237.1789228672568, 221.21503993899105, 206.0903821598784, 216.17102899461233, 195.08797532006164, 217.67216651542913, 217.8930042872897, 212.85310278369354, 234.51406290238032, 205.44354558334283, 211.62399611179256, 205.89825494780825, 212.58885862320872, 204.52218476457995, 205.44568115287706, 200.65988836399686, 196.99832057884296, 192.2259142664136, 202.51884520553628, 215.66043556029493, 207.14700488668038, 202.1798031334945, 204.4426009142304, 191.66305602573334, 200.9534641480755, 188.74077980675852, 214.1807713516955, 198.49050300054424, 187.7805995550654, 219.65261918379247, 208.76413689376176, 190.34582369210904, 197.1561252204965, 190.14821784013574, 195.64278825856928, 180.5739976885137, 188.9676709743722, 184.91599728514433, 210.26847149950544, 183.0125006493131, 191.53103041786608, 201.0105655001677, 187.8280200881842, 189.51017023664275, 190.921211559743, 191.1621890344478, 186.29592391570947, 185.67468068986364, 182.15495354686792, 182.12811079163095, 186.26913974290565, 183.7861393458703, 196.66386638990315, 173.74820624148958, 186.38526400971114, 182.77904635148596, 178.32923934161443, 189.49347738699498, 188.0206997670356, 183.32526246895168, 190.08206338805036, 187.15473675402777, 175.10618684737304, 181.4547728066368, 191.65905156353836, 187.32141120649203, 183.79992864600257, 180.14678558605294, 170.41974487048424, 165.26983976519648, 185.20679612384095, 179.14767977934414, 176.29298728627825, 179.98627772404143, 178.04656388617843, 182.39203587338378, 184.52853754768276, 193.35262326199216, 175.02822857322593, 176.10008697951267, 179.15387073995782, 183.63122662357193, 182.72988045234464, 166.68858839934995, 170.46820359240303, 175.8293343900126, 173.9026300975534, 196.2316453509515, 177.1747554074857, 173.40459519667036, 164.7685494921238, 164.53806162526493, 186.99266251149265, 178.5990752585257, 179.327767147832, 193.1158285014448, 169.13254426416293, 161.52461993295265, 178.88523690601647, 173.96876854322556, 165.54429589788515, 173.74668849936052, 167.0618881309034, 159.91139172473228, 173.58963421957634, 175.12648911901306, 168.31946858216554, 175.4565006040341, 176.43653072045626, 162.29453718531403, 172.8546507119264, 177.66094806917963, 164.08217134867195, 162.82808850232297, 166.4857844334019, 184.62190052342748, 162.9169129323837, 178.15479688082763, 165.12764728517942, 173.00906864783866, 163.4959703009731, 167.9237182028906, 178.41780949500236, 163.4613246724145, 163.6551417930925, 186.63006376623076, 169.8426627102165, 168.23041582820747, 173.56947541230397, 170.44021726835308, 172.862783642054, 175.6547675979633, 177.33893771325035, 164.09754479728147, 168.5589861571482, 169.22157669648476, 163.94270058245473, 179.1030905211437, 167.41168261986144, 164.14217826605784, 168.3722498894066, 176.24534282305697, 154.5258859128929, 186.98695402288274, 169.29403316274735, 168.25653687400762, 171.91504953488243, 166.40738746866185, 166.85879625649363, 162.45203838400377, 157.6687596153366, 168.76040929106045, 172.25162543703513, 166.87251690578432, 162.56611807346238, 158.27968148842763, 172.90380049397515, 160.77977821586882, 165.68982064645792, 158.7446927083447, 168.0577897246538, 168.65312783606203, 169.6763463018529, 165.8644562096634, 148.39261089484404, 164.90110787247656, 162.1540646683821, 161.0231802323135, 163.40683419739696, 157.82368430097995, 156.12424167272522, 166.98838024688763, 169.29493975963163, 168.80843205626678, 176.6668983432205, 166.83777200790507, 164.77264111756392, 179.6749264545538, 178.92688248513724, 163.04327064356153, 160.28119251937454, 154.7432836075213, 161.2401132363892, 157.01434954804623, 164.71770823775762, 169.83704635574935, 165.97632020518483, 175.73004652703125, 155.9484515765008, 161.74134152290617, 158.4874156184513, 169.64468563051912, 162.6790425005226, 161.75907657049592, 160.4843636944401, 158.98419576596365, 162.87433774511453, 160.5738695915474, 173.3412808092321, 162.6786410521557, 158.22688534245663, 161.17275554782898, 164.44440918227588, 169.49108763026823, 166.2705322336864, 164.82347368330232, 162.92314010156562, 162.7695011864796, 169.46866496040377, 152.4308824350776, 155.27809934332026, 165.11251445367435, 155.20242909126023, 168.38134157903593, 161.0903542819857, 157.40563133997222, 159.2459524599588, 159.25176274788367, 163.3789658902408, 175.62725211448173, 159.35349675605286, 158.18782519988656, 162.6949905562937, 154.82739639181904, 164.1873356715741, 152.3592115661496, 173.07668226039345, 157.32655102470642, 171.87884324972106, 158.77547765241175, 153.24785055067338, 161.17692081751457, 161.9609146715453, 169.8773913649837, 169.87471273455168, 161.9304784025373, 161.5371824989826, 156.39147354087532, 152.71379155266527, 165.2728732898874, 147.2609999208402, 161.02017346743173, 154.00791055513645, 163.5006108239685, 162.847133481615, 164.63485609339523, 154.05986429621174, 159.47080846842778, 146.70986365941536, 158.23203386683426, 153.99511807955014, 163.09899803867114, 167.89342611188277, 164.51091533631535, 160.45558631991756, 173.38005659137553, 163.13061643176798, 168.1217874646632, 166.2278238543217, 160.8639414485472, 156.27453027485728, 165.91753165164926, 159.3652720900453, 166.04858180216877, 152.63216305205725, 162.34943129530907, 161.76822583625932, 157.19121422266204, 166.49099807949287, 167.95026796356817, 171.0112150860166, 160.1389837512728, 162.4880979808225, 162.90707276403617, 148.8219656618597, 164.8292357848352, 155.92814059194563, 165.3395936320415, 164.50027064596628, 147.53301834028696, 165.58243681471407, 155.0662140110876, 155.2587653767497, 157.6769040407627, 162.5367310140923, 153.76448883186805, 153.62418461241333, 148.7237220086313, 148.78767836313847, 150.44027776077868, 158.70995747161706, 157.93536667630272, 172.36633307503195, 164.04656306533496, 150.58990671217126, 172.23631236338494, 157.32530688171084, 164.2127990092642, 159.48131395148317, 153.38749897359438, 157.88494432119154, 152.5937080101151, 163.18060917311905, 148.73391677131235, 150.74377427397405, 157.91342797554793, 152.41596261813646, 167.54046051326873, 167.2794865577477, 157.85573031136838, 149.15408782009922, 166.35256247271477, 150.3167730366589, 169.66548103577887, 159.16338141000224, 153.7012259064931, 158.22569336515738, 155.7723323932976, 153.84447786211547, 148.2116187937006, 158.87289925566068, 152.20802329240672, 147.24336088785384, 156.30926858379607, 161.34447376025673, 159.24343235849835, 155.53346624469947, 158.41103490669562, 157.27915788743454, 156.155733972564, 159.27422972391454, 160.40889908638087, 144.97577426214673, 158.44890434253935, 155.31990810523018, 155.9444410407383, 153.1440292485523, 154.7252579708425, 161.71018975899673, 156.00971804213316, 163.77980561292074, 156.87036897241845, 153.3534874477917, 150.51443106814816, 159.6084976322989, 162.08586779890908, 157.02199886405188, 152.82005243692862, 151.7342815574487, 163.27044084750915, 159.37008205504327, 157.6280772040895, 162.08184603032277, 159.70066477484414, 164.479106024695, 156.89686464936588, 151.2418612088718, 153.63317220281314, 160.95835976142897, 154.72531051429257, 150.40847518170682, 153.87356883441493, 159.69743439332694, 168.60221789776833, 152.2046484162695, 174.83474944531326, 156.8225010599229, 154.69988927610336, 164.6578881142633, 159.21543115108176, 159.08606786236115, 165.57815540265824, 144.33793735282268, 153.90145508197986, 151.1419264772581, 158.28634150451234, 158.35302593373194, 161.29012380851532, 147.3498506874135, 151.19958311952473, 161.42694604006982, 162.17585438340086, 151.37773308961192, 144.2508446434985, 161.03794314503597, 147.29144399586914, 149.65044831357412, 140.2678655379484, 165.669505228476, 156.07084858620493, 155.81403448205262, 156.10841873370987, 148.9342234556622, 145.13791913124112, 154.25971469567634, 155.2031403466828, 146.48103163557346, 149.69030961690532, 161.01165049950242, 161.81780027089258, 155.01318998326155, 159.03481344633403, 152.23870883688446, 163.74100780459673, 153.77967318735398, 150.51235414290727, 153.88839156402838, 162.7442884815755, 157.16269078121155, 153.75308899195431, 151.10168311458114, 150.37229729696827, 150.72183354805375, 154.86121324011827, 154.19398466944926, 159.69488330558443, 157.031229312949, 152.48561350536426, 166.74478651420344, 164.3453381990388, 155.7209974960219, 165.2350963949712, 155.4321245375246, 165.75884820142107, 147.96135681744414, 161.44058984329018, 158.30206117200976, 150.316148374576, 156.25750063472935, 150.4616992720828, 161.1188732214756, 146.83562514217058, 162.58605348306745, 163.87089683296898, 150.36603331658668, 159.99839292959143, 168.92031460685243, 159.03335883276887, 155.5607320545729, 160.69818248106998, 145.81401747598258, 157.72906778858265, 151.7591392627907, 157.7946798460315, 165.0503834762348, 163.27634936003562, 143.99416687230743, 154.0880659430745, 150.40159133351216, 159.0210153547119, 155.46424953473255, 155.86131107338394, 160.7428800876807, 147.999433283104, 152.40698470779722, 154.10187800839765, 159.10733012363914, 150.9860034594209, 160.265289772338, 148.83898508337552, 171.34111698492188, 159.82840830799952, 147.07819727287472, 147.69016576682202, 154.78576302516888, 165.75487837314728, 153.01908947369265, 154.5905752309984, 152.00407463458006, 159.80089155935437, 145.59926711219398, 157.2976725833489, 153.20323111545986, 144.3313065038434, 161.65107542858703, 143.79932181398146, 160.71862732932289, 155.68644202588257, 157.92888017821886, 148.09888723320492, 150.34404502103197, 159.35101291945188, 158.3229227073628, 149.1418310245848, 157.30678181520784, 156.9335584126545, 152.39433511250678, 151.0895005310619, 160.8531633772722, 157.1686139277603, 158.98259846808574, 160.5664891797418, 159.71058179674694, 155.4299493813387, 157.53074372032484, 149.89835315961523, 157.07910942300543, 152.36135754096168, 165.96188783866012, 148.89402305555203, 150.94526595774266, 153.08044234690576, 145.50967968674547, 150.94451109374057, 158.4529257402988, 154.87885556418317, 160.09028036578468, 154.04292974948015, 151.17559408179244, 148.43890867269747, 160.00628130344467, 159.50670322863414, 157.09547821198365, 159.94254269393397, 160.9436010296341, 155.84277810105885, 151.6659226082454, 152.74298408852576, 159.60337407048888, 166.25947287664422, 162.82474279118156, 146.3691605345586, 151.59753873308014, 164.2250486134168, 152.09973680184004, 154.6887503930253, 152.7958954715835, 154.44861486727683, 153.1099730311746, 154.607557830129, 147.4513814451305, 143.95810813370593, 162.34224414019255, 154.49934166594178, 160.17882233425553, 154.2006311308595, 153.55372539238977, 148.40344908964715, 159.91569081526092, 156.93745424068035, 152.6440263087514, 162.41319783574232, 154.54362845941787, 150.83276100013398, 164.25962372362184, 153.76595457172192, 153.23474721225864, 149.81244592446632, 148.9489618817322, 158.2832764188545, 146.05133106040861, 162.94039711517888, 142.0568527213855, 161.38855434860284, 158.30189066260505, 149.00957874210062, 149.10400774347187, 142.7988630836336, 158.83467413998454, 148.52292743104653, 163.48094348221935, 158.19082394060598, 149.75376950991804, 144.3097493551997, 152.47669663498357, 144.95684375023498, 152.74127564973256, 146.96387937044528, 159.66614676894113, 149.03088819537248, 156.67252558865687, 150.29377239620655, 167.0769171366508, 154.25581579735575, 158.53539398135229, 155.5115565824047, 168.01998654817407, 151.87245499343598, 150.54489959151914, 153.07685138769003, 155.436894151121, 152.62486224467347, 159.724372214618, 151.10779646785494, 156.49626155191987, 153.61074065566925, 155.85291627250695, 157.90432352246046, 154.11975923649584, 153.01041408362013, 153.11499469100897, 155.98788236266026, 157.06938630160033, 147.98325182277208, 151.13013594681922, 157.63492325449033, 144.96740235236257, 158.15612250959254, 163.3918670896591, 155.17108471319943, 144.76229353479346, 147.65080946599107, 156.2427905829054, 155.236723345947, 142.7193059821593, 156.39551329597415, 152.2362907378187, 157.11798667868436, 155.03552717989095, 162.70642896249888, 146.2921626837695, 157.87917177300167, 159.5293218244399, 152.86314534072105, 151.93679476949177, 157.04363729731955, 142.6132165855831, 151.94789565728178, 151.8318320244427, 151.01247615651823, 151.69605226752736, 157.34599988628673, 162.98925535340805, 152.44040794628245, 136.18808817322906, 147.2390952026518, 157.82324895694467, 152.78377319452426, 154.82755339071934, 156.94607432315178, 160.99132320394938, 152.15075521393402, 155.15977894024857, 149.05945098758542, 154.82804852818634, 151.22226267618592, 151.76386850584257, 158.87875404991195, 154.43376005032152, 155.51459871354234, 141.20523895631823, 149.9932466893388, 156.7322871306527, 163.66511902897452, 152.4792759523644, 149.18204458006173, 150.21547409258994, 144.3904345867574, 156.1428026996819, 155.51425600049464, 149.79287495860584, 153.9221979225556, 161.2029156566737, 152.44091020441516, 147.43793049547503, 163.99260232323041, 157.4810344298075, 161.19271816184107, 153.78265160289172, 143.9815213299163, 149.79407609247755, 149.98370462111507, 147.79057782287708, 148.99752797036996, 146.42585984157742, 148.17163259130893, 157.44422846488294, 155.78184250035926, 152.50350498287983, 150.57219607426725, 145.24462722489307, 152.47038423373402, 160.95962776883468, 158.90544660139113, 160.23639602993802, 157.1713630533123, 145.61077604097906, 152.37281045824733, 160.0369117110924, 145.8604315419913, 143.5697150850464, 143.1592586697605, 163.99852757436884, 155.89539612478808, 150.59616591783674, 161.51812892255674, 156.99821294199828, 156.37468510356754, 141.4302706897098, 152.24967272664057, 153.0572474333095, 170.58839205207, 139.9655335662306, 154.83047540161226, 149.9149313649819, 148.3765836947904, 147.15502205686522, 138.50180675457835, 152.55942360957565, 145.86808955934384, 142.6821111538926, 164.79559551471885, 156.85081706481554, 165.46071227043754, 153.96258554071647, 144.26753565286782, 154.86939995159617, 153.9596172541981, 153.64405696195195, 156.47478111238007, 150.92639429038152, 157.19824255140378, 158.57557688532833, 156.18337285127103, 147.09077792405895, 155.33803053511969, 158.82234733202017, 150.61575326492738, 149.7460535300837, 153.76751082268595, 144.45850999589533, 151.19756661833935, 149.07851945052244, 153.7970040023713, 156.18978439613764, 147.64023086645176, 159.2529781051652, 143.17250829495282, 157.30861678654304, 147.92123645677518, 153.51846089914127, 151.42369701594436, 152.89648039281224, 158.30940708098746, 155.00585760140305, 144.8397565204774, 157.6159433227296, 163.92376104155073, 156.93015776289513, 143.5428565087442, 157.7285930106827, 152.9733076541824, 150.93253781441103, 150.8819480985927, 154.7546090177838, 140.70362405641677, 149.53016815963076, 153.01968533277812, 153.3587235952289, 143.23881069276933, 152.4369405355107, 147.71886179824804, 160.52498117494966, 148.98651288428195, 147.07194041167634, 160.6310724126995, 153.0200429496181, 150.14750233429277, 158.63352729335656, 145.83966509318938, 153.81239475460347, 148.82222174341516, 165.4037536308287, 147.30160414337126, 161.2398298750888, 155.230135035794, 146.35443179727832, 150.8135788558137, 146.42277481959326, 152.69248929322688, 150.32855158108663, 151.64567855832112, 156.0677007255216, 158.16929039871422, 162.2250888182424, 146.3859633104859, 164.4116554477617, 154.474512340315, 145.36641229714303, 149.3623618023284, 155.840362112912, 151.15713106262228, 151.67454522949714, 157.9092054135328, 152.15800584677118, 156.49127009240485, 155.0917460106678, 145.7823528581218, 164.5744739547023, 156.72144645731998, 151.00386856444956, 145.97458442121754, 145.06573852470285, 153.14615382695203, 151.25736387641388, 151.7657076209033, 156.61003149156446, 156.5160544749661, 141.20638898301112, 148.65968068949468, 152.74641502023593, 147.84065401159114, 154.48910057669724, 139.6522103368215, 155.8086441341083, 146.0595217236215, 164.83473746233707, 156.27674898997554, 155.71564475709283, 148.5330935817941, 164.54922424395892, 150.36080813039956, 158.69251841824945, 151.87359843105145, 158.91179290040762, 154.04584483801221, 165.6693410122478, 155.8636575146332, 148.44282068715535, 146.19747525146556, 143.49596106014508, 159.5415901662136, 150.31633656670303, 145.65270681803045, 156.3175429219525, 150.03273078139134, 142.04362802461716, 160.33411686972312, 160.33689515557683, 144.45448239386, 144.41493521100693, 149.99611225283775, 153.37475971883705, 159.4400340978697, 154.96024012883555, 148.35876012269165, 141.6048173290884, 151.42255523030695, 148.01492162305453, 160.6264538230994, 156.30594037998588, 158.36693075791175, 147.60397558202266, 154.2874072038502, 144.80831889985097, 147.35649992054297, 154.08785712170504, 150.28630602039055, 148.12411582141226, 147.90788734903668, 159.43320332752762, 164.17413477352264, 151.14911169395148, 153.01713246363414, 144.07453852672813, 158.8394792979445, 147.49696048977864, 151.50213528141492, 152.03091879086884, 149.81732936473264, 146.04510309200006, 160.82207053002793, 151.14855877170413, 157.05360722150095, 150.91347825443103, 146.7338501689957, 147.8146497529172, 160.50702015009495, 152.95975062340327, 146.73554008991863, 150.04007068151992, 154.75039716441927, 151.99042475153283, 141.4042753481874, 159.31335770930727, 152.22478577166447, 153.15616001498654, 148.4636367981361, 162.97048286936428, 154.09818710087634, 150.16173406457406, 145.24326294215194, 145.34346923781976, 154.61884204592963, 156.65559621697622, 148.9315977068128, 143.98418006603126, 157.37649172368035, 155.55309878192713, 157.95669962868294, 146.96694279554012, 140.94665957301325, 144.64600227960773, 149.22844548631943, 151.2403795438641, 149.18110661907178, 144.3016726866602, 151.4951659112662, 158.58790191783424, 152.63194156340217, 145.99062000340496, 151.3115514990845, 164.48286143471591, 151.7970523421956, 157.64010570169734, 159.44795415400853, 156.1166918026047, 138.86902294096353, 138.2993213610459, 159.25729652475016, 153.5794762406169, 151.97442160668447, 157.8662078249109, 151.98235664408028, 154.39689400420548, 156.23101475264303, 167.01329599701054, 155.11991236019713, 143.65697755513548, 143.3694970086418, 156.0401276202965, 145.24513810540236, 154.64433630391483, 162.97022645753236, 148.29134102322058, 159.74462864679427, 150.93443682599346, 143.69618565985303, 149.813971631021, 157.5903547861905, 139.65368248491825, 153.27602627612458, 135.37926385934833, 163.13298377221756, 151.85309435449454, 145.21280046862464, 163.2805496874035, 160.43721379167596, 152.92902108418951, 156.08046076133633, 152.08942837893903, 156.72508202518037, 157.02926972444868, 148.12675757657857, 155.62907031932667, 149.80397613319192, 144.01540159495573, 152.6942474800504, 151.601885955254, 150.52248207309248, 145.18570311315597, 162.81200025654718, 150.66003269982593, 154.72273783486185, 152.86839311432834, 145.39207375026507, 156.3369913329435, 159.42960270916026, 147.5944447944793, 153.14530512485752, 155.47733572900023, 154.14066090264885, 154.91561730740528, 153.20293996056353, 150.24765874531624, 156.6785493177314, 142.39397126492503, 143.15121796154898, 142.61153204557024, 151.80603943214382, 165.1479192360478, 149.8695481700241, 148.31756518747153, 152.2396974227638, 143.27017595881236, 152.30791304045994, 155.21477037676343, 147.56104228081685, 149.30113285185317, 147.500684715362, 152.163218981824, 155.24469343644665, 148.01645366908082, 150.69032378225216, 148.1329541761108, 143.8228769493282, 156.8072666228851]\n"
          ]
        },
        {
          "output_type": "execute_result",
          "data": {
            "text/plain": [
              "Text(0, 0.5, 'Loss Value')"
            ]
          },
          "metadata": {},
          "execution_count": 235
        },
        {
          "output_type": "display_data",
          "data": {
            "text/plain": [
              "<Figure size 640x480 with 1 Axes>"
            ],
            "image/png": "[encoded data removed]"
          },
          "metadata": {}
        }
      ]
    },
    {
      "cell_type": "code",
      "source": [
        "from tensorflow.keras.models import Sequential\n",
        "from tensorflow.keras.layers import Dense\n",
        "\n",
        "# Create a neural network model\n",
        "model = Sequential()\n",
        "\n",
        "model.add(Dense(units=64, activation='relu', input_dim=d))\n",
        "model.add(Dense(units=32, activation='relu'))\n",
        "model.add(Dense(units=1, activation='sigmoid'))\n",
        "\n",
        "model.compile(loss=\"binary_crossentropy\", optimizer=\"adam\", metrics=[\"accuracy\"])"
      ],
      "metadata": {
        "id": "zEgQmfgcfkzf"
      },
      "execution_count": 236,
      "outputs": []
    },
    {
      "cell_type": "code",
      "source": [
        "model.fit(train_X, y_train, epochs=15, batch_size=256, validation_data=(test_X, y_test))"
      ],
      "metadata": {
        "colab": {
          "base_uri": "https://localhost:8080/"
        },
        "id": "QfpnisoPhc79",
        "outputId": "5a56e312-6c31-4e8a-e9b9-0e0891664f84"
      },
      "execution_count": 237,
      "outputs": [
        {
          "output_type": "stream",
          "name": "stdout",
          "text": [
            "Epoch 1/15\n",
            "3/3 [==============================] - 1s 113ms/step - loss: 0.7067 - accuracy: 0.4397 - val_loss: 0.6986 - val_accuracy: 0.4380\n",
            "Epoch 2/15\n",
            "3/3 [==============================] - 0s 27ms/step - loss: 0.6920 - accuracy: 0.5072 - val_loss: 0.6818 - val_accuracy: 0.6311\n",
            "Epoch 3/15\n",
            "3/3 [==============================] - 0s 21ms/step - loss: 0.6817 - accuracy: 0.6020 - val_loss: 0.6678 - val_accuracy: 0.6657\n",
            "Epoch 4/15\n",
            "3/3 [==============================] - 0s 21ms/step - loss: 0.6740 - accuracy: 0.6193 - val_loss: 0.6565 - val_accuracy: 0.6801\n",
            "Epoch 5/15\n",
            "3/3 [==============================] - 0s 19ms/step - loss: 0.6672 - accuracy: 0.6207 - val_loss: 0.6476 - val_accuracy: 0.6859\n",
            "Epoch 6/15\n",
            "3/3 [==============================] - 0s 27ms/step - loss: 0.6622 - accuracy: 0.6250 - val_loss: 0.6399 - val_accuracy: 0.6830\n",
            "Epoch 7/15\n",
            "3/3 [==============================] - 0s 19ms/step - loss: 0.6578 - accuracy: 0.6307 - val_loss: 0.6332 - val_accuracy: 0.6859\n",
            "Epoch 8/15\n",
            "3/3 [==============================] - 0s 27ms/step - loss: 0.6535 - accuracy: 0.6279 - val_loss: 0.6275 - val_accuracy: 0.6916\n",
            "Epoch 9/15\n",
            "3/3 [==============================] - 0s 27ms/step - loss: 0.6498 - accuracy: 0.6264 - val_loss: 0.6225 - val_accuracy: 0.6859\n",
            "Epoch 10/15\n",
            "3/3 [==============================] - 0s 28ms/step - loss: 0.6458 - accuracy: 0.6322 - val_loss: 0.6179 - val_accuracy: 0.6888\n",
            "Epoch 11/15\n",
            "3/3 [==============================] - 0s 29ms/step - loss: 0.6420 - accuracy: 0.6307 - val_loss: 0.6135 - val_accuracy: 0.6888\n",
            "Epoch 12/15\n",
            "3/3 [==============================] - 0s 28ms/step - loss: 0.6378 - accuracy: 0.6394 - val_loss: 0.6098 - val_accuracy: 0.6859\n",
            "Epoch 13/15\n",
            "3/3 [==============================] - 0s 27ms/step - loss: 0.6339 - accuracy: 0.6422 - val_loss: 0.6062 - val_accuracy: 0.6888\n",
            "Epoch 14/15\n",
            "3/3 [==============================] - 0s 25ms/step - loss: 0.6299 - accuracy: 0.6509 - val_loss: 0.6030 - val_accuracy: 0.7061\n",
            "Epoch 15/15\n",
            "3/3 [==============================] - 0s 19ms/step - loss: 0.6260 - accuracy: 0.6595 - val_loss: 0.5999 - val_accuracy: 0.7061\n"
          ]
        },
        {
          "output_type": "execute_result",
          "data": {
            "text/plain": [
              "<keras.src.callbacks.History at 0x7c9412cb9d50>"
            ]
          },
          "metadata": {},
          "execution_count": 237
        }
      ]
    },
    {
      "cell_type": "code",
      "source": [
        "# Evaluate the model\n",
        "test_loss, test_accuracy = model.evaluate(test_X, y_test, batch_size=256)\n",
        "print(f\"Test loss with Neural Network: {test_loss:.5%}\")\n",
        "print(f\"Test Accuracy with Neural Network: {test_accuracy:.2%}\")"
      ],
      "metadata": {
        "colab": {
          "base_uri": "https://localhost:8080/"
        },
        "id": "fVWUCeUliXDE",
        "outputId": "81932dfb-df28-4703-e7a4-d92300503979"
      },
      "execution_count": 238,
      "outputs": [
        {
          "output_type": "stream",
          "name": "stdout",
          "text": [
            "2/2 [==============================] - 0s 9ms/step - loss: 0.5999 - accuracy: 0.7061\n",
            "Test loss with Neural Network: 59.99430%\n",
            "Test Accuracy with Neural Network: 70.61%\n"
          ]
        }
      ]
    },
    {
      "cell_type": "code",
      "source": [
        "#@title Diagram my neural network architecture\n",
        "\n",
        "model.summary()"
      ],
      "metadata": {
        "colab": {
          "base_uri": "https://localhost:8080/"
        },
        "id": "gyIwPjrsl_Zn",
        "outputId": "6b2d727a-c54e-4844-d424-86d59062e727"
      },
      "execution_count": 239,
      "outputs": [
        {
          "output_type": "stream",
          "name": "stdout",
          "text": [
            "Model: \"sequential_4\"\n",
            "_________________________________________________________________\n",
            " Layer (type)                Output Shape              Param #   \n",
            "=================================================================\n",
            " dense_9 (Dense)             (None, 64)                1344      \n",
            "                                                                 \n",
            " dense_10 (Dense)            (None, 32)                2080      \n",
            "                                                                 \n",
            " dense_11 (Dense)            (None, 1)                 33        \n",
            "                                                                 \n",
            "=================================================================\n",
            "Total params: 3457 (13.50 KB)\n",
            "Trainable params: 3457 (13.50 KB)\n",
            "Non-trainable params: 0 (0.00 Byte)\n",
            "_________________________________________________________________\n"
          ]
        }
      ]
    }
  ]
}