{
  "nbformat": 4,
  "nbformat_minor": 0,
  "metadata": {
    "colab": {
      "provenance": [],
      "include_colab_link": true
    },
    "kernelspec": {
      "name": "python3",
      "display_name": "Python 3"
    },
    "language_info": {
      "name": "python"
    }
  },
  "cells": [
    {
      "cell_type": "markdown",
      "metadata": {
        "id": "view-in-github",
        "colab_type": "text"
      },
      "source": [
        "<a href=\"https://colab.research.google.com/github/yianan261/CS6220/blob/main/Yian_CS6220_HW7.ipynb\" target=\"_parent\"><img src=\"https://colab.research.google.com/assets/colab-badge.svg\" alt=\"Open In Colab\"/></a>"
      ]
    },
    {
      "cell_type": "code",
      "execution_count": 240,
      "metadata": {
        "colab": {
          "base_uri": "https://localhost:8080/"
        },
        "id": "C63skZu1Kol_",
        "outputId": "4652e9dd-3da5-4039-b1e5-34d172bf4575"
      },
      "outputs": [
        {
          "output_type": "stream",
          "name": "stdout",
          "text": [
            "--2023-11-22 01:22:55--  https://course.ccs.neu.edu/cs6220/fall2023/homework-7/data/titanic/titanic.train.csv\n",
            "Resolving course.ccs.neu.edu (course.ccs.neu.edu)... 129.10.117.35\n",
            "Connecting to course.ccs.neu.edu (course.ccs.neu.edu)|129.10.117.35|:443... connected.\n",
            "HTTP request sent, awaiting response... 200 OK\n",
            "Length: 73203 (71K) [text/csv]\n",
            "Saving to: ‘titanic.train.csv.15’\n",
            "\n",
            "titanic.train.csv.1 100%[===================>]  71.49K   197KB/s    in 0.4s    \n",
            "\n",
            "2023-11-22 01:22:57 (197 KB/s) - ‘titanic.train.csv.15’ saved [73203/73203]\n",
            "\n",
            "--2023-11-22 01:22:57--  https://course.ccs.neu.edu/cs6220/fall2023/homework-7/data/titanic/titanic.test.csv\n",
            "Resolving course.ccs.neu.edu (course.ccs.neu.edu)... 129.10.117.35\n",
            "Connecting to course.ccs.neu.edu (course.ccs.neu.edu)|129.10.117.35|:443... connected.\n",
            "HTTP request sent, awaiting response... 200 OK\n",
            "Length: 35145 (34K) [text/csv]\n",
            "Saving to: ‘titanic.test.csv.15’\n",
            "\n",
            "titanic.test.csv.15 100%[===================>]  34.32K   189KB/s    in 0.2s    \n",
            "\n",
            "2023-11-22 01:22:58 (189 KB/s) - ‘titanic.test.csv.15’ saved [35145/35145]\n",
            "\n"
          ]
        }
      ],
      "source": [
        "#@title Download Titanic Data\n",
        "import numpy as np\n",
        "import pandas as pd\n",
        "import matplotlib.pylab as plt\n",
        "%matplotlib inline\n",
        "\n",
        "!wget https://course.ccs.neu.edu/cs6220/fall2023/homework-7/data/titanic/titanic.train.csv\n",
        "!wget https://course.ccs.neu.edu/cs6220/fall2023/homework-7/data/titanic/titanic.test.csv\n",
        "df = pd.read_csv('titanic.train.csv')\n",
        "df_test = pd.read_csv('titanic.test.csv')"
      ]
    },
    {
      "cell_type": "code",
      "source": [
        "df"
      ],
      "metadata": {
        "colab": {
          "base_uri": "https://localhost:8080/",
          "height": 510
        },
        "id": "hmeLb8aqhPC2",
        "outputId": "2041d3c3-76ad-453e-a983-c09bbb42b634"
      },
      "execution_count": 241,
      "outputs": [
        {
          "output_type": "execute_result",
          "data": {
            "text/plain": [
              "     pclass  survived                                               name  \\\n",
              "0         3         1                        Sheerlinck, Mr. Jan Baptist   \n",
              "1         2         1                         Quick, Miss. Winifred Vera   \n",
              "2         1         1                  Pears, Mrs. Thomas (Edith Wearne)   \n",
              "3         1         0                       Crosby, Capt. Edward Gifford   \n",
              "4         3         1             Daly, Miss. Margaret Marcella \"Maggie\"   \n",
              "..      ...       ...                                                ...   \n",
              "886       1         0                         Hays, Mr. Charles Melville   \n",
              "887       3         1  Hakkarainen, Mrs. Pekka Pietari (Elin Matilda ...   \n",
              "888       3         0                                      Ling, Mr. Lee   \n",
              "889       3         0                       Saether, Mr. Simon Sivertsen   \n",
              "890       1         0                                Ringhini, Mr. Sante   \n",
              "\n",
              "        sex   age  sibsp  parch              ticket      fare cabin embarked  \\\n",
              "0      male  29.0      0      0              345779    9.5000   NaN        S   \n",
              "1    female   8.0      1      1               26360   26.0000   NaN        S   \n",
              "2    female  22.0      1      0              113776   66.6000    C2        S   \n",
              "3      male  70.0      1      1           WE/P 5735   71.0000   B22        S   \n",
              "4    female  30.0      0      0              382650    6.9500   NaN        Q   \n",
              "..      ...   ...    ...    ...                 ...       ...   ...      ...   \n",
              "886    male  55.0      1      1               12749   93.5000   B69        S   \n",
              "887  female  24.0      1      0    STON/O2. 3101279   15.8500   NaN        S   \n",
              "888    male  28.0      0      0                1601   56.4958   NaN        S   \n",
              "889    male  38.5      0      0  SOTON/O.Q. 3101262    7.2500   NaN        S   \n",
              "890    male  22.0      0      0            PC 17760  135.6333   NaN        C   \n",
              "\n",
              "    boat   body                         home.dest  \n",
              "0     11    NaN                               NaN  \n",
              "1     11    NaN     Plymouth, Devon / Detroit, MI  \n",
              "2      8    NaN                Isleworth, England  \n",
              "3    NaN  269.0                     Milwaukee, WI  \n",
              "4     15    NaN  Co Athlone, Ireland New York, NY  \n",
              "..   ...    ...                               ...  \n",
              "886  NaN  307.0                      Montreal, PQ  \n",
              "887   15    NaN                               NaN  \n",
              "888  NaN    NaN                               NaN  \n",
              "889  NaN   32.0                               NaN  \n",
              "890  NaN  232.0                               NaN  \n",
              "\n",
              "[891 rows x 14 columns]"
            ],
            "text/html": [
              "\n",
              "  <div id=\"df-c1b9ff26-f6d4-4e8b-ae53-511265682d55\" class=\"colab-df-container\">\n",
              "    <div>\n",
              "<style scoped>\n",
              "    .dataframe tbody tr th:only-of-type {\n",
              "        vertical-align: middle;\n",
              "    }\n",
              "\n",
              "    .dataframe tbody tr th {\n",
              "        vertical-align: top;\n",
              "    }\n",
              "\n",
              "    .dataframe thead th {\n",
              "        text-align: right;\n",
              "    }\n",
              "</style>\n",
              "<table border=\"1\" class=\"dataframe\">\n",
              "  <thead>\n",
              "    <tr style=\"text-align: right;\">\n",
              "      <th></th>\n",
              "      <th>pclass</th>\n",
              "      <th>survived</th>\n",
              "      <th>name</th>\n",
              "      <th>sex</th>\n",
              "      <th>age</th>\n",
              "      <th>sibsp</th>\n",
              "      <th>parch</th>\n",
              "      <th>ticket</th>\n",
              "      <th>fare</th>\n",
              "      <th>cabin</th>\n",
              "      <th>embarked</th>\n",
              "      <th>boat</th>\n",
              "      <th>body</th>\n",
              "      <th>home.dest</th>\n",
              "    </tr>\n",
              "  </thead>\n",
              "  <tbody>\n",
              "    <tr>\n",
              "      <th>0</th>\n",
              "      <td>3</td>\n",
              "      <td>1</td>\n",
              "      <td>Sheerlinck, Mr. Jan Baptist</td>\n",
              "      <td>male</td>\n",
              "      <td>29.0</td>\n",
              "      <td>0</td>\n",
              "      <td>0</td>\n",
              "      <td>345779</td>\n",
              "      <td>9.5000</td>\n",
              "      <td>NaN</td>\n",
              "      <td>S</td>\n",
              "      <td>11</td>\n",
              "      <td>NaN</td>\n",
              "      <td>NaN</td>\n",
              "    </tr>\n",
              "    <tr>\n",
              "      <th>1</th>\n",
              "      <td>2</td>\n",
              "      <td>1</td>\n",
              "      <td>Quick, Miss. Winifred Vera</td>\n",
              "      <td>female</td>\n",
              "      <td>8.0</td>\n",
              "      <td>1</td>\n",
              "      <td>1</td>\n",
              "      <td>26360</td>\n",
              "      <td>26.0000</td>\n",
              "      <td>NaN</td>\n",
              "      <td>S</td>\n",
              "      <td>11</td>\n",
              "      <td>NaN</td>\n",
              "      <td>Plymouth, Devon / Detroit, MI</td>\n",
              "    </tr>\n",
              "    <tr>\n",
              "      <th>2</th>\n",
              "      <td>1</td>\n",
              "      <td>1</td>\n",
              "      <td>Pears, Mrs. Thomas (Edith Wearne)</td>\n",
              "      <td>female</td>\n",
              "      <td>22.0</td>\n",
              "      <td>1</td>\n",
              "      <td>0</td>\n",
              "      <td>113776</td>\n",
              "      <td>66.6000</td>\n",
              "      <td>C2</td>\n",
              "      <td>S</td>\n",
              "      <td>8</td>\n",
              "      <td>NaN</td>\n",
              "      <td>Isleworth, England</td>\n",
              "    </tr>\n",
              "    <tr>\n",
              "      <th>3</th>\n",
              "      <td>1</td>\n",
              "      <td>0</td>\n",
              "      <td>Crosby, Capt. Edward Gifford</td>\n",
              "      <td>male</td>\n",
              "      <td>70.0</td>\n",
              "      <td>1</td>\n",
              "      <td>1</td>\n",
              "      <td>WE/P 5735</td>\n",
              "      <td>71.0000</td>\n",
              "      <td>B22</td>\n",
              "      <td>S</td>\n",
              "      <td>NaN</td>\n",
              "      <td>269.0</td>\n",
              "      <td>Milwaukee, WI</td>\n",
              "    </tr>\n",
              "    <tr>\n",
              "      <th>4</th>\n",
              "      <td>3</td>\n",
              "      <td>1</td>\n",
              "      <td>Daly, Miss. Margaret Marcella \"Maggie\"</td>\n",
              "      <td>female</td>\n",
              "      <td>30.0</td>\n",
              "      <td>0</td>\n",
              "      <td>0</td>\n",
              "      <td>382650</td>\n",
              "      <td>6.9500</td>\n",
              "      <td>NaN</td>\n",
              "      <td>Q</td>\n",
              "      <td>15</td>\n",
              "      <td>NaN</td>\n",
              "      <td>Co Athlone, Ireland New York, NY</td>\n",
              "    </tr>\n",
              "    <tr>\n",
              "      <th>...</th>\n",
              "      <td>...</td>\n",
              "      <td>...</td>\n",
              "      <td>...</td>\n",
              "      <td>...</td>\n",
              "      <td>...</td>\n",
              "      <td>...</td>\n",
              "      <td>...</td>\n",
              "      <td>...</td>\n",
              "      <td>...</td>\n",
              "      <td>...</td>\n",
              "      <td>...</td>\n",
              "      <td>...</td>\n",
              "      <td>...</td>\n",
              "      <td>...</td>\n",
              "    </tr>\n",
              "    <tr>\n",
              "      <th>886</th>\n",
              "      <td>1</td>\n",
              "      <td>0</td>\n",
              "      <td>Hays, Mr. Charles Melville</td>\n",
              "      <td>male</td>\n",
              "      <td>55.0</td>\n",
              "      <td>1</td>\n",
              "      <td>1</td>\n",
              "      <td>12749</td>\n",
              "      <td>93.5000</td>\n",
              "      <td>B69</td>\n",
              "      <td>S</td>\n",
              "      <td>NaN</td>\n",
              "      <td>307.0</td>\n",
              "      <td>Montreal, PQ</td>\n",
              "    </tr>\n",
              "    <tr>\n",
              "      <th>887</th>\n",
              "      <td>3</td>\n",
              "      <td>1</td>\n",
              "      <td>Hakkarainen, Mrs. Pekka Pietari (Elin Matilda ...</td>\n",
              "      <td>female</td>\n",
              "      <td>24.0</td>\n",
              "      <td>1</td>\n",
              "      <td>0</td>\n",
              "      <td>STON/O2. 3101279</td>\n",
              "      <td>15.8500</td>\n",
              "      <td>NaN</td>\n",
              "      <td>S</td>\n",
              "      <td>15</td>\n",
              "      <td>NaN</td>\n",
              "      <td>NaN</td>\n",
              "    </tr>\n",
              "    <tr>\n",
              "      <th>888</th>\n",
              "      <td>3</td>\n",
              "      <td>0</td>\n",
              "      <td>Ling, Mr. Lee</td>\n",
              "      <td>male</td>\n",
              "      <td>28.0</td>\n",
              "      <td>0</td>\n",
              "      <td>0</td>\n",
              "      <td>1601</td>\n",
              "      <td>56.4958</td>\n",
              "      <td>NaN</td>\n",
              "      <td>S</td>\n",
              "      <td>NaN</td>\n",
              "      <td>NaN</td>\n",
              "      <td>NaN</td>\n",
              "    </tr>\n",
              "    <tr>\n",
              "      <th>889</th>\n",
              "      <td>3</td>\n",
              "      <td>0</td>\n",
              "      <td>Saether, Mr. Simon Sivertsen</td>\n",
              "      <td>male</td>\n",
              "      <td>38.5</td>\n",
              "      <td>0</td>\n",
              "      <td>0</td>\n",
              "      <td>SOTON/O.Q. 3101262</td>\n",
              "      <td>7.2500</td>\n",
              "      <td>NaN</td>\n",
              "      <td>S</td>\n",
              "      <td>NaN</td>\n",
              "      <td>32.0</td>\n",
              "      <td>NaN</td>\n",
              "    </tr>\n",
              "    <tr>\n",
              "      <th>890</th>\n",
              "      <td>1</td>\n",
              "      <td>0</td>\n",
              "      <td>Ringhini, Mr. Sante</td>\n",
              "      <td>male</td>\n",
              "      <td>22.0</td>\n",
              "      <td>0</td>\n",
              "      <td>0</td>\n",
              "      <td>PC 17760</td>\n",
              "      <td>135.6333</td>\n",
              "      <td>NaN</td>\n",
              "      <td>C</td>\n",
              "      <td>NaN</td>\n",
              "      <td>232.0</td>\n",
              "      <td>NaN</td>\n",
              "    </tr>\n",
              "  </tbody>\n",
              "</table>\n",
              "<p>891 rows × 14 columns</p>\n",
              "</div>\n",
              "    <div class=\"colab-df-buttons\">\n",
              "\n",
              "  <div class=\"colab-df-container\">\n",
              "    <button class=\"colab-df-convert\" onclick=\"convertToInteractive('df-c1b9ff26-f6d4-4e8b-ae53-511265682d55')\"\n",
              "            title=\"Convert this dataframe to an interactive table.\"\n",
              "            style=\"display:none;\">\n",
              "\n",
              "  <svg xmlns=\"http://www.w3.org/2000/svg\" height=\"24px\" viewBox=\"0 -960 960 960\">\n",
              "    <path d=\"M120-120v-720h720v720H120Zm60-500h600v-160H180v160Zm220 220h160v-160H400v160Zm0 220h160v-160H400v160ZM180-400h160v-160H180v160Zm440 0h160v-160H620v160ZM180-180h160v-160H180v160Zm440 0h160v-160H620v160Z\"/>\n",
              "  </svg>\n",
              "    </button>\n",
              "\n",
              "  <style>\n",
              "    .colab-df-container {\n",
              "      display:flex;\n",
              "      gap: 12px;\n",
              "    }\n",
              "\n",
              "    .colab-df-convert {\n",
              "      background-color: #E8F0FE;\n",
              "      border: none;\n",
              "      border-radius: 50%;\n",
              "      cursor: pointer;\n",
              "      display: none;\n",
              "      fill: #1967D2;\n",
              "      height: 32px;\n",
              "      padding: 0 0 0 0;\n",
              "      width: 32px;\n",
              "    }\n",
              "\n",
              "    .colab-df-convert:hover {\n",
              "      background-color: #E2EBFA;\n",
              "      box-shadow: 0px 1px 2px rgba(60, 64, 67, 0.3), 0px 1px 3px 1px rgba(60, 64, 67, 0.15);\n",
              "      fill: #174EA6;\n",
              "    }\n",
              "\n",
              "    .colab-df-buttons div {\n",
              "      margin-bottom: 4px;\n",
              "    }\n",
              "\n",
              "    [theme=dark] .colab-df-convert {\n",
              "      background-color: #3B4455;\n",
              "      fill: #D2E3FC;\n",
              "    }\n",
              "\n",
              "    [theme=dark] .colab-df-convert:hover {\n",
              "      background-color: #434B5C;\n",
              "      box-shadow: 0px 1px 3px 1px rgba(0, 0, 0, 0.15);\n",
              "      filter: drop-shadow(0px 1px 2px rgba(0, 0, 0, 0.3));\n",
              "      fill: #FFFFFF;\n",
              "    }\n",
              "  </style>\n",
              "\n",
              "    <script>\n",
              "      const buttonEl =\n",
              "        document.querySelector('#df-c1b9ff26-f6d4-4e8b-ae53-511265682d55 button.colab-df-convert');\n",
              "      buttonEl.style.display =\n",
              "        google.colab.kernel.accessAllowed ? 'block' : 'none';\n",
              "\n",
              "      async function convertToInteractive(key) {\n",
              "        const element = document.querySelector('#df-c1b9ff26-f6d4-4e8b-ae53-511265682d55');\n",
              "        const dataTable =\n",
              "          await google.colab.kernel.invokeFunction('convertToInteractive',\n",
              "                                                    [key], {});\n",
              "        if (!dataTable) return;\n",
              "\n",
              "        const docLinkHtml = 'Like what you see? Visit the ' +\n",
              "          '<a target=\"_blank\" href=https://colab.research.google.com/notebooks/data_table.ipynb>data table notebook</a>'\n",
              "          + ' to learn more about interactive tables.';\n",
              "        element.innerHTML = '';\n",
              "        dataTable['output_type'] = 'display_data';\n",
              "        await google.colab.output.renderOutput(dataTable, element);\n",
              "        const docLink = document.createElement('div');\n",
              "        docLink.innerHTML = docLinkHtml;\n",
              "        element.appendChild(docLink);\n",
              "      }\n",
              "    </script>\n",
              "  </div>\n",
              "\n",
              "\n",
              "<div id=\"df-fe632675-4a1a-46cb-bed5-ec41a2eb2320\">\n",
              "  <button class=\"colab-df-quickchart\" onclick=\"quickchart('df-fe632675-4a1a-46cb-bed5-ec41a2eb2320')\"\n",
              "            title=\"Suggest charts\"\n",
              "            style=\"display:none;\">\n",
              "\n",
              "<svg xmlns=\"http://www.w3.org/2000/svg\" height=\"24px\"viewBox=\"0 0 24 24\"\n",
              "     width=\"24px\">\n",
              "    <g>\n",
              "        <path d=\"M19 3H5c-1.1 0-2 .9-2 2v14c0 1.1.9 2 2 2h14c1.1 0 2-.9 2-2V5c0-1.1-.9-2-2-2zM9 17H7v-7h2v7zm4 0h-2V7h2v10zm4 0h-2v-4h2v4z\"/>\n",
              "    </g>\n",
              "</svg>\n",
              "  </button>\n",
              "\n",
              "<style>\n",
              "  .colab-df-quickchart {\n",
              "      --bg-color: #E8F0FE;\n",
              "      --fill-color: #1967D2;\n",
              "      --hover-bg-color: #E2EBFA;\n",
              "      --hover-fill-color: #174EA6;\n",
              "      --disabled-fill-color: #AAA;\n",
              "      --disabled-bg-color: #DDD;\n",
              "  }\n",
              "\n",
              "  [theme=dark] .colab-df-quickchart {\n",
              "      --bg-color: #3B4455;\n",
              "      --fill-color: #D2E3FC;\n",
              "      --hover-bg-color: #434B5C;\n",
              "      --hover-fill-color: #FFFFFF;\n",
              "      --disabled-bg-color: #3B4455;\n",
              "      --disabled-fill-color: #666;\n",
              "  }\n",
              "\n",
              "  .colab-df-quickchart {\n",
              "    background-color: var(--bg-color);\n",
              "    border: none;\n",
              "    border-radius: 50%;\n",
              "    cursor: pointer;\n",
              "    display: none;\n",
              "    fill: var(--fill-color);\n",
              "    height: 32px;\n",
              "    padding: 0;\n",
              "    width: 32px;\n",
              "  }\n",
              "\n",
              "  .colab-df-quickchart:hover {\n",
              "    background-color: var(--hover-bg-color);\n",
              "    box-shadow: 0 1px 2px rgba(60, 64, 67, 0.3), 0 1px 3px 1px rgba(60, 64, 67, 0.15);\n",
              "    fill: var(--button-hover-fill-color);\n",
              "  }\n",
              "\n",
              "  .colab-df-quickchart-complete:disabled,\n",
              "  .colab-df-quickchart-complete:disabled:hover {\n",
              "    background-color: var(--disabled-bg-color);\n",
              "    fill: var(--disabled-fill-color);\n",
              "    box-shadow: none;\n",
              "  }\n",
              "\n",
              "  .colab-df-spinner {\n",
              "    border: 2px solid var(--fill-color);\n",
              "    border-color: transparent;\n",
              "    border-bottom-color: var(--fill-color);\n",
              "    animation:\n",
              "      spin 1s steps(1) infinite;\n",
              "  }\n",
              "\n",
              "  @keyframes spin {\n",
              "    0% {\n",
              "      border-color: transparent;\n",
              "      border-bottom-color: var(--fill-color);\n",
              "      border-left-color: var(--fill-color);\n",
              "    }\n",
              "    20% {\n",
              "      border-color: transparent;\n",
              "      border-left-color: var(--fill-color);\n",
              "      border-top-color: var(--fill-color);\n",
              "    }\n",
              "    30% {\n",
              "      border-color: transparent;\n",
              "      border-left-color: var(--fill-color);\n",
              "      border-top-color: var(--fill-color);\n",
              "      border-right-color: var(--fill-color);\n",
              "    }\n",
              "    40% {\n",
              "      border-color: transparent;\n",
              "      border-right-color: var(--fill-color);\n",
              "      border-top-color: var(--fill-color);\n",
              "    }\n",
              "    60% {\n",
              "      border-color: transparent;\n",
              "      border-right-color: var(--fill-color);\n",
              "    }\n",
              "    80% {\n",
              "      border-color: transparent;\n",
              "      border-right-color: var(--fill-color);\n",
              "      border-bottom-color: var(--fill-color);\n",
              "    }\n",
              "    90% {\n",
              "      border-color: transparent;\n",
              "      border-bottom-color: var(--fill-color);\n",
              "    }\n",
              "  }\n",
              "</style>\n",
              "\n",
              "  <script>\n",
              "    async function quickchart(key) {\n",
              "      const quickchartButtonEl =\n",
              "        document.querySelector('#' + key + ' button');\n",
              "      quickchartButtonEl.disabled = true;  // To prevent multiple clicks.\n",
              "      quickchartButtonEl.classList.add('colab-df-spinner');\n",
              "      try {\n",
              "        const charts = await google.colab.kernel.invokeFunction(\n",
              "            'suggestCharts', [key], {});\n",
              "      } catch (error) {\n",
              "        console.error('Error during call to suggestCharts:', error);\n",
              "      }\n",
              "      quickchartButtonEl.classList.remove('colab-df-spinner');\n",
              "      quickchartButtonEl.classList.add('colab-df-quickchart-complete');\n",
              "    }\n",
              "    (() => {\n",
              "      let quickchartButtonEl =\n",
              "        document.querySelector('#df-fe632675-4a1a-46cb-bed5-ec41a2eb2320 button');\n",
              "      quickchartButtonEl.style.display =\n",
              "        google.colab.kernel.accessAllowed ? 'block' : 'none';\n",
              "    })();\n",
              "  </script>\n",
              "</div>\n",
              "    </div>\n",
              "  </div>\n"
            ]
          },
          "metadata": {},
          "execution_count": 241
        }
      ]
    },
    {
      "cell_type": "markdown",
      "source": [
        "## Preprocess Data\n",
        "Get y_train, y_test, drop unwanted data"
      ],
      "metadata": {
        "id": "G_FS2B56L8xL"
      }
    },
    {
      "cell_type": "code",
      "source": [
        "df.columns"
      ],
      "metadata": {
        "colab": {
          "base_uri": "https://localhost:8080/"
        },
        "id": "HVhb271vWRks",
        "outputId": "b1f66dc1-34d1-4d14-96bb-7aad34786be2"
      },
      "execution_count": 242,
      "outputs": [
        {
          "output_type": "execute_result",
          "data": {
            "text/plain": [
              "Index(['pclass', 'survived', 'name', 'sex', 'age', 'sibsp', 'parch', 'ticket',\n",
              "       'fare', 'cabin', 'embarked', 'boat', 'body', 'home.dest'],\n",
              "      dtype='object')"
            ]
          },
          "metadata": {},
          "execution_count": 242
        }
      ]
    },
    {
      "cell_type": "code",
      "source": [
        "df.replace(\" \", float(\"NaN\"), inplace=True)"
      ],
      "metadata": {
        "id": "TBa-byv4QyRl"
      },
      "execution_count": 243,
      "outputs": []
    },
    {
      "cell_type": "code",
      "source": [
        "df = df.drop(['name','cabin','body','home.dest','ticket','boat'], axis=1)\n",
        "df = df.dropna()"
      ],
      "metadata": {
        "id": "jYA0C3o3tZKh"
      },
      "execution_count": 244,
      "outputs": []
    },
    {
      "cell_type": "code",
      "source": [
        "X_train = df[['pclass','sex','age', 'sibsp','fare','embarked']]\n",
        "y_train = df['survived'].to_numpy()"
      ],
      "metadata": {
        "id": "eoTG492CWOve"
      },
      "execution_count": 245,
      "outputs": []
    },
    {
      "cell_type": "code",
      "source": [
        "df_test = df_test.drop(['name','cabin','home.dest','ticket','Unnamed: 0'], axis=1)\n",
        "df_test = df_test.dropna()"
      ],
      "metadata": {
        "id": "zFpgXT5iQoCl"
      },
      "execution_count": 246,
      "outputs": []
    },
    {
      "cell_type": "code",
      "source": [
        "X_test = df_test[['pclass','sex','age', 'sibsp','fare','embarked']]\n",
        "y_test = df_test['survived'].to_numpy()"
      ],
      "metadata": {
        "id": "I4Wm16NotfPN"
      },
      "execution_count": 247,
      "outputs": []
    },
    {
      "cell_type": "code",
      "source": [
        "#@title Preprocess Data\n",
        "\n",
        "import numpy as np\n",
        "\n",
        "def preprocess(df):\n",
        "\n",
        "  mapping_dict_sex= {'male': 0,'female': 1}\n",
        "\n",
        "  df['sex'] = df['sex'].map(mapping_dict_sex)  # map sex\n",
        "\n",
        "  numerical_df = df[['pclass','fare']]\n",
        "\n",
        "  return numerical_df"
      ],
      "metadata": {
        "id": "MM-9aJ3QwTY0"
      },
      "execution_count": 248,
      "outputs": []
    },
    {
      "cell_type": "code",
      "source": [
        "#@title One-Hot Encoding for Categorical features\n",
        "from sklearn.preprocessing import OneHotEncoder\n",
        "\n",
        "#bins for \"age\"\n",
        "bins_age = [0, 10, 20, 30, 40, 50, 60, 70, 80]\n",
        "labels_age = [f\"{b}-{b+10}\" for b in bins_age[:-1]]\n",
        "X_train['age_binned'] = pd.cut(X_train['age'], bins=bins_age, labels=labels_age, right=False)\n",
        "X_test['age_binned'] = pd.cut(X_test['age'], bins=bins_age, labels=labels_age, right=False)\n",
        "\n",
        "# one-hot encoding for categorical features\n",
        "categorical_columns = ['age_binned','sibsp', 'embarked']\n",
        "categorical_df_train = X_train[categorical_columns]\n",
        "categorical_df_test = X_test[categorical_columns]\n",
        "ohe = OneHotEncoder(sparse_output=False,handle_unknown = 'ignore').fit(categorical_df_train)\n",
        "ohe_features_train = ohe.transform(categorical_df_train)\n",
        "ohe_features_test = ohe.transform(categorical_df_test)"
      ],
      "metadata": {
        "colab": {
          "base_uri": "https://localhost:8080/"
        },
        "id": "u1k6AUFvachF",
        "outputId": "a1c978fc-775f-4643-c0f0-3af087b58d61"
      },
      "execution_count": 249,
      "outputs": [
        {
          "output_type": "stream",
          "name": "stderr",
          "text": [
            "<ipython-input-249-836c2aaca9b6>:7: SettingWithCopyWarning: \n",
            "A value is trying to be set on a copy of a slice from a DataFrame.\n",
            "Try using .loc[row_indexer,col_indexer] = value instead\n",
            "\n",
            "See the caveats in the documentation: https://pandas.pydata.org/pandas-docs/stable/user_guide/indexing.html#returning-a-view-versus-a-copy\n",
            "  X_train['age_binned'] = pd.cut(X_train['age'], bins=bins_age, labels=labels_age, right=False)\n",
            "<ipython-input-249-836c2aaca9b6>:8: SettingWithCopyWarning: \n",
            "A value is trying to be set on a copy of a slice from a DataFrame.\n",
            "Try using .loc[row_indexer,col_indexer] = value instead\n",
            "\n",
            "See the caveats in the documentation: https://pandas.pydata.org/pandas-docs/stable/user_guide/indexing.html#returning-a-view-versus-a-copy\n",
            "  X_test['age_binned'] = pd.cut(X_test['age'], bins=bins_age, labels=labels_age, right=False)\n"
          ]
        }
      ]
    },
    {
      "cell_type": "code",
      "source": [
        "#@title Proprocess and normalize data\n",
        "from sklearn.preprocessing import MinMaxScaler, StandardScaler\n",
        "\n",
        "train_numerical_df = preprocess(X_train)\n",
        "\n",
        "# normalize numerical data\n",
        "scaler = MinMaxScaler().fit(train_numerical_df)\n",
        "train_numerical_features = scaler.transform(train_numerical_df)\n",
        "\n",
        "test_numerical_df = preprocess(X_test)\n",
        "test_numerical_features = scaler.transform(test_numerical_df)\n",
        "print(\"train_num_feature shape\",train_numerical_features.shape)\n",
        "print(\"train_data_ohe\",ohe_features_train.shape)\n",
        "print(\"test_numerical_features\",test_numerical_features.shape)\n",
        "print(\"test_data_ohe\",ohe_features_test.shape)\n",
        "\n",
        "train_X = np.hstack((train_numerical_features, ohe_features_train)) # stack numerical and one-hot encoded features\n",
        "test_X = np.hstack((test_numerical_features, ohe_features_test))\n"
      ],
      "metadata": {
        "id": "-GCVwpv-uf3S",
        "colab": {
          "base_uri": "https://localhost:8080/"
        },
        "outputId": "439ad3ea-d30a-48f1-a59a-f9f8b46ca930"
      },
      "execution_count": 250,
      "outputs": [
        {
          "output_type": "stream",
          "name": "stdout",
          "text": [
            "train_num_feature shape (696, 2)\n",
            "train_data_ohe (696, 18)\n",
            "test_numerical_features (347, 2)\n",
            "test_data_ohe (347, 18)\n"
          ]
        },
        {
          "output_type": "stream",
          "name": "stderr",
          "text": [
            "<ipython-input-248-a1107e8090fa>:9: SettingWithCopyWarning: \n",
            "A value is trying to be set on a copy of a slice from a DataFrame.\n",
            "Try using .loc[row_indexer,col_indexer] = value instead\n",
            "\n",
            "See the caveats in the documentation: https://pandas.pydata.org/pandas-docs/stable/user_guide/indexing.html#returning-a-view-versus-a-copy\n",
            "  df['sex'] = df['sex'].map(mapping_dict_sex)  # map sex\n",
            "<ipython-input-248-a1107e8090fa>:9: SettingWithCopyWarning: \n",
            "A value is trying to be set on a copy of a slice from a DataFrame.\n",
            "Try using .loc[row_indexer,col_indexer] = value instead\n",
            "\n",
            "See the caveats in the documentation: https://pandas.pydata.org/pandas-docs/stable/user_guide/indexing.html#returning-a-view-versus-a-copy\n",
            "  df['sex'] = df['sex'].map(mapping_dict_sex)  # map sex\n"
          ]
        }
      ]
    },
    {
      "cell_type": "markdown",
      "source": [
        "Give binary cross-entropy cost function:\n",
        "$\\mathcal{L}(W, b) = -\\sum_i y_i \\log h_{W,b}(\\textbf{x}) + (1 - y_i) \\log (1 - h_{W,b}(\\textbf{x}))$\n",
        "\n",
        "\n",
        "where $$h_{W,b}(\\textbf{x}) = \\hat{\\textbf{y}} = \\sigma ( W^T \\textbf{x} + \\textbf{b} )$$\n",
        "\n",
        "where $ \\sigma(z) = \\frac{1}{1 + e^{-z}} $\n"
      ],
      "metadata": {
        "id": "BZ-gM8xMVTQX"
      }
    },
    {
      "cell_type": "code",
      "source": [
        "#@title Sigmoid function and binary cross-entropy cost function\n",
        "\n",
        "def sigmoid(z):\n",
        "  return 1/(1+np.exp(-z))\n",
        "\n",
        "def logreg(W, x, b):\n",
        "  return sigmoid(((W @ x.T).T + b))\n",
        "\n",
        "def costfxn(W, x, y, b):\n",
        "  yhat = logreg(W, x, b)\n",
        "  return -np.sum(y*np.log(yhat)+ (1-y)*np.log(1-yhat))"
      ],
      "metadata": {
        "id": "e6_s9_elTWbF"
      },
      "execution_count": 251,
      "outputs": []
    },
    {
      "cell_type": "code",
      "source": [
        "#@title Gradient descent\n",
        "\n",
        "def gradW(y, W, x, b):\n",
        "  '''\n",
        "  Calculate the gradient w/r/t W\n",
        "\n",
        "  Args:\n",
        "    * y: N x m matrix\n",
        "    * W: m x d matrix\n",
        "    * x: N x d matrix of data\n",
        "    * b: m offsite vector\n",
        "\n",
        "  Returns:\n",
        "    * gradient of size m x d\n",
        "  '''\n",
        "  yhat = logreg(W, x, b)\n",
        "  return (np.expand_dims(yhat - y, 2) * np.expand_dims(x, 1)).sum(axis=0)\n",
        "\n",
        "\n",
        "def gradb(y, W, x, b):\n",
        "  '''\n",
        "  Calculate the gradient w/r/t b\n",
        "\n",
        "  Args:\n",
        "    * y: N x m matrix\n",
        "    * W: m x d matrix\n",
        "    * x: N x d matrix of data\n",
        "    * b: m offset vector\n",
        "\n",
        "  Returns:\n",
        "    * gradient of size N x m\n",
        "  '''\n",
        "  yhat = logreg(W, x, b)\n",
        "  return (yhat - y).sum(axis=0)\n"
      ],
      "metadata": {
        "id": "KNUfwv1yjB2W"
      },
      "execution_count": 252,
      "outputs": []
    },
    {
      "cell_type": "code",
      "source": [
        "#@title Train model\n",
        "from sklearn.linear_model import LogisticRegression\n",
        "\n",
        "model_logistic = LogisticRegression(random_state=123)\n",
        "\n",
        "model_logistic.fit(train_X, y_train)\n",
        "\n",
        "print(\"test_X\",test_X.shape)\n",
        "print(\"train_X\",train_X.shape)\n",
        "train_preds = model_logistic.predict(train_X)\n",
        "test_preds = model_logistic.predict(test_X)\n",
        "\n",
        "# Calculate accuracy\n",
        "train_accuracy = np.sum(train_preds == y_train) / len(y_train)\n",
        "test_accuracy = np.sum(test_preds == y_test) / len(y_test)\n",
        "\n",
        "# Print accuracies and cost\n",
        "print(f\"Training Accuracy with threshold of 0.5: {train_accuracy:.2%}\")\n",
        "print(f\"Test Accuracy with threshold of 0.5: {test_accuracy:.2%}\")\n",
        "print(f\"Features included ['pclass','sex','age', 'sibsp','fare','embarked']\")"
      ],
      "metadata": {
        "colab": {
          "base_uri": "https://localhost:8080/"
        },
        "id": "m92vSJBkR6kH",
        "outputId": "ff0f95f7-a08a-410f-b369-9e4c2e88750e"
      },
      "execution_count": 253,
      "outputs": [
        {
          "output_type": "stream",
          "name": "stdout",
          "text": [
            "test_X (347, 20)\n",
            "train_X (696, 20)\n",
            "Training Accuracy with threshold of 0.5: 70.55%\n",
            "Test Accuracy with threshold of 0.5: 72.05%\n",
            "Features included ['pclass','sex','age', 'sibsp','fare','embarked']\n"
          ]
        }
      ]
    },
    {
      "cell_type": "code",
      "source": [
        "#@title Optimize with Gradient Descent\n",
        "# Parameters\n",
        "num_iters = 1000\n",
        "batch_size = 256\n",
        "num_labels = 1\n",
        "N,d = train_X.shape #where N is number of instances, d is number of features\n",
        "learn_rate = 0.001\n",
        "random_range = np.random.default_rng(N)\n",
        "\n",
        "# Randomly initialize\n",
        "W = np.random.randn(num_labels, d)\n",
        "b = np.random.randn(num_labels)\n",
        "\n",
        "# Iterate through num_iters\n",
        "L = []\n",
        "for i in range(num_iters):\n",
        "\n",
        "  # Take a random training sample\n",
        "  rand_sample = random_range.integers(low=0, high=N-1, size=batch_size)\n",
        "\n",
        "  # Features\n",
        "  xtrain_batch = train_X[rand_sample]\n",
        "\n",
        "  ytrain_batch = y_train[rand_sample].reshape((batch_size,1))\n",
        "\n",
        "  # Calculate cost function and the gradient\n",
        "  W -= learn_rate * gradW(ytrain_batch, W, xtrain_batch, b)\n",
        "  b -= learn_rate * gradb(ytrain_batch, W, xtrain_batch, b)\n",
        "\n",
        "  L.append(costfxn(W,xtrain_batch,ytrain_batch, b))\n",
        "\n",
        "yhat = logreg(W, xtrain_batch, b)\n",
        "plt.plot(L)\n",
        "plt.xlabel('Iteration Number')\n",
        "plt.ylabel('Loss Value')"
      ],
      "metadata": {
        "colab": {
          "base_uri": "https://localhost:8080/",
          "height": 466
        },
        "id": "6dlyi34acu5l",
        "outputId": "0b02b948-debe-4390-c746-1a4c3afcc18e"
      },
      "execution_count": 254,
      "outputs": [
        {
          "output_type": "execute_result",
          "data": {
            "text/plain": [
              "Text(0, 0.5, 'Loss Value')"
            ]
          },
          "metadata": {},
          "execution_count": 254
        },
        {
          "output_type": "display_data",
          "data": {
            "text/plain": [
              "<Figure size 640x480 with 1 Axes>"
            ],
            "image/png": "[encoded data removed]"
          },
          "metadata": {}
        }
      ]
    },
    {
      "cell_type": "code",
      "source": [
        "from tensorflow.keras.models import Sequential\n",
        "from tensorflow.keras.layers import Dense\n",
        "\n",
        "# Create a neural network model\n",
        "model = Sequential()\n",
        "\n",
        "model.add(Dense(units=64, activation='relu', input_dim=d))\n",
        "model.add(Dense(units=32, activation='relu'))\n",
        "model.add(Dense(units=1, activation='sigmoid'))\n",
        "\n",
        "model.compile(loss=\"binary_crossentropy\", optimizer=\"adam\", metrics=[\"accuracy\"])"
      ],
      "metadata": {
        "id": "zEgQmfgcfkzf"
      },
      "execution_count": 255,
      "outputs": []
    },
    {
      "cell_type": "code",
      "source": [
        "model.fit(train_X, y_train, epochs=15, batch_size=256, validation_data=(test_X, y_test))"
      ],
      "metadata": {
        "colab": {
          "base_uri": "https://localhost:8080/"
        },
        "id": "QfpnisoPhc79",
        "outputId": "998f176f-8299-4924-a43d-0547a54e39b0"
      },
      "execution_count": 256,
      "outputs": [
        {
          "output_type": "stream",
          "name": "stdout",
          "text": [
            "Epoch 1/15\n",
            "3/3 [==============================] - 1s 116ms/step - loss: 0.7009 - accuracy: 0.4382 - val_loss: 0.6915 - val_accuracy: 0.6167\n",
            "Epoch 2/15\n",
            "3/3 [==============================] - 0s 19ms/step - loss: 0.6851 - accuracy: 0.5920 - val_loss: 0.6720 - val_accuracy: 0.6484\n",
            "Epoch 3/15\n",
            "3/3 [==============================] - 0s 20ms/step - loss: 0.6731 - accuracy: 0.6135 - val_loss: 0.6569 - val_accuracy: 0.6571\n",
            "Epoch 4/15\n",
            "3/3 [==============================] - 0s 19ms/step - loss: 0.6648 - accuracy: 0.6279 - val_loss: 0.6449 - val_accuracy: 0.6599\n",
            "Epoch 5/15\n",
            "3/3 [==============================] - 0s 29ms/step - loss: 0.6587 - accuracy: 0.6149 - val_loss: 0.6356 - val_accuracy: 0.6657\n",
            "Epoch 6/15\n",
            "3/3 [==============================] - 0s 19ms/step - loss: 0.6527 - accuracy: 0.6193 - val_loss: 0.6288 - val_accuracy: 0.6657\n",
            "Epoch 7/15\n",
            "3/3 [==============================] - 0s 27ms/step - loss: 0.6490 - accuracy: 0.6221 - val_loss: 0.6229 - val_accuracy: 0.6772\n",
            "Epoch 8/15\n",
            "3/3 [==============================] - 0s 23ms/step - loss: 0.6452 - accuracy: 0.6250 - val_loss: 0.6186 - val_accuracy: 0.6744\n",
            "Epoch 9/15\n",
            "3/3 [==============================] - 0s 27ms/step - loss: 0.6411 - accuracy: 0.6279 - val_loss: 0.6149 - val_accuracy: 0.6830\n",
            "Epoch 10/15\n",
            "3/3 [==============================] - 0s 20ms/step - loss: 0.6375 - accuracy: 0.6422 - val_loss: 0.6123 - val_accuracy: 0.6830\n",
            "Epoch 11/15\n",
            "3/3 [==============================] - 0s 20ms/step - loss: 0.6341 - accuracy: 0.6494 - val_loss: 0.6109 - val_accuracy: 0.6830\n",
            "Epoch 12/15\n",
            "3/3 [==============================] - 0s 28ms/step - loss: 0.6305 - accuracy: 0.6552 - val_loss: 0.6088 - val_accuracy: 0.6801\n",
            "Epoch 13/15\n",
            "3/3 [==============================] - 0s 29ms/step - loss: 0.6275 - accuracy: 0.6566 - val_loss: 0.6070 - val_accuracy: 0.6772\n",
            "Epoch 14/15\n",
            "3/3 [==============================] - 0s 20ms/step - loss: 0.6244 - accuracy: 0.6638 - val_loss: 0.6058 - val_accuracy: 0.6888\n",
            "Epoch 15/15\n",
            "3/3 [==============================] - 0s 22ms/step - loss: 0.6213 - accuracy: 0.6753 - val_loss: 0.6039 - val_accuracy: 0.6888\n"
          ]
        },
        {
          "output_type": "execute_result",
          "data": {
            "text/plain": [
              "<keras.src.callbacks.History at 0x7c9412bc6740>"
            ]
          },
          "metadata": {},
          "execution_count": 256
        }
      ]
    },
    {
      "cell_type": "code",
      "source": [
        "# Evaluate the model\n",
        "test_loss, test_accuracy = model.evaluate(test_X, y_test, batch_size=256)\n",
        "print(f\"Test loss with Neural Network: {test_loss:.5%}\")\n",
        "print(f\"Test Accuracy with Neural Network: {test_accuracy:.2%}\")"
      ],
      "metadata": {
        "colab": {
          "base_uri": "https://localhost:8080/"
        },
        "id": "fVWUCeUliXDE",
        "outputId": "5a5c215b-6bfd-40bb-e412-ebf2b2a42ea1"
      },
      "execution_count": 257,
      "outputs": [
        {
          "output_type": "stream",
          "name": "stdout",
          "text": [
            "2/2 [==============================] - 0s 7ms/step - loss: 0.6039 - accuracy: 0.6888\n",
            "Test loss with Neural Network: 60.39035%\n",
            "Test Accuracy with Neural Network: 68.88%\n"
          ]
        }
      ]
    },
    {
      "cell_type": "code",
      "source": [
        "#@title Diagram my neural network architecture\n",
        "\n",
        "model.summary()"
      ],
      "metadata": {
        "colab": {
          "base_uri": "https://localhost:8080/"
        },
        "id": "gyIwPjrsl_Zn",
        "outputId": "39bdfc8a-14e8-4369-f7e9-ea06c35c9c51"
      },
      "execution_count": 258,
      "outputs": [
        {
          "output_type": "stream",
          "name": "stdout",
          "text": [
            "Model: \"sequential_5\"\n",
            "_________________________________________________________________\n",
            " Layer (type)                Output Shape              Param #   \n",
            "=================================================================\n",
            " dense_12 (Dense)            (None, 64)                1344      \n",
            "                                                                 \n",
            " dense_13 (Dense)            (None, 32)                2080      \n",
            "                                                                 \n",
            " dense_14 (Dense)            (None, 1)                 33        \n",
            "                                                                 \n",
            "=================================================================\n",
            "Total params: 3457 (13.50 KB)\n",
            "Trainable params: 3457 (13.50 KB)\n",
            "Non-trainable params: 0 (0.00 Byte)\n",
            "_________________________________________________________________\n"
          ]
        }
      ]
    }
  ]
}