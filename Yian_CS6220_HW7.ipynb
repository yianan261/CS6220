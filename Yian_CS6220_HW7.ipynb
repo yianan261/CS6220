{
  "nbformat": 4,
  "nbformat_minor": 0,
  "metadata": {
    "colab": {
      "provenance": [],
      "include_colab_link": true
    },
    "kernelspec": {
      "name": "python3",
      "display_name": "Python 3"
    },
    "language_info": {
      "name": "python"
    }
  },
  "cells": [
    {
      "cell_type": "markdown",
      "metadata": {
        "id": "view-in-github",
        "colab_type": "text"
      },
      "source": [
        "<a href=\"https://colab.research.google.com/github/yianan261/CS6220/blob/main/Yian_CS6220_HW7.ipynb\" target=\"_parent\"><img src=\"https://colab.research.google.com/assets/colab-badge.svg\" alt=\"Open In Colab\"/></a>"
      ]
    },
    {
      "cell_type": "code",
      "execution_count": 132,
      "metadata": {
        "colab": {
          "base_uri": "https://localhost:8080/"
        },
        "id": "C63skZu1Kol_",
        "outputId": "846293d1-261d-406c-cac5-424633fa3a0c"
      },
      "outputs": [
        {
          "output_type": "stream",
          "name": "stdout",
          "text": [
            "--2023-11-22 07:55:18--  https://course.ccs.neu.edu/cs6220/fall2023/homework-7/data/titanic/titanic.train.csv\n",
            "Resolving course.ccs.neu.edu (course.ccs.neu.edu)... 129.10.117.35\n",
            "Connecting to course.ccs.neu.edu (course.ccs.neu.edu)|129.10.117.35|:443... connected.\n",
            "HTTP request sent, awaiting response... 200 OK\n",
            "Length: 73203 (71K) [text/csv]\n",
            "Saving to: ‘titanic.train.csv.6’\n",
            "\n",
            "\rtitanic.train.csv.6   0%[                    ]       0  --.-KB/s               \rtitanic.train.csv.6 100%[===================>]  71.49K  --.-KB/s    in 0.07s   \n",
            "\n",
            "2023-11-22 07:55:19 (1.02 MB/s) - ‘titanic.train.csv.6’ saved [73203/73203]\n",
            "\n",
            "--2023-11-22 07:55:19--  https://course.ccs.neu.edu/cs6220/fall2023/homework-7/data/titanic/titanic.test.csv\n",
            "Resolving course.ccs.neu.edu (course.ccs.neu.edu)... 129.10.117.35\n",
            "Connecting to course.ccs.neu.edu (course.ccs.neu.edu)|129.10.117.35|:443... connected.\n",
            "HTTP request sent, awaiting response... 200 OK\n",
            "Length: 35145 (34K) [text/csv]\n",
            "Saving to: ‘titanic.test.csv.6’\n",
            "\n",
            "titanic.test.csv.6  100%[===================>]  34.32K  --.-KB/s    in 0.02s   \n",
            "\n",
            "2023-11-22 07:55:19 (1.47 MB/s) - ‘titanic.test.csv.6’ saved [35145/35145]\n",
            "\n"
          ]
        }
      ],
      "source": [
        "#@title Download Titanic Data\n",
        "import numpy as np\n",
        "import pandas as pd\n",
        "import matplotlib.pylab as plt\n",
        "%matplotlib inline\n",
        "\n",
        "!wget https://course.ccs.neu.edu/cs6220/fall2023/homework-7/data/titanic/titanic.train.csv\n",
        "!wget https://course.ccs.neu.edu/cs6220/fall2023/homework-7/data/titanic/titanic.test.csv\n",
        "df = pd.read_csv('titanic.train.csv')\n",
        "df_test = pd.read_csv('titanic.test.csv')"
      ]
    },
    {
      "cell_type": "code",
      "source": [
        "df"
      ],
      "metadata": {
        "colab": {
          "base_uri": "https://localhost:8080/",
          "height": 510
        },
        "id": "hmeLb8aqhPC2",
        "outputId": "d9b14270-3bf1-4f45-8ba8-e5ff2fc9a836"
      },
      "execution_count": 133,
      "outputs": [
        {
          "output_type": "execute_result",
          "data": {
            "text/plain": [
              "     pclass  survived                                               name  \\\n",
              "0         3         1                        Sheerlinck, Mr. Jan Baptist   \n",
              "1         2         1                         Quick, Miss. Winifred Vera   \n",
              "2         1         1                  Pears, Mrs. Thomas (Edith Wearne)   \n",
              "3         1         0                       Crosby, Capt. Edward Gifford   \n",
              "4         3         1             Daly, Miss. Margaret Marcella \"Maggie\"   \n",
              "..      ...       ...                                                ...   \n",
              "886       1         0                         Hays, Mr. Charles Melville   \n",
              "887       3         1  Hakkarainen, Mrs. Pekka Pietari (Elin Matilda ...   \n",
              "888       3         0                                      Ling, Mr. Lee   \n",
              "889       3         0                       Saether, Mr. Simon Sivertsen   \n",
              "890       1         0                                Ringhini, Mr. Sante   \n",
              "\n",
              "        sex   age  sibsp  parch              ticket      fare cabin embarked  \\\n",
              "0      male  29.0      0      0              345779    9.5000   NaN        S   \n",
              "1    female   8.0      1      1               26360   26.0000   NaN        S   \n",
              "2    female  22.0      1      0              113776   66.6000    C2        S   \n",
              "3      male  70.0      1      1           WE/P 5735   71.0000   B22        S   \n",
              "4    female  30.0      0      0              382650    6.9500   NaN        Q   \n",
              "..      ...   ...    ...    ...                 ...       ...   ...      ...   \n",
              "886    male  55.0      1      1               12749   93.5000   B69        S   \n",
              "887  female  24.0      1      0    STON/O2. 3101279   15.8500   NaN        S   \n",
              "888    male  28.0      0      0                1601   56.4958   NaN        S   \n",
              "889    male  38.5      0      0  SOTON/O.Q. 3101262    7.2500   NaN        S   \n",
              "890    male  22.0      0      0            PC 17760  135.6333   NaN        C   \n",
              "\n",
              "    boat   body                         home.dest  \n",
              "0     11    NaN                               NaN  \n",
              "1     11    NaN     Plymouth, Devon / Detroit, MI  \n",
              "2      8    NaN                Isleworth, England  \n",
              "3    NaN  269.0                     Milwaukee, WI  \n",
              "4     15    NaN  Co Athlone, Ireland New York, NY  \n",
              "..   ...    ...                               ...  \n",
              "886  NaN  307.0                      Montreal, PQ  \n",
              "887   15    NaN                               NaN  \n",
              "888  NaN    NaN                               NaN  \n",
              "889  NaN   32.0                               NaN  \n",
              "890  NaN  232.0                               NaN  \n",
              "\n",
              "[891 rows x 14 columns]"
            ],
            "text/html": [
              "\n",
              "  <div id=\"df-56fddbe9-5a04-4484-aadb-5c39cd1729e5\" class=\"colab-df-container\">\n",
              "    <div>\n",
              "<style scoped>\n",
              "    .dataframe tbody tr th:only-of-type {\n",
              "        vertical-align: middle;\n",
              "    }\n",
              "\n",
              "    .dataframe tbody tr th {\n",
              "        vertical-align: top;\n",
              "    }\n",
              "\n",
              "    .dataframe thead th {\n",
              "        text-align: right;\n",
              "    }\n",
              "</style>\n",
              "<table border=\"1\" class=\"dataframe\">\n",
              "  <thead>\n",
              "    <tr style=\"text-align: right;\">\n",
              "      <th></th>\n",
              "      <th>pclass</th>\n",
              "      <th>survived</th>\n",
              "      <th>name</th>\n",
              "      <th>sex</th>\n",
              "      <th>age</th>\n",
              "      <th>sibsp</th>\n",
              "      <th>parch</th>\n",
              "      <th>ticket</th>\n",
              "      <th>fare</th>\n",
              "      <th>cabin</th>\n",
              "      <th>embarked</th>\n",
              "      <th>boat</th>\n",
              "      <th>body</th>\n",
              "      <th>home.dest</th>\n",
              "    </tr>\n",
              "  </thead>\n",
              "  <tbody>\n",
              "    <tr>\n",
              "      <th>0</th>\n",
              "      <td>3</td>\n",
              "      <td>1</td>\n",
              "      <td>Sheerlinck, Mr. Jan Baptist</td>\n",
              "      <td>male</td>\n",
              "      <td>29.0</td>\n",
              "      <td>0</td>\n",
              "      <td>0</td>\n",
              "      <td>345779</td>\n",
              "      <td>9.5000</td>\n",
              "      <td>NaN</td>\n",
              "      <td>S</td>\n",
              "      <td>11</td>\n",
              "      <td>NaN</td>\n",
              "      <td>NaN</td>\n",
              "    </tr>\n",
              "    <tr>\n",
              "      <th>1</th>\n",
              "      <td>2</td>\n",
              "      <td>1</td>\n",
              "      <td>Quick, Miss. Winifred Vera</td>\n",
              "      <td>female</td>\n",
              "      <td>8.0</td>\n",
              "      <td>1</td>\n",
              "      <td>1</td>\n",
              "      <td>26360</td>\n",
              "      <td>26.0000</td>\n",
              "      <td>NaN</td>\n",
              "      <td>S</td>\n",
              "      <td>11</td>\n",
              "      <td>NaN</td>\n",
              "      <td>Plymouth, Devon / Detroit, MI</td>\n",
              "    </tr>\n",
              "    <tr>\n",
              "      <th>2</th>\n",
              "      <td>1</td>\n",
              "      <td>1</td>\n",
              "      <td>Pears, Mrs. Thomas (Edith Wearne)</td>\n",
              "      <td>female</td>\n",
              "      <td>22.0</td>\n",
              "      <td>1</td>\n",
              "      <td>0</td>\n",
              "      <td>113776</td>\n",
              "      <td>66.6000</td>\n",
              "      <td>C2</td>\n",
              "      <td>S</td>\n",
              "      <td>8</td>\n",
              "      <td>NaN</td>\n",
              "      <td>Isleworth, England</td>\n",
              "    </tr>\n",
              "    <tr>\n",
              "      <th>3</th>\n",
              "      <td>1</td>\n",
              "      <td>0</td>\n",
              "      <td>Crosby, Capt. Edward Gifford</td>\n",
              "      <td>male</td>\n",
              "      <td>70.0</td>\n",
              "      <td>1</td>\n",
              "      <td>1</td>\n",
              "      <td>WE/P 5735</td>\n",
              "      <td>71.0000</td>\n",
              "      <td>B22</td>\n",
              "      <td>S</td>\n",
              "      <td>NaN</td>\n",
              "      <td>269.0</td>\n",
              "      <td>Milwaukee, WI</td>\n",
              "    </tr>\n",
              "    <tr>\n",
              "      <th>4</th>\n",
              "      <td>3</td>\n",
              "      <td>1</td>\n",
              "      <td>Daly, Miss. Margaret Marcella \"Maggie\"</td>\n",
              "      <td>female</td>\n",
              "      <td>30.0</td>\n",
              "      <td>0</td>\n",
              "      <td>0</td>\n",
              "      <td>382650</td>\n",
              "      <td>6.9500</td>\n",
              "      <td>NaN</td>\n",
              "      <td>Q</td>\n",
              "      <td>15</td>\n",
              "      <td>NaN</td>\n",
              "      <td>Co Athlone, Ireland New York, NY</td>\n",
              "    </tr>\n",
              "    <tr>\n",
              "      <th>...</th>\n",
              "      <td>...</td>\n",
              "      <td>...</td>\n",
              "      <td>...</td>\n",
              "      <td>...</td>\n",
              "      <td>...</td>\n",
              "      <td>...</td>\n",
              "      <td>...</td>\n",
              "      <td>...</td>\n",
              "      <td>...</td>\n",
              "      <td>...</td>\n",
              "      <td>...</td>\n",
              "      <td>...</td>\n",
              "      <td>...</td>\n",
              "      <td>...</td>\n",
              "    </tr>\n",
              "    <tr>\n",
              "      <th>886</th>\n",
              "      <td>1</td>\n",
              "      <td>0</td>\n",
              "      <td>Hays, Mr. Charles Melville</td>\n",
              "      <td>male</td>\n",
              "      <td>55.0</td>\n",
              "      <td>1</td>\n",
              "      <td>1</td>\n",
              "      <td>12749</td>\n",
              "      <td>93.5000</td>\n",
              "      <td>B69</td>\n",
              "      <td>S</td>\n",
              "      <td>NaN</td>\n",
              "      <td>307.0</td>\n",
              "      <td>Montreal, PQ</td>\n",
              "    </tr>\n",
              "    <tr>\n",
              "      <th>887</th>\n",
              "      <td>3</td>\n",
              "      <td>1</td>\n",
              "      <td>Hakkarainen, Mrs. Pekka Pietari (Elin Matilda ...</td>\n",
              "      <td>female</td>\n",
              "      <td>24.0</td>\n",
              "      <td>1</td>\n",
              "      <td>0</td>\n",
              "      <td>STON/O2. 3101279</td>\n",
              "      <td>15.8500</td>\n",
              "      <td>NaN</td>\n",
              "      <td>S</td>\n",
              "      <td>15</td>\n",
              "      <td>NaN</td>\n",
              "      <td>NaN</td>\n",
              "    </tr>\n",
              "    <tr>\n",
              "      <th>888</th>\n",
              "      <td>3</td>\n",
              "      <td>0</td>\n",
              "      <td>Ling, Mr. Lee</td>\n",
              "      <td>male</td>\n",
              "      <td>28.0</td>\n",
              "      <td>0</td>\n",
              "      <td>0</td>\n",
              "      <td>1601</td>\n",
              "      <td>56.4958</td>\n",
              "      <td>NaN</td>\n",
              "      <td>S</td>\n",
              "      <td>NaN</td>\n",
              "      <td>NaN</td>\n",
              "      <td>NaN</td>\n",
              "    </tr>\n",
              "    <tr>\n",
              "      <th>889</th>\n",
              "      <td>3</td>\n",
              "      <td>0</td>\n",
              "      <td>Saether, Mr. Simon Sivertsen</td>\n",
              "      <td>male</td>\n",
              "      <td>38.5</td>\n",
              "      <td>0</td>\n",
              "      <td>0</td>\n",
              "      <td>SOTON/O.Q. 3101262</td>\n",
              "      <td>7.2500</td>\n",
              "      <td>NaN</td>\n",
              "      <td>S</td>\n",
              "      <td>NaN</td>\n",
              "      <td>32.0</td>\n",
              "      <td>NaN</td>\n",
              "    </tr>\n",
              "    <tr>\n",
              "      <th>890</th>\n",
              "      <td>1</td>\n",
              "      <td>0</td>\n",
              "      <td>Ringhini, Mr. Sante</td>\n",
              "      <td>male</td>\n",
              "      <td>22.0</td>\n",
              "      <td>0</td>\n",
              "      <td>0</td>\n",
              "      <td>PC 17760</td>\n",
              "      <td>135.6333</td>\n",
              "      <td>NaN</td>\n",
              "      <td>C</td>\n",
              "      <td>NaN</td>\n",
              "      <td>232.0</td>\n",
              "      <td>NaN</td>\n",
              "    </tr>\n",
              "  </tbody>\n",
              "</table>\n",
              "<p>891 rows × 14 columns</p>\n",
              "</div>\n",
              "    <div class=\"colab-df-buttons\">\n",
              "\n",
              "  <div class=\"colab-df-container\">\n",
              "    <button class=\"colab-df-convert\" onclick=\"convertToInteractive('df-56fddbe9-5a04-4484-aadb-5c39cd1729e5')\"\n",
              "            title=\"Convert this dataframe to an interactive table.\"\n",
              "            style=\"display:none;\">\n",
              "\n",
              "  <svg xmlns=\"http://www.w3.org/2000/svg\" height=\"24px\" viewBox=\"0 -960 960 960\">\n",
              "    <path d=\"M120-120v-720h720v720H120Zm60-500h600v-160H180v160Zm220 220h160v-160H400v160Zm0 220h160v-160H400v160ZM180-400h160v-160H180v160Zm440 0h160v-160H620v160ZM180-180h160v-160H180v160Zm440 0h160v-160H620v160Z\"/>\n",
              "  </svg>\n",
              "    </button>\n",
              "\n",
              "  <style>\n",
              "    .colab-df-container {\n",
              "      display:flex;\n",
              "      gap: 12px;\n",
              "    }\n",
              "\n",
              "    .colab-df-convert {\n",
              "      background-color: #E8F0FE;\n",
              "      border: none;\n",
              "      border-radius: 50%;\n",
              "      cursor: pointer;\n",
              "      display: none;\n",
              "      fill: #1967D2;\n",
              "      height: 32px;\n",
              "      padding: 0 0 0 0;\n",
              "      width: 32px;\n",
              "    }\n",
              "\n",
              "    .colab-df-convert:hover {\n",
              "      background-color: #E2EBFA;\n",
              "      box-shadow: 0px 1px 2px rgba(60, 64, 67, 0.3), 0px 1px 3px 1px rgba(60, 64, 67, 0.15);\n",
              "      fill: #174EA6;\n",
              "    }\n",
              "\n",
              "    .colab-df-buttons div {\n",
              "      margin-bottom: 4px;\n",
              "    }\n",
              "\n",
              "    [theme=dark] .colab-df-convert {\n",
              "      background-color: #3B4455;\n",
              "      fill: #D2E3FC;\n",
              "    }\n",
              "\n",
              "    [theme=dark] .colab-df-convert:hover {\n",
              "      background-color: #434B5C;\n",
              "      box-shadow: 0px 1px 3px 1px rgba(0, 0, 0, 0.15);\n",
              "      filter: drop-shadow(0px 1px 2px rgba(0, 0, 0, 0.3));\n",
              "      fill: #FFFFFF;\n",
              "    }\n",
              "  </style>\n",
              "\n",
              "    <script>\n",
              "      const buttonEl =\n",
              "        document.querySelector('#df-56fddbe9-5a04-4484-aadb-5c39cd1729e5 button.colab-df-convert');\n",
              "      buttonEl.style.display =\n",
              "        google.colab.kernel.accessAllowed ? 'block' : 'none';\n",
              "\n",
              "      async function convertToInteractive(key) {\n",
              "        const element = document.querySelector('#df-56fddbe9-5a04-4484-aadb-5c39cd1729e5');\n",
              "        const dataTable =\n",
              "          await google.colab.kernel.invokeFunction('convertToInteractive',\n",
              "                                                    [key], {});\n",
              "        if (!dataTable) return;\n",
              "\n",
              "        const docLinkHtml = 'Like what you see? Visit the ' +\n",
              "          '<a target=\"_blank\" href=https://colab.research.google.com/notebooks/data_table.ipynb>data table notebook</a>'\n",
              "          + ' to learn more about interactive tables.';\n",
              "        element.innerHTML = '';\n",
              "        dataTable['output_type'] = 'display_data';\n",
              "        await google.colab.output.renderOutput(dataTable, element);\n",
              "        const docLink = document.createElement('div');\n",
              "        docLink.innerHTML = docLinkHtml;\n",
              "        element.appendChild(docLink);\n",
              "      }\n",
              "    </script>\n",
              "  </div>\n",
              "\n",
              "\n",
              "<div id=\"df-a42e913b-99ab-43d4-a03e-99515eda0e8e\">\n",
              "  <button class=\"colab-df-quickchart\" onclick=\"quickchart('df-a42e913b-99ab-43d4-a03e-99515eda0e8e')\"\n",
              "            title=\"Suggest charts\"\n",
              "            style=\"display:none;\">\n",
              "\n",
              "<svg xmlns=\"http://www.w3.org/2000/svg\" height=\"24px\"viewBox=\"0 0 24 24\"\n",
              "     width=\"24px\">\n",
              "    <g>\n",
              "        <path d=\"M19 3H5c-1.1 0-2 .9-2 2v14c0 1.1.9 2 2 2h14c1.1 0 2-.9 2-2V5c0-1.1-.9-2-2-2zM9 17H7v-7h2v7zm4 0h-2V7h2v10zm4 0h-2v-4h2v4z\"/>\n",
              "    </g>\n",
              "</svg>\n",
              "  </button>\n",
              "\n",
              "<style>\n",
              "  .colab-df-quickchart {\n",
              "      --bg-color: #E8F0FE;\n",
              "      --fill-color: #1967D2;\n",
              "      --hover-bg-color: #E2EBFA;\n",
              "      --hover-fill-color: #174EA6;\n",
              "      --disabled-fill-color: #AAA;\n",
              "      --disabled-bg-color: #DDD;\n",
              "  }\n",
              "\n",
              "  [theme=dark] .colab-df-quickchart {\n",
              "      --bg-color: #3B4455;\n",
              "      --fill-color: #D2E3FC;\n",
              "      --hover-bg-color: #434B5C;\n",
              "      --hover-fill-color: #FFFFFF;\n",
              "      --disabled-bg-color: #3B4455;\n",
              "      --disabled-fill-color: #666;\n",
              "  }\n",
              "\n",
              "  .colab-df-quickchart {\n",
              "    background-color: var(--bg-color);\n",
              "    border: none;\n",
              "    border-radius: 50%;\n",
              "    cursor: pointer;\n",
              "    display: none;\n",
              "    fill: var(--fill-color);\n",
              "    height: 32px;\n",
              "    padding: 0;\n",
              "    width: 32px;\n",
              "  }\n",
              "\n",
              "  .colab-df-quickchart:hover {\n",
              "    background-color: var(--hover-bg-color);\n",
              "    box-shadow: 0 1px 2px rgba(60, 64, 67, 0.3), 0 1px 3px 1px rgba(60, 64, 67, 0.15);\n",
              "    fill: var(--button-hover-fill-color);\n",
              "  }\n",
              "\n",
              "  .colab-df-quickchart-complete:disabled,\n",
              "  .colab-df-quickchart-complete:disabled:hover {\n",
              "    background-color: var(--disabled-bg-color);\n",
              "    fill: var(--disabled-fill-color);\n",
              "    box-shadow: none;\n",
              "  }\n",
              "\n",
              "  .colab-df-spinner {\n",
              "    border: 2px solid var(--fill-color);\n",
              "    border-color: transparent;\n",
              "    border-bottom-color: var(--fill-color);\n",
              "    animation:\n",
              "      spin 1s steps(1) infinite;\n",
              "  }\n",
              "\n",
              "  @keyframes spin {\n",
              "    0% {\n",
              "      border-color: transparent;\n",
              "      border-bottom-color: var(--fill-color);\n",
              "      border-left-color: var(--fill-color);\n",
              "    }\n",
              "    20% {\n",
              "      border-color: transparent;\n",
              "      border-left-color: var(--fill-color);\n",
              "      border-top-color: var(--fill-color);\n",
              "    }\n",
              "    30% {\n",
              "      border-color: transparent;\n",
              "      border-left-color: var(--fill-color);\n",
              "      border-top-color: var(--fill-color);\n",
              "      border-right-color: var(--fill-color);\n",
              "    }\n",
              "    40% {\n",
              "      border-color: transparent;\n",
              "      border-right-color: var(--fill-color);\n",
              "      border-top-color: var(--fill-color);\n",
              "    }\n",
              "    60% {\n",
              "      border-color: transparent;\n",
              "      border-right-color: var(--fill-color);\n",
              "    }\n",
              "    80% {\n",
              "      border-color: transparent;\n",
              "      border-right-color: var(--fill-color);\n",
              "      border-bottom-color: var(--fill-color);\n",
              "    }\n",
              "    90% {\n",
              "      border-color: transparent;\n",
              "      border-bottom-color: var(--fill-color);\n",
              "    }\n",
              "  }\n",
              "</style>\n",
              "\n",
              "  <script>\n",
              "    async function quickchart(key) {\n",
              "      const quickchartButtonEl =\n",
              "        document.querySelector('#' + key + ' button');\n",
              "      quickchartButtonEl.disabled = true;  // To prevent multiple clicks.\n",
              "      quickchartButtonEl.classList.add('colab-df-spinner');\n",
              "      try {\n",
              "        const charts = await google.colab.kernel.invokeFunction(\n",
              "            'suggestCharts', [key], {});\n",
              "      } catch (error) {\n",
              "        console.error('Error during call to suggestCharts:', error);\n",
              "      }\n",
              "      quickchartButtonEl.classList.remove('colab-df-spinner');\n",
              "      quickchartButtonEl.classList.add('colab-df-quickchart-complete');\n",
              "    }\n",
              "    (() => {\n",
              "      let quickchartButtonEl =\n",
              "        document.querySelector('#df-a42e913b-99ab-43d4-a03e-99515eda0e8e button');\n",
              "      quickchartButtonEl.style.display =\n",
              "        google.colab.kernel.accessAllowed ? 'block' : 'none';\n",
              "    })();\n",
              "  </script>\n",
              "</div>\n",
              "    </div>\n",
              "  </div>\n"
            ]
          },
          "metadata": {},
          "execution_count": 133
        }
      ]
    },
    {
      "cell_type": "code",
      "source": [],
      "metadata": {
        "id": "GvPrys4CBEGH"
      },
      "execution_count": 133,
      "outputs": []
    },
    {
      "cell_type": "markdown",
      "source": [
        "## Preprocess Data\n",
        "Get y_train, y_test, selected needed data"
      ],
      "metadata": {
        "id": "G_FS2B56L8xL"
      }
    },
    {
      "cell_type": "code",
      "source": [
        "df.columns"
      ],
      "metadata": {
        "colab": {
          "base_uri": "https://localhost:8080/"
        },
        "id": "HVhb271vWRks",
        "outputId": "cf58451b-a537-4747-ec2c-a60fa3bb0805"
      },
      "execution_count": 134,
      "outputs": [
        {
          "output_type": "execute_result",
          "data": {
            "text/plain": [
              "Index(['pclass', 'survived', 'name', 'sex', 'age', 'sibsp', 'parch', 'ticket',\n",
              "       'fare', 'cabin', 'embarked', 'boat', 'body', 'home.dest'],\n",
              "      dtype='object')"
            ]
          },
          "metadata": {},
          "execution_count": 134
        }
      ]
    },
    {
      "cell_type": "code",
      "source": [
        "df.replace(\" \", float(\"NaN\"), inplace=True)"
      ],
      "metadata": {
        "id": "TBa-byv4QyRl"
      },
      "execution_count": 135,
      "outputs": []
    },
    {
      "cell_type": "code",
      "source": [
        "X_train = df[['pclass','sex','age', 'sibsp','fare','parch']]\n",
        "X_train['age'] = X_train['age'].fillna(X_train['age'].median())\n",
        "X_train['fare'] = X_train['fare'].fillna(X_train['fare'].mean())\n",
        "y_train = df['survived'].to_numpy()"
      ],
      "metadata": {
        "id": "eoTG492CWOve",
        "colab": {
          "base_uri": "https://localhost:8080/"
        },
        "outputId": "0ae767d9-57b9-4faa-8198-400ea8a71eba"
      },
      "execution_count": 136,
      "outputs": [
        {
          "output_type": "stream",
          "name": "stderr",
          "text": [
            "<ipython-input-136-a1a05a793d0b>:2: SettingWithCopyWarning: \n",
            "A value is trying to be set on a copy of a slice from a DataFrame.\n",
            "Try using .loc[row_indexer,col_indexer] = value instead\n",
            "\n",
            "See the caveats in the documentation: https://pandas.pydata.org/pandas-docs/stable/user_guide/indexing.html#returning-a-view-versus-a-copy\n",
            "  X_train['age'] = X_train['age'].fillna(X_train['age'].median())\n",
            "<ipython-input-136-a1a05a793d0b>:3: SettingWithCopyWarning: \n",
            "A value is trying to be set on a copy of a slice from a DataFrame.\n",
            "Try using .loc[row_indexer,col_indexer] = value instead\n",
            "\n",
            "See the caveats in the documentation: https://pandas.pydata.org/pandas-docs/stable/user_guide/indexing.html#returning-a-view-versus-a-copy\n",
            "  X_train['fare'] = X_train['fare'].fillna(X_train['fare'].mean())\n"
          ]
        }
      ]
    },
    {
      "cell_type": "code",
      "source": [
        "X_train['sex'].unique()"
      ],
      "metadata": {
        "colab": {
          "base_uri": "https://localhost:8080/"
        },
        "id": "7kmCY08k-2MZ",
        "outputId": "240c1f0a-7531-4eb6-b127-8185d0b8dcf0"
      },
      "execution_count": 137,
      "outputs": [
        {
          "output_type": "execute_result",
          "data": {
            "text/plain": [
              "array(['male', 'female'], dtype=object)"
            ]
          },
          "metadata": {},
          "execution_count": 137
        }
      ]
    },
    {
      "cell_type": "code",
      "source": [
        "X_test = df_test[['pclass','sex','age', 'sibsp','fare','parch']]\n",
        "X_test['age'] = X_test['age'].fillna(X_test['age'].median())\n",
        "X_test['fare'] = X_test['fare'].fillna(X_test['fare'].mean())\n",
        "y_test = df_test['survived'].to_numpy()"
      ],
      "metadata": {
        "id": "I4Wm16NotfPN",
        "colab": {
          "base_uri": "https://localhost:8080/"
        },
        "outputId": "95a25f89-2c0d-400b-8210-1bf8922b8ab8"
      },
      "execution_count": 138,
      "outputs": [
        {
          "output_type": "stream",
          "name": "stderr",
          "text": [
            "<ipython-input-138-16d736485992>:2: SettingWithCopyWarning: \n",
            "A value is trying to be set on a copy of a slice from a DataFrame.\n",
            "Try using .loc[row_indexer,col_indexer] = value instead\n",
            "\n",
            "See the caveats in the documentation: https://pandas.pydata.org/pandas-docs/stable/user_guide/indexing.html#returning-a-view-versus-a-copy\n",
            "  X_test['age'] = X_test['age'].fillna(X_test['age'].median())\n",
            "<ipython-input-138-16d736485992>:3: SettingWithCopyWarning: \n",
            "A value is trying to be set on a copy of a slice from a DataFrame.\n",
            "Try using .loc[row_indexer,col_indexer] = value instead\n",
            "\n",
            "See the caveats in the documentation: https://pandas.pydata.org/pandas-docs/stable/user_guide/indexing.html#returning-a-view-versus-a-copy\n",
            "  X_test['fare'] = X_test['fare'].fillna(X_test['fare'].mean())\n"
          ]
        }
      ]
    },
    {
      "cell_type": "code",
      "source": [
        "X_test['sex'].unique()"
      ],
      "metadata": {
        "colab": {
          "base_uri": "https://localhost:8080/"
        },
        "id": "7aXUxaSP_YAM",
        "outputId": "a1b961fd-3751-46db-f437-1ffc09fadb3d"
      },
      "execution_count": 139,
      "outputs": [
        {
          "output_type": "execute_result",
          "data": {
            "text/plain": [
              "array(['female', 'male'], dtype=object)"
            ]
          },
          "metadata": {},
          "execution_count": 139
        }
      ]
    },
    {
      "cell_type": "code",
      "source": [
        "#@title Preprocess Data\n",
        "\n",
        "import numpy as np\n",
        "\n",
        "def preprocess(df):\n",
        "\n",
        "  mapping_dict_sex= {'male': 0,'female': 1}\n",
        "\n",
        "  df['sex'] = df['sex'].map(mapping_dict_sex)  # map sex\n",
        "\n",
        "  numerical_df = df[['pclass','fare','sex']]\n",
        "\n",
        "  return numerical_df"
      ],
      "metadata": {
        "id": "MM-9aJ3QwTY0"
      },
      "execution_count": 140,
      "outputs": []
    },
    {
      "cell_type": "code",
      "source": [
        "#@title One-Hot Encoding for Categorical features\n",
        "from sklearn.preprocessing import OneHotEncoder\n",
        "\n",
        "#bins for \"age\"\n",
        "bins_age = [0, 10, 20, 30, 40, 50, 60, 70, 80]\n",
        "labels_age = [f\"{b}-{b+10}\" for b in bins_age[:-1]]\n",
        "X_train['age_binned'] = pd.cut(X_train['age'], bins=bins_age, labels=labels_age, right=False)\n",
        "X_test['age_binned'] = pd.cut(X_test['age'], bins=bins_age, labels=labels_age, right=False)\n",
        "\n",
        "# one-hot encoding for categorical features\n",
        "categorical_columns = ['sibsp', 'parch','age']\n",
        "categorical_df_train = X_train[categorical_columns]\n",
        "categorical_df_test = X_test[categorical_columns]\n",
        "ohe = OneHotEncoder(sparse_output=False,handle_unknown = 'ignore').fit(categorical_df_train)\n",
        "ohe_features_train = ohe.transform(categorical_df_train)\n",
        "ohe_features_test = ohe.transform(categorical_df_test)"
      ],
      "metadata": {
        "colab": {
          "base_uri": "https://localhost:8080/"
        },
        "id": "u1k6AUFvachF",
        "outputId": "80606ca5-00f4-4cbe-e252-7e576889b2db"
      },
      "execution_count": 141,
      "outputs": [
        {
          "output_type": "stream",
          "name": "stderr",
          "text": [
            "<ipython-input-141-89521cce3b3c>:7: SettingWithCopyWarning: \n",
            "A value is trying to be set on a copy of a slice from a DataFrame.\n",
            "Try using .loc[row_indexer,col_indexer] = value instead\n",
            "\n",
            "See the caveats in the documentation: https://pandas.pydata.org/pandas-docs/stable/user_guide/indexing.html#returning-a-view-versus-a-copy\n",
            "  X_train['age_binned'] = pd.cut(X_train['age'], bins=bins_age, labels=labels_age, right=False)\n",
            "<ipython-input-141-89521cce3b3c>:8: SettingWithCopyWarning: \n",
            "A value is trying to be set on a copy of a slice from a DataFrame.\n",
            "Try using .loc[row_indexer,col_indexer] = value instead\n",
            "\n",
            "See the caveats in the documentation: https://pandas.pydata.org/pandas-docs/stable/user_guide/indexing.html#returning-a-view-versus-a-copy\n",
            "  X_test['age_binned'] = pd.cut(X_test['age'], bins=bins_age, labels=labels_age, right=False)\n"
          ]
        }
      ]
    },
    {
      "cell_type": "code",
      "source": [
        "#@title Proprocess and normalize data\n",
        "from sklearn.preprocessing import MinMaxScaler, StandardScaler\n",
        "\n",
        "train_numerical_df = preprocess(X_train)\n",
        "\n",
        "# normalize numerical data\n",
        "scaler = MinMaxScaler().fit(train_numerical_df)\n",
        "train_numerical_features = scaler.transform(train_numerical_df)\n",
        "\n",
        "test_numerical_df = preprocess(X_test)\n",
        "test_numerical_features = scaler.transform(test_numerical_df)\n",
        "print(\"train_num_feature shape\",train_numerical_features.shape)\n",
        "print(\"train_data_ohe\",ohe_features_train.shape)\n",
        "print(\"test_numerical_features\",test_numerical_features.shape)\n",
        "print(\"test_data_ohe\",ohe_features_test.shape)\n",
        "\n",
        "train_X = np.hstack((train_numerical_features, ohe_features_train)) # stack numerical and one-hot encoded features\n",
        "test_X = np.hstack((test_numerical_features, ohe_features_test))\n"
      ],
      "metadata": {
        "id": "-GCVwpv-uf3S",
        "colab": {
          "base_uri": "https://localhost:8080/"
        },
        "outputId": "15528ad8-8031-4650-cd7a-74bf37060153"
      },
      "execution_count": 142,
      "outputs": [
        {
          "output_type": "stream",
          "name": "stdout",
          "text": [
            "train_num_feature shape (891, 3)\n",
            "train_data_ohe (891, 105)\n",
            "test_numerical_features (418, 3)\n",
            "test_data_ohe (418, 105)\n"
          ]
        },
        {
          "output_type": "stream",
          "name": "stderr",
          "text": [
            "<ipython-input-140-9a86dfe95956>:9: SettingWithCopyWarning: \n",
            "A value is trying to be set on a copy of a slice from a DataFrame.\n",
            "Try using .loc[row_indexer,col_indexer] = value instead\n",
            "\n",
            "See the caveats in the documentation: https://pandas.pydata.org/pandas-docs/stable/user_guide/indexing.html#returning-a-view-versus-a-copy\n",
            "  df['sex'] = df['sex'].map(mapping_dict_sex)  # map sex\n",
            "<ipython-input-140-9a86dfe95956>:9: SettingWithCopyWarning: \n",
            "A value is trying to be set on a copy of a slice from a DataFrame.\n",
            "Try using .loc[row_indexer,col_indexer] = value instead\n",
            "\n",
            "See the caveats in the documentation: https://pandas.pydata.org/pandas-docs/stable/user_guide/indexing.html#returning-a-view-versus-a-copy\n",
            "  df['sex'] = df['sex'].map(mapping_dict_sex)  # map sex\n"
          ]
        }
      ]
    },
    {
      "cell_type": "markdown",
      "source": [
        "Give binary cross-entropy cost function:\n",
        "$\\mathcal{L}(W, b) = -\\sum_i y_i \\log h_{W,b}(\\textbf{x}) + (1 - y_i) \\log (1 - h_{W,b}(\\textbf{x}))$\n",
        "\n",
        "\n",
        "where $$h_{W,b}(\\textbf{x}) = \\hat{\\textbf{y}} = \\sigma ( W^T \\textbf{x} + \\textbf{b} )$$\n",
        "\n",
        "where $ \\sigma(z) = \\frac{1}{1 + e^{-z}} $\n"
      ],
      "metadata": {
        "id": "BZ-gM8xMVTQX"
      }
    },
    {
      "cell_type": "code",
      "source": [
        "#@title Sigmoid function and binary cross-entropy cost function\n",
        "\n",
        "def sigmoid(z):\n",
        "  return 1/(1+np.exp(-z))\n",
        "\n",
        "def logreg(W, x, b):\n",
        "  return sigmoid(((W @ x.T).T + b))\n",
        "\n",
        "def costfxn(W, x, y, b):\n",
        "  yhat = logreg(W, x, b)\n",
        "  return -np.sum(y*np.log(yhat)+ (1-y)*np.log(1-yhat))"
      ],
      "metadata": {
        "id": "e6_s9_elTWbF"
      },
      "execution_count": 143,
      "outputs": []
    },
    {
      "cell_type": "code",
      "source": [
        "#@title Gradient descent\n",
        "\n",
        "def gradW(y, W, x, b):\n",
        "  '''\n",
        "  Calculate the gradient w/r/t W\n",
        "\n",
        "  Args:\n",
        "    * y: N x m matrix\n",
        "    * W: m x d matrix\n",
        "    * x: N x d matrix of data\n",
        "    * b: m offsite vector\n",
        "\n",
        "  Returns:\n",
        "    * gradient of size m x d\n",
        "  '''\n",
        "  yhat = logreg(W, x, b)\n",
        "  return (np.expand_dims(yhat - y, 2) * np.expand_dims(x, 1)).sum(axis=0)\n",
        "\n",
        "\n",
        "def gradb(y, W, x, b):\n",
        "  '''\n",
        "  Calculate the gradient w/r/t b\n",
        "\n",
        "  Args:\n",
        "    * y: N x m matrix\n",
        "    * W: m x d matrix\n",
        "    * x: N x d matrix of data\n",
        "    * b: m offset vector\n",
        "\n",
        "  Returns:\n",
        "    * gradient of size N x m\n",
        "  '''\n",
        "  yhat = logreg(W, x, b)\n",
        "  return (yhat - y).sum(axis=0)\n"
      ],
      "metadata": {
        "id": "KNUfwv1yjB2W"
      },
      "execution_count": 144,
      "outputs": []
    },
    {
      "cell_type": "code",
      "source": [
        "#@title Train model\n",
        "from sklearn.linear_model import LogisticRegression\n",
        "\n",
        "model_logistic = LogisticRegression(random_state=123)\n",
        "\n",
        "model_logistic.fit(train_X, y_train)\n",
        "\n",
        "print(\"test_X\",test_X.shape)\n",
        "print(\"train_X\",train_X.shape)\n",
        "train_preds = model_logistic.predict(train_X)\n",
        "test_preds = model_logistic.predict(test_X)\n",
        "\n",
        "# Calculate accuracy\n",
        "train_accuracy = np.sum(train_preds == y_train) / len(y_train)\n",
        "test_accuracy = np.sum(test_preds == y_test) / len(y_test)\n",
        "\n",
        "# Print accuracies and cost\n",
        "print(f\"Training Accuracy with threshold of 0.5: {train_accuracy:.2%}\")\n",
        "print(f\"Test Accuracy with threshold of 0.5: {test_accuracy:.2%}\")\n",
        "print(f\"Features included ['pclass','sex','age', 'sibsp','fare','parch'], with 'age','sibsp', and 'parch' as one-hot encoded categorical features, the rest as normalized numerical features\")"
      ],
      "metadata": {
        "colab": {
          "base_uri": "https://localhost:8080/"
        },
        "id": "m92vSJBkR6kH",
        "outputId": "10a286af-b299-4ed3-d6e3-20718ea292bc"
      },
      "execution_count": 164,
      "outputs": [
        {
          "output_type": "stream",
          "name": "stdout",
          "text": [
            "test_X (418, 108)\n",
            "train_X (891, 108)\n",
            "Training Accuracy with threshold of 0.5: 80.92%\n",
            "Test Accuracy with threshold of 0.5: 81.10%\n",
            "Features included ['pclass','sex','age', 'sibsp','fare','parch'], with 'age','sibsp', and 'parch' as one-hot encoded categorical features, the rest as normalized numerical features\n"
          ]
        }
      ]
    },
    {
      "cell_type": "code",
      "source": [
        "#@title Optimize with Gradient Descent\n",
        "# Parameters\n",
        "num_iters = 1000\n",
        "batch_size = 256\n",
        "num_labels = 1\n",
        "N,d = train_X.shape #where N is number of instances, d is number of features\n",
        "learn_rate = 0.001\n",
        "random_range = np.random.default_rng(N)\n",
        "\n",
        "# Randomly initialize\n",
        "W = np.random.randn(num_labels, d)\n",
        "b = np.random.randn(num_labels)\n",
        "\n",
        "# Iterate through num_iters\n",
        "L = []\n",
        "for i in range(num_iters):\n",
        "\n",
        "  # Take a random training sample\n",
        "  rand_sample = random_range.integers(low=0, high=N-1, size=batch_size)\n",
        "\n",
        "  # Features\n",
        "  xtrain_batch = train_X[rand_sample]\n",
        "\n",
        "  ytrain_batch = y_train[rand_sample].reshape((batch_size,1))\n",
        "\n",
        "  # Calculate cost function and the gradient\n",
        "  W -= learn_rate * gradW(ytrain_batch, W, xtrain_batch, b)\n",
        "  b -= learn_rate * gradb(ytrain_batch, W, xtrain_batch, b)\n",
        "\n",
        "  L.append(costfxn(W,xtrain_batch,ytrain_batch, b))\n",
        "\n",
        "yhat = logreg(W, xtrain_batch, b)\n",
        "plt.plot(L)\n",
        "plt.xlabel('Iteration Number')\n",
        "plt.ylabel('Loss Value')"
      ],
      "metadata": {
        "colab": {
          "base_uri": "https://localhost:8080/",
          "height": 466
        },
        "id": "6dlyi34acu5l",
        "outputId": "6dc51144-3f4c-461e-f4d6-90d15afc9739"
      },
      "execution_count": 146,
      "outputs": [
        {
          "output_type": "execute_result",
          "data": {
            "text/plain": [
              "Text(0, 0.5, 'Loss Value')"
            ]
          },
          "metadata": {},
          "execution_count": 146
        },
        {
          "output_type": "display_data",
          "data": {
            "text/plain": [
              "<Figure size 640x480 with 1 Axes>"
            ],
            "image/png": "[encoded data removed]"
          },
          "metadata": {}
        }
      ]
    },
    {
      "cell_type": "code",
      "source": [
        "from tensorflow import keras\n",
        "from tensorflow.keras import layers\n",
        "\n",
        "\n",
        "# Create a neural network model\n",
        "model = keras.Sequential(\n",
        "    [\n",
        "    layers.Dense(units=64, activation='relu', input_dim=d),\n",
        "    layers.Dense(units=32, activation='relu'),\n",
        "    layers.Dense(units=1, activation='sigmoid')\n",
        "    ]\n",
        ")\n",
        "\n",
        "model.summary()\n",
        "\n",
        "model.compile(loss=\"binary_crossentropy\", optimizer=\"adam\", metrics=[\"accuracy\"])"
      ],
      "metadata": {
        "id": "zEgQmfgcfkzf",
        "colab": {
          "base_uri": "https://localhost:8080/"
        },
        "outputId": "41530e4d-8603-45b3-ef9f-c3a3eab49191"
      },
      "execution_count": 155,
      "outputs": [
        {
          "output_type": "stream",
          "name": "stdout",
          "text": [
            "Model: \"sequential_7\"\n",
            "_________________________________________________________________\n",
            " Layer (type)                Output Shape              Param #   \n",
            "=================================================================\n",
            " dense_21 (Dense)            (None, 64)                6976      \n",
            "                                                                 \n",
            " dense_22 (Dense)            (None, 32)                2080      \n",
            "                                                                 \n",
            " dense_23 (Dense)            (None, 1)                 33        \n",
            "                                                                 \n",
            "=================================================================\n",
            "Total params: 9089 (35.50 KB)\n",
            "Trainable params: 9089 (35.50 KB)\n",
            "Non-trainable params: 0 (0.00 Byte)\n",
            "_________________________________________________________________\n"
          ]
        }
      ]
    },
    {
      "cell_type": "code",
      "source": [
        "res = model.fit(train_X, y_train, epochs=15, batch_size=batch_size, validation_data=(test_X, y_test))\n",
        "res"
      ],
      "metadata": {
        "colab": {
          "base_uri": "https://localhost:8080/"
        },
        "id": "QfpnisoPhc79",
        "outputId": "ec7d5156-ef2a-424d-c2cb-1a9f2085b54b"
      },
      "execution_count": 159,
      "outputs": [
        {
          "output_type": "stream",
          "name": "stdout",
          "text": [
            "Epoch 1/15\n",
            "4/4 [==============================] - 0s 53ms/step - loss: 0.4732 - accuracy: 0.7901 - val_loss: 0.4816 - val_accuracy: 0.7895\n",
            "Epoch 2/15\n",
            "4/4 [==============================] - 0s 26ms/step - loss: 0.4633 - accuracy: 0.7912 - val_loss: 0.4759 - val_accuracy: 0.7799\n",
            "Epoch 3/15\n",
            "4/4 [==============================] - 0s 34ms/step - loss: 0.4544 - accuracy: 0.7924 - val_loss: 0.4711 - val_accuracy: 0.7775\n",
            "Epoch 4/15\n",
            "4/4 [==============================] - 0s 28ms/step - loss: 0.4464 - accuracy: 0.7980 - val_loss: 0.4670 - val_accuracy: 0.7871\n",
            "Epoch 5/15\n",
            "4/4 [==============================] - 0s 26ms/step - loss: 0.4397 - accuracy: 0.8081 - val_loss: 0.4647 - val_accuracy: 0.7919\n",
            "Epoch 6/15\n",
            "4/4 [==============================] - 0s 28ms/step - loss: 0.4337 - accuracy: 0.8103 - val_loss: 0.4659 - val_accuracy: 0.7895\n",
            "Epoch 7/15\n",
            "4/4 [==============================] - 0s 24ms/step - loss: 0.4292 - accuracy: 0.8148 - val_loss: 0.4663 - val_accuracy: 0.7943\n",
            "Epoch 8/15\n",
            "4/4 [==============================] - 0s 25ms/step - loss: 0.4243 - accuracy: 0.8159 - val_loss: 0.4635 - val_accuracy: 0.7990\n",
            "Epoch 9/15\n",
            "4/4 [==============================] - 0s 22ms/step - loss: 0.4199 - accuracy: 0.8171 - val_loss: 0.4599 - val_accuracy: 0.7990\n",
            "Epoch 10/15\n",
            "4/4 [==============================] - 0s 26ms/step - loss: 0.4165 - accuracy: 0.8148 - val_loss: 0.4587 - val_accuracy: 0.7990\n",
            "Epoch 11/15\n",
            "4/4 [==============================] - 0s 74ms/step - loss: 0.4124 - accuracy: 0.8148 - val_loss: 0.4664 - val_accuracy: 0.7990\n",
            "Epoch 12/15\n",
            "4/4 [==============================] - 0s 33ms/step - loss: 0.4085 - accuracy: 0.8204 - val_loss: 0.4665 - val_accuracy: 0.8062\n",
            "Epoch 13/15\n",
            "4/4 [==============================] - 0s 38ms/step - loss: 0.4051 - accuracy: 0.8193 - val_loss: 0.4615 - val_accuracy: 0.7990\n",
            "Epoch 14/15\n",
            "4/4 [==============================] - 0s 28ms/step - loss: 0.4023 - accuracy: 0.8193 - val_loss: 0.4618 - val_accuracy: 0.7990\n",
            "Epoch 15/15\n",
            "4/4 [==============================] - 0s 30ms/step - loss: 0.3984 - accuracy: 0.8227 - val_loss: 0.4670 - val_accuracy: 0.7990\n"
          ]
        },
        {
          "output_type": "execute_result",
          "data": {
            "text/plain": [
              "<keras.src.callbacks.History at 0x7b5306ed75b0>"
            ]
          },
          "metadata": {},
          "execution_count": 159
        }
      ]
    },
    {
      "cell_type": "code",
      "source": [
        "#@title Evaluate Model and Accuracy\n",
        "test_loss, test_accuracy = model.evaluate(test_X, y_test, batch_size=batch_size)\n",
        "print(f\"Test loss with Neural Network: {test_loss:.5%}\")\n",
        "print(f\"Test Accuracy with Neural Network: {test_accuracy:.5%}\")"
      ],
      "metadata": {
        "colab": {
          "base_uri": "https://localhost:8080/"
        },
        "id": "fVWUCeUliXDE",
        "outputId": "4e1b430c-eb58-406b-a2ba-1442e73bcbde"
      },
      "execution_count": 158,
      "outputs": [
        {
          "output_type": "stream",
          "name": "stdout",
          "text": [
            "2/2 [==============================] - 0s 10ms/step - loss: 0.4906 - accuracy: 0.7919\n",
            "Test loss with Neural Network: 49.05755%\n",
            "Test Accuracy with Neural Network: 79.18660%\n"
          ]
        }
      ]
    },
    {
      "cell_type": "code",
      "source": [
        "#@title Plot Loss Curve\n",
        "import matplotlib.pyplot as plt\n",
        "\n",
        "# Plot training & validation loss values\n",
        "plt.plot(res.history['loss'])\n",
        "plt.plot(res.history['val_loss'])\n",
        "plt.title('Model loss')\n",
        "plt.ylabel('Loss')\n",
        "plt.xlabel('Epoch')\n",
        "plt.legend(['Train', 'Test'], loc='upper left')\n",
        "plt.show()\n"
      ],
      "metadata": {
        "colab": {
          "base_uri": "https://localhost:8080/",
          "height": 472
        },
        "id": "s4rxJShSYEeJ",
        "outputId": "3ff5b47c-2c56-490d-a6c3-642175b068e5"
      },
      "execution_count": 161,
      "outputs": [
        {
          "output_type": "display_data",
          "data": {
            "text/plain": [
              "<Figure size 640x480 with 1 Axes>"
            ],
            "image/png": "[encoded data removed]"
          },
          "metadata": {}
        }
      ]
    },
    {
      "cell_type": "code",
      "source": [
        "#@title Diagram Neural Network Architecture\n",
        "\n",
        "model.summary()\n"
      ],
      "metadata": {
        "colab": {
          "base_uri": "https://localhost:8080/"
        },
        "id": "gyIwPjrsl_Zn",
        "outputId": "dd17d1de-10b4-458e-b970-4f3cefc93907"
      },
      "execution_count": 150,
      "outputs": [
        {
          "output_type": "stream",
          "name": "stdout",
          "text": [
            "Model: \"sequential_2\"\n",
            "_________________________________________________________________\n",
            " Layer (type)                Output Shape              Param #   \n",
            "=================================================================\n",
            " dense_6 (Dense)             (None, 64)                6976      \n",
            "                                                                 \n",
            " dense_7 (Dense)             (None, 32)                2080      \n",
            "                                                                 \n",
            " dense_8 (Dense)             (None, 1)                 33        \n",
            "                                                                 \n",
            "=================================================================\n",
            "Total params: 9089 (35.50 KB)\n",
            "Trainable params: 9089 (35.50 KB)\n",
            "Non-trainable params: 0 (0.00 Byte)\n",
            "_________________________________________________________________\n"
          ]
        }
      ]
    }
  ]
}