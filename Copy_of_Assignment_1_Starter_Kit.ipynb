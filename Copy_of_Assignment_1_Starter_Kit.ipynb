{
  "cells": [
    {
      "cell_type": "markdown",
      "metadata": {
        "id": "view-in-github",
        "colab_type": "text"
      },
      "source": [
        "<a href=\"https://colab.research.google.com/github/yianan261/CS6220/blob/main/Copy_of_Assignment_1_Starter_Kit.ipynb\" target=\"_parent\"><img src=\"https://colab.research.google.com/assets/colab-badge.svg\" alt=\"Open In Colab\"/></a>"
      ]
    },
    {
      "cell_type": "code",
      "execution_count": null,
      "metadata": {
        "id": "bdM6NSRawQsw",
        "colab": {
          "base_uri": "https://localhost:8080/"
        },
        "outputId": "41d1c3c8-9856-4a29-8791-607eddf0d5b4"
      },
      "outputs": [
        {
          "output_type": "stream",
          "name": "stdout",
          "text": [
            "Data in combined_data_1.txt looks like this: \n",
            "\n",
            "1:\n",
            "1488844,3,2005-09-06\n",
            "822109,5,2005-05-13\n",
            "885013,4,2005-10-19\n",
            "30878,4,2005-12-26\n",
            "\n",
            "\n",
            "Data in movie_titles.csv looks like this: \n",
            "\n",
            "1,2003,Dinosaur Planet\n",
            "2,2004,Isle of Man TT 2004 Review\n",
            "3,1997,Character\n",
            "4,1994,Paula Abdul's Get Up & Dance\n",
            "5,2004,The Rise and Fall of ECW\n"
          ]
        }
      ],
      "source": [
        "#@title Download the data from website\n",
        "!wget -nc https://course.ccs.neu.edu/cs6220/fall2023/homework-1/netflix-data/movie_titles.csv\n",
        "!wget -nc https://course.ccs.neu.edu/cs6220/fall2023/homework-1/netflix-data/combined_data_1.txt\n",
        "!wget -nc https://course.ccs.neu.edu/cs6220/fall2023/homework-1/netflix-data/combined_data_2.txt\n",
        "!wget -nc https://course.ccs.neu.edu/cs6220/fall2023/homework-1/netflix-data/combined_data_3.txt\n",
        "!wget -nc https://course.ccs.neu.edu/cs6220/fall2023/homework-1/netflix-data/combined_data_4.txt\n",
        "\n",
        "from IPython.display import clear_output\n",
        "clear_output()\n",
        "\n",
        "print(\"Data in combined_data_1.txt looks like this: \\n\")\n",
        "!head -5 combined_data_1.txt\n",
        "\n",
        "print(\"\\n\\nData in movie_titles.csv looks like this: \\n\")\n",
        "!head -5 movie_titles.csv"
      ]
    },
    {
      "cell_type": "code",
      "source": [
        "f = open(\"movie_titles.csv\", encoding =\"cp1252\")\n",
        "data_lines = open(\"combined_data_1.txt\", \"r\").readlines()"
      ],
      "metadata": {
        "id": "yljOq5Mod1Q2"
      },
      "execution_count": null,
      "outputs": []
    },
    {
      "cell_type": "code",
      "source": [
        "from datetime import date\n",
        "#Testing\n",
        "count = 0\n",
        "with open(f\"combined_data_1.txt\", encoding =\"cp1252\") as f:\n",
        "  data_lines = f.readlines()\n",
        "  l = data_lines[1]\n",
        "  print(date.fromisoformat(l.rstrip().split(\",\")[-1]).year)\n",
        "  print(count)\n"
      ],
      "metadata": {
        "colab": {
          "base_uri": "https://localhost:8080/"
        },
        "id": "aCRQ8yZtQX2K",
        "outputId": "89519812-7925-47cc-c258-e7b6076da118"
      },
      "execution_count": null,
      "outputs": [
        {
          "output_type": "stream",
          "name": "stdout",
          "text": [
            "2005\n",
            "0\n"
          ]
        }
      ]
    },
    {
      "cell_type": "markdown",
      "source": [
        "## 3.a. Total Records"
      ],
      "metadata": {
        "id": "e9Rg8xsM-6WQ"
      }
    },
    {
      "cell_type": "code",
      "source": [
        "total_record = 0\n",
        "for i in range(1,5):\n",
        "  with open(f\"combined_data_{i}.txt\", encoding =\"cp1252\") as f:\n",
        "    data_lines = f.readlines()\n",
        "    for l in data_lines:\n",
        "      if l.rstrip()[-1] == \":\":\n",
        "        continue\n",
        "      else:\n",
        "        total_record += 1\n",
        "total_record"
      ],
      "metadata": {
        "id": "mvSbaWmhIOW3",
        "colab": {
          "base_uri": "https://localhost:8080/"
        },
        "outputId": "a28e29ed-a950-4576-f84b-f663f38a069c"
      },
      "execution_count": null,
      "outputs": [
        {
          "output_type": "execute_result",
          "data": {
            "text/plain": [
              "100480507"
            ]
          },
          "metadata": {},
          "execution_count": 23
        }
      ]
    },
    {
      "cell_type": "markdown",
      "source": [
        "## 3.b. Unique Users\n"
      ],
      "metadata": {
        "id": "B1dTeqZB_Hgo"
      }
    },
    {
      "cell_type": "code",
      "source": [
        "unique_users = set()\n",
        "for i in range(1,5):\n",
        "  with open(f\"combined_data_{i}.txt\", encoding =\"cp1252\") as f:\n",
        "    data_lines = f.readlines()\n",
        "    for l in data_lines:\n",
        "      if l.rstrip()[-1] == \":\":\n",
        "        continue\n",
        "      else:\n",
        "        unique_users.add(l.split(\",\")[0])\n",
        "\n",
        "# print(unique_users)\n",
        "print(len(unique_users))"
      ],
      "metadata": {
        "colab": {
          "base_uri": "https://localhost:8080/"
        },
        "id": "r84pOcfvJCna",
        "outputId": "63c05cec-c7f4-4ed7-aac8-ec146a2c0f3a"
      },
      "execution_count": null,
      "outputs": [
        {
          "output_type": "stream",
          "name": "stdout",
          "text": [
            "480189\n"
          ]
        }
      ]
    },
    {
      "cell_type": "code",
      "source": [
        "#Testing cell\n",
        "import pandas as pd\n",
        "df = pd.read_csv(\"combined_data_1.txt\")\n",
        "for i in range(2,5):\n",
        "  df = pd.concat([df, pd.read_csv(f\"combined_data_{i}.txt\")], axis=0)\n",
        "df"
      ],
      "metadata": {
        "colab": {
          "base_uri": "https://localhost:8080/",
          "height": 442
        },
        "id": "7xn8QDawKPeH",
        "outputId": "9cb242fd-558b-45c1-81ff-c16886bc17d1"
      },
      "execution_count": null,
      "outputs": [
        {
          "output_type": "execute_result",
          "data": {
            "text/plain": [
              "                     1: 4500: 9211:      13368:\n",
              "1488844 3.0  2005-09-06   NaN   NaN         NaN\n",
              "822109  5.0  2005-05-13   NaN   NaN         NaN\n",
              "885013  4.0  2005-10-19   NaN   NaN         NaN\n",
              "30878   4.0  2005-12-26   NaN   NaN         NaN\n",
              "823519  3.0  2004-05-03   NaN   NaN         NaN\n",
              "...                 ...   ...   ...         ...\n",
              "1790158 4.0         NaN   NaN   NaN  2005-11-01\n",
              "1608708 3.0         NaN   NaN   NaN  2005-07-19\n",
              "234275  1.0         NaN   NaN   NaN  2004-08-07\n",
              "255278  4.0         NaN   NaN   NaN  2004-05-28\n",
              "453585  2.0         NaN   NaN   NaN  2005-03-10\n",
              "\n",
              "[100498273 rows x 4 columns]"
            ],
            "text/html": [
              "\n",
              "  <div id=\"df-338950dd-5ae6-40ba-a239-8435dcec487a\" class=\"colab-df-container\">\n",
              "    <div>\n",
              "<style scoped>\n",
              "    .dataframe tbody tr th:only-of-type {\n",
              "        vertical-align: middle;\n",
              "    }\n",
              "\n",
              "    .dataframe tbody tr th {\n",
              "        vertical-align: top;\n",
              "    }\n",
              "\n",
              "    .dataframe thead th {\n",
              "        text-align: right;\n",
              "    }\n",
              "</style>\n",
              "<table border=\"1\" class=\"dataframe\">\n",
              "  <thead>\n",
              "    <tr style=\"text-align: right;\">\n",
              "      <th></th>\n",
              "      <th></th>\n",
              "      <th>1:</th>\n",
              "      <th>4500:</th>\n",
              "      <th>9211:</th>\n",
              "      <th>13368:</th>\n",
              "    </tr>\n",
              "  </thead>\n",
              "  <tbody>\n",
              "    <tr>\n",
              "      <th>1488844</th>\n",
              "      <th>3.0</th>\n",
              "      <td>2005-09-06</td>\n",
              "      <td>NaN</td>\n",
              "      <td>NaN</td>\n",
              "      <td>NaN</td>\n",
              "    </tr>\n",
              "    <tr>\n",
              "      <th>822109</th>\n",
              "      <th>5.0</th>\n",
              "      <td>2005-05-13</td>\n",
              "      <td>NaN</td>\n",
              "      <td>NaN</td>\n",
              "      <td>NaN</td>\n",
              "    </tr>\n",
              "    <tr>\n",
              "      <th>885013</th>\n",
              "      <th>4.0</th>\n",
              "      <td>2005-10-19</td>\n",
              "      <td>NaN</td>\n",
              "      <td>NaN</td>\n",
              "      <td>NaN</td>\n",
              "    </tr>\n",
              "    <tr>\n",
              "      <th>30878</th>\n",
              "      <th>4.0</th>\n",
              "      <td>2005-12-26</td>\n",
              "      <td>NaN</td>\n",
              "      <td>NaN</td>\n",
              "      <td>NaN</td>\n",
              "    </tr>\n",
              "    <tr>\n",
              "      <th>823519</th>\n",
              "      <th>3.0</th>\n",
              "      <td>2004-05-03</td>\n",
              "      <td>NaN</td>\n",
              "      <td>NaN</td>\n",
              "      <td>NaN</td>\n",
              "    </tr>\n",
              "    <tr>\n",
              "      <th>...</th>\n",
              "      <th>...</th>\n",
              "      <td>...</td>\n",
              "      <td>...</td>\n",
              "      <td>...</td>\n",
              "      <td>...</td>\n",
              "    </tr>\n",
              "    <tr>\n",
              "      <th>1790158</th>\n",
              "      <th>4.0</th>\n",
              "      <td>NaN</td>\n",
              "      <td>NaN</td>\n",
              "      <td>NaN</td>\n",
              "      <td>2005-11-01</td>\n",
              "    </tr>\n",
              "    <tr>\n",
              "      <th>1608708</th>\n",
              "      <th>3.0</th>\n",
              "      <td>NaN</td>\n",
              "      <td>NaN</td>\n",
              "      <td>NaN</td>\n",
              "      <td>2005-07-19</td>\n",
              "    </tr>\n",
              "    <tr>\n",
              "      <th>234275</th>\n",
              "      <th>1.0</th>\n",
              "      <td>NaN</td>\n",
              "      <td>NaN</td>\n",
              "      <td>NaN</td>\n",
              "      <td>2004-08-07</td>\n",
              "    </tr>\n",
              "    <tr>\n",
              "      <th>255278</th>\n",
              "      <th>4.0</th>\n",
              "      <td>NaN</td>\n",
              "      <td>NaN</td>\n",
              "      <td>NaN</td>\n",
              "      <td>2004-05-28</td>\n",
              "    </tr>\n",
              "    <tr>\n",
              "      <th>453585</th>\n",
              "      <th>2.0</th>\n",
              "      <td>NaN</td>\n",
              "      <td>NaN</td>\n",
              "      <td>NaN</td>\n",
              "      <td>2005-03-10</td>\n",
              "    </tr>\n",
              "  </tbody>\n",
              "</table>\n",
              "<p>100498273 rows × 4 columns</p>\n",
              "</div>\n",
              "    <div class=\"colab-df-buttons\">\n",
              "\n",
              "  <div class=\"colab-df-container\">\n",
              "    <button class=\"colab-df-convert\" onclick=\"convertToInteractive('df-338950dd-5ae6-40ba-a239-8435dcec487a')\"\n",
              "            title=\"Convert this dataframe to an interactive table.\"\n",
              "            style=\"display:none;\">\n",
              "\n",
              "  <svg xmlns=\"http://www.w3.org/2000/svg\" height=\"24px\" viewBox=\"0 -960 960 960\">\n",
              "    <path d=\"M120-120v-720h720v720H120Zm60-500h600v-160H180v160Zm220 220h160v-160H400v160Zm0 220h160v-160H400v160ZM180-400h160v-160H180v160Zm440 0h160v-160H620v160ZM180-180h160v-160H180v160Zm440 0h160v-160H620v160Z\"/>\n",
              "  </svg>\n",
              "    </button>\n",
              "\n",
              "  <style>\n",
              "    .colab-df-container {\n",
              "      display:flex;\n",
              "      gap: 12px;\n",
              "    }\n",
              "\n",
              "    .colab-df-convert {\n",
              "      background-color: #E8F0FE;\n",
              "      border: none;\n",
              "      border-radius: 50%;\n",
              "      cursor: pointer;\n",
              "      display: none;\n",
              "      fill: #1967D2;\n",
              "      height: 32px;\n",
              "      padding: 0 0 0 0;\n",
              "      width: 32px;\n",
              "    }\n",
              "\n",
              "    .colab-df-convert:hover {\n",
              "      background-color: #E2EBFA;\n",
              "      box-shadow: 0px 1px 2px rgba(60, 64, 67, 0.3), 0px 1px 3px 1px rgba(60, 64, 67, 0.15);\n",
              "      fill: #174EA6;\n",
              "    }\n",
              "\n",
              "    .colab-df-buttons div {\n",
              "      margin-bottom: 4px;\n",
              "    }\n",
              "\n",
              "    [theme=dark] .colab-df-convert {\n",
              "      background-color: #3B4455;\n",
              "      fill: #D2E3FC;\n",
              "    }\n",
              "\n",
              "    [theme=dark] .colab-df-convert:hover {\n",
              "      background-color: #434B5C;\n",
              "      box-shadow: 0px 1px 3px 1px rgba(0, 0, 0, 0.15);\n",
              "      filter: drop-shadow(0px 1px 2px rgba(0, 0, 0, 0.3));\n",
              "      fill: #FFFFFF;\n",
              "    }\n",
              "  </style>\n",
              "\n",
              "    <script>\n",
              "      const buttonEl =\n",
              "        document.querySelector('#df-338950dd-5ae6-40ba-a239-8435dcec487a button.colab-df-convert');\n",
              "      buttonEl.style.display =\n",
              "        google.colab.kernel.accessAllowed ? 'block' : 'none';\n",
              "\n",
              "      async function convertToInteractive(key) {\n",
              "        const element = document.querySelector('#df-338950dd-5ae6-40ba-a239-8435dcec487a');\n",
              "        const dataTable =\n",
              "          await google.colab.kernel.invokeFunction('convertToInteractive',\n",
              "                                                    [key], {});\n",
              "        if (!dataTable) return;\n",
              "\n",
              "        const docLinkHtml = 'Like what you see? Visit the ' +\n",
              "          '<a target=\"_blank\" href=https://colab.research.google.com/notebooks/data_table.ipynb>data table notebook</a>'\n",
              "          + ' to learn more about interactive tables.';\n",
              "        element.innerHTML = '';\n",
              "        dataTable['output_type'] = 'display_data';\n",
              "        await google.colab.output.renderOutput(dataTable, element);\n",
              "        const docLink = document.createElement('div');\n",
              "        docLink.innerHTML = docLinkHtml;\n",
              "        element.appendChild(docLink);\n",
              "      }\n",
              "    </script>\n",
              "  </div>\n",
              "\n",
              "\n",
              "<div id=\"df-c0e0a931-8d14-4aa5-926e-7c68a47701b5\">\n",
              "  <button class=\"colab-df-quickchart\" onclick=\"quickchart('df-c0e0a931-8d14-4aa5-926e-7c68a47701b5')\"\n",
              "            title=\"Suggest charts.\"\n",
              "            style=\"display:none;\">\n",
              "\n",
              "<svg xmlns=\"http://www.w3.org/2000/svg\" height=\"24px\"viewBox=\"0 0 24 24\"\n",
              "     width=\"24px\">\n",
              "    <g>\n",
              "        <path d=\"M19 3H5c-1.1 0-2 .9-2 2v14c0 1.1.9 2 2 2h14c1.1 0 2-.9 2-2V5c0-1.1-.9-2-2-2zM9 17H7v-7h2v7zm4 0h-2V7h2v10zm4 0h-2v-4h2v4z\"/>\n",
              "    </g>\n",
              "</svg>\n",
              "  </button>\n",
              "\n",
              "<style>\n",
              "  .colab-df-quickchart {\n",
              "      --bg-color: #E8F0FE;\n",
              "      --fill-color: #1967D2;\n",
              "      --hover-bg-color: #E2EBFA;\n",
              "      --hover-fill-color: #174EA6;\n",
              "      --disabled-fill-color: #AAA;\n",
              "      --disabled-bg-color: #DDD;\n",
              "  }\n",
              "\n",
              "  [theme=dark] .colab-df-quickchart {\n",
              "      --bg-color: #3B4455;\n",
              "      --fill-color: #D2E3FC;\n",
              "      --hover-bg-color: #434B5C;\n",
              "      --hover-fill-color: #FFFFFF;\n",
              "      --disabled-bg-color: #3B4455;\n",
              "      --disabled-fill-color: #666;\n",
              "  }\n",
              "\n",
              "  .colab-df-quickchart {\n",
              "    background-color: var(--bg-color);\n",
              "    border: none;\n",
              "    border-radius: 50%;\n",
              "    cursor: pointer;\n",
              "    display: none;\n",
              "    fill: var(--fill-color);\n",
              "    height: 32px;\n",
              "    padding: 0;\n",
              "    width: 32px;\n",
              "  }\n",
              "\n",
              "  .colab-df-quickchart:hover {\n",
              "    background-color: var(--hover-bg-color);\n",
              "    box-shadow: 0 1px 2px rgba(60, 64, 67, 0.3), 0 1px 3px 1px rgba(60, 64, 67, 0.15);\n",
              "    fill: var(--button-hover-fill-color);\n",
              "  }\n",
              "\n",
              "  .colab-df-quickchart-complete:disabled,\n",
              "  .colab-df-quickchart-complete:disabled:hover {\n",
              "    background-color: var(--disabled-bg-color);\n",
              "    fill: var(--disabled-fill-color);\n",
              "    box-shadow: none;\n",
              "  }\n",
              "\n",
              "  .colab-df-spinner {\n",
              "    border: 2px solid var(--fill-color);\n",
              "    border-color: transparent;\n",
              "    border-bottom-color: var(--fill-color);\n",
              "    animation:\n",
              "      spin 1s steps(1) infinite;\n",
              "  }\n",
              "\n",
              "  @keyframes spin {\n",
              "    0% {\n",
              "      border-color: transparent;\n",
              "      border-bottom-color: var(--fill-color);\n",
              "      border-left-color: var(--fill-color);\n",
              "    }\n",
              "    20% {\n",
              "      border-color: transparent;\n",
              "      border-left-color: var(--fill-color);\n",
              "      border-top-color: var(--fill-color);\n",
              "    }\n",
              "    30% {\n",
              "      border-color: transparent;\n",
              "      border-left-color: var(--fill-color);\n",
              "      border-top-color: var(--fill-color);\n",
              "      border-right-color: var(--fill-color);\n",
              "    }\n",
              "    40% {\n",
              "      border-color: transparent;\n",
              "      border-right-color: var(--fill-color);\n",
              "      border-top-color: var(--fill-color);\n",
              "    }\n",
              "    60% {\n",
              "      border-color: transparent;\n",
              "      border-right-color: var(--fill-color);\n",
              "    }\n",
              "    80% {\n",
              "      border-color: transparent;\n",
              "      border-right-color: var(--fill-color);\n",
              "      border-bottom-color: var(--fill-color);\n",
              "    }\n",
              "    90% {\n",
              "      border-color: transparent;\n",
              "      border-bottom-color: var(--fill-color);\n",
              "    }\n",
              "  }\n",
              "</style>\n",
              "\n",
              "  <script>\n",
              "    async function quickchart(key) {\n",
              "      const quickchartButtonEl =\n",
              "        document.querySelector('#' + key + ' button');\n",
              "      quickchartButtonEl.disabled = true;  // To prevent multiple clicks.\n",
              "      quickchartButtonEl.classList.add('colab-df-spinner');\n",
              "      try {\n",
              "        const charts = await google.colab.kernel.invokeFunction(\n",
              "            'suggestCharts', [key], {});\n",
              "      } catch (error) {\n",
              "        console.error('Error during call to suggestCharts:', error);\n",
              "      }\n",
              "      quickchartButtonEl.classList.remove('colab-df-spinner');\n",
              "      quickchartButtonEl.classList.add('colab-df-quickchart-complete');\n",
              "    }\n",
              "    (() => {\n",
              "      let quickchartButtonEl =\n",
              "        document.querySelector('#df-c0e0a931-8d14-4aa5-926e-7c68a47701b5 button');\n",
              "      quickchartButtonEl.style.display =\n",
              "        google.colab.kernel.accessAllowed ? 'block' : 'none';\n",
              "    })();\n",
              "  </script>\n",
              "</div>\n",
              "    </div>\n",
              "  </div>\n"
            ]
          },
          "metadata": {},
          "execution_count": 6
        },
        {
          "output_type": "stream",
          "name": "stdout",
          "text": [
            "No charts were generated by quickchart\n"
          ]
        }
      ]
    },
    {
      "cell_type": "markdown",
      "source": [
        "## 3.c. Range of Years\n"
      ],
      "metadata": {
        "id": "0YMqOhCq_Q0H"
      }
    },
    {
      "cell_type": "code",
      "source": [
        "from datetime import date\n",
        "max_year = 0\n",
        "min_year = 3000\n",
        "\n",
        "for i in range(1,5):\n",
        "  with open(f\"combined_data_{i}.txt\", encoding =\"cp1252\") as f:\n",
        "    data_lines = f.readlines()\n",
        "    for l in data_lines:\n",
        "      if l.rstrip()[-1] == \":\":\n",
        "        continue\n",
        "      else:\n",
        "        max_year = max(max_year, date.fromisoformat(l.rstrip().split(\",\")[-1]).year)\n",
        "        min_year = min(min_year, date.fromisoformat(l.rstrip().split(\",\")[-1]).year)\n",
        "print(max_year, min_year)"
      ],
      "metadata": {
        "colab": {
          "base_uri": "https://localhost:8080/"
        },
        "id": "vxs5I6JBMUKa",
        "outputId": "342b432a-bfb3-4b84-b49c-5194da03ec32"
      },
      "execution_count": null,
      "outputs": [
        {
          "output_type": "stream",
          "name": "stdout",
          "text": [
            "2005 1999\n"
          ]
        }
      ]
    },
    {
      "cell_type": "markdown",
      "source": [
        "## 4.a. Movies with Unique Names\n"
      ],
      "metadata": {
        "id": "iPEqgAsA_Yd5"
      }
    },
    {
      "cell_type": "code",
      "source": [
        "unique_names = set()\n",
        "with open(\"movie_titles.csv\", encoding =\"cp1252\") as f:\n",
        "  data_lines = f.readlines()\n",
        "  for l in data_lines:\n",
        "    l = l.rstrip()\n",
        "    target = -1\n",
        "    target = l.find(\",\")\n",
        "    target = l.find(\",\", target+1)\n",
        "    # movie_name = l[target+1:]\n",
        "    unique_names.add(l[target+1:])\n",
        "  print(len(data_lines))\n",
        "print(len(unique_names))"
      ],
      "metadata": {
        "colab": {
          "base_uri": "https://localhost:8080/"
        },
        "id": "OAxgnGp_Xn90",
        "outputId": "ef7574ae-ba77-42c6-f47f-5e874748b977"
      },
      "execution_count": 7,
      "outputs": [
        {
          "output_type": "stream",
          "name": "stdout",
          "text": [
            "17770\n",
            "17359\n"
          ]
        }
      ]
    },
    {
      "cell_type": "markdown",
      "source": [
        "## 4.b. Movie Names that Refer to Four Different Movies"
      ],
      "metadata": {
        "id": "9J3lGB-A_cJt"
      }
    },
    {
      "cell_type": "code",
      "source": [
        "unique_movies = dict()\n",
        "with open(\"movie_titles.csv\", encoding =\"cp1252\") as f:\n",
        "  data_lines = f.readlines()\n",
        "  for l in data_lines:\n",
        "    l = l.rstrip()\n",
        "    target = -1\n",
        "    target = l.find(\",\")\n",
        "    target = l.find(\",\", target+1)\n",
        "    unique_movies[l[target+1:]] = unique_movies.get(l[target+1:],0) + 1\n",
        "for k,v in unique_movies.items():\n",
        "  if v == 4:\n",
        "    print(k)"
      ],
      "metadata": {
        "colab": {
          "base_uri": "https://localhost:8080/"
        },
        "id": "brSeE_mXcJYD",
        "outputId": "8a49d248-9068-42c4-92d7-aaffc1000df7"
      },
      "execution_count": null,
      "outputs": [
        {
          "output_type": "stream",
          "name": "stdout",
          "text": [
            "Hamlet\n",
            "Treasure Island\n",
            "Bad Company\n",
            "Pinocchio\n",
            "Peter Pan\n"
          ]
        }
      ]
    },
    {
      "cell_type": "markdown",
      "source": [
        "## 5.a. Users that rated 200 movies"
      ],
      "metadata": {
        "id": "M-ondcXO_iPP"
      }
    },
    {
      "cell_type": "code",
      "source": [
        "unique_users = dict()\n",
        "for i in range(1,5):\n",
        "  with open(f\"combined_data_{i}.txt\", encoding =\"cp1252\") as f:\n",
        "    data_lines = f.readlines()\n",
        "    for l in data_lines:\n",
        "      if l.rstrip()[-1] == \":\":\n",
        "        continue\n",
        "      else:\n",
        "        unique_users[l.split(\",\")[0]] = unique_users.get(l.split(\",\")[0],0) + 1\n",
        "count = 0\n",
        "for k,v in unique_users.items():\n",
        "  if v == 200:\n",
        "    print(k)\n",
        "    count += 1\n"
      ],
      "metadata": {
        "id": "v2FwrSSUdmg2"
      },
      "execution_count": null,
      "outputs": []
    },
    {
      "cell_type": "code",
      "source": [
        "count"
      ],
      "metadata": {
        "colab": {
          "base_uri": "https://localhost:8080/"
        },
        "id": "G8kRbhwlfqhb",
        "outputId": "91a682cd-5868-4bd0-9c64-b4086f43979d"
      },
      "execution_count": null,
      "outputs": [
        {
          "output_type": "execute_result",
          "data": {
            "text/plain": [
              "605"
            ]
          },
          "metadata": {},
          "execution_count": 44
        }
      ]
    },
    {
      "cell_type": "markdown",
      "source": [
        "## 5. b. Lowest User ID with Movies of 5 Star Ratings"
      ],
      "metadata": {
        "id": "xB_Biuxh_piT"
      }
    },
    {
      "cell_type": "code",
      "source": [
        "# Of these users, take the lowest user ID and print out the names of the movies that\n",
        "# they liked the most (all 5 star ratings)."
      ],
      "metadata": {
        "id": "okqcy1Ojf2Hu"
      },
      "execution_count": null,
      "outputs": []
    },
    {
      "cell_type": "code",
      "source": [
        "seen_200 = []\n",
        "for k,v in unique_users.items():\n",
        "  if v == 200:\n",
        "    seen_200.append(int(k))"
      ],
      "metadata": {
        "id": "zZK6paJff4aU"
      },
      "execution_count": null,
      "outputs": []
    },
    {
      "cell_type": "code",
      "source": [
        "min(seen_200)"
      ],
      "metadata": {
        "colab": {
          "base_uri": "https://localhost:8080/"
        },
        "id": "g-rfpwrLgLk8",
        "outputId": "eedeaea4-9af9-472e-e534-eea1092f4d75"
      },
      "execution_count": null,
      "outputs": [
        {
          "output_type": "execute_result",
          "data": {
            "text/plain": [
              "508"
            ]
          },
          "metadata": {},
          "execution_count": 46
        }
      ]
    },
    {
      "cell_type": "code",
      "source": [
        "loved_movie = set()\n",
        "movie_id = -1\n",
        "for i in range(1,5):\n",
        "  with open(f\"combined_data_{i}.txt\", encoding =\"cp1252\") as f:\n",
        "    data_lines = f.readlines()\n",
        "    for l in data_lines:\n",
        "      if l.rstrip()[-1] == \":\":\n",
        "        movie_id = l.rstrip()[:-1]\n",
        "      else:\n",
        "        words = l.split(\",\")\n",
        "        if words[0] == \"508\" and words[1] == \"5\":\n",
        "          print(movie_id)\n",
        "          loved_movie.add(movie_id)\n"
      ],
      "metadata": {
        "colab": {
          "base_uri": "https://localhost:8080/"
        },
        "id": "UlivxM8Cgh6e",
        "outputId": "af268c31-38c5-404b-f5a9-6c9779490e77"
      },
      "execution_count": null,
      "outputs": [
        {
          "output_type": "stream",
          "name": "stdout",
          "text": [
            "312\n",
            "494\n",
            "571\n",
            "720\n",
            "1865\n",
            "2122\n",
            "2158\n",
            "2342\n",
            "2452\n",
            "2465\n",
            "2743\n",
            "2862\n",
            "3282\n",
            "3371\n",
            "3917\n",
            "4345\n",
            "4633\n",
            "4727\n",
            "5237\n",
            "5538\n",
            "5601\n",
            "5862\n",
            "6029\n",
            "6099\n",
            "6974\n",
            "7057\n",
            "7230\n",
            "7755\n",
            "8387\n",
            "8782\n",
            "8846\n",
            "8904\n",
            "9818\n",
            "10774\n",
            "11521\n",
            "11907\n",
            "12084\n",
            "12195\n",
            "12232\n",
            "12500\n",
            "12852\n",
            "12870\n",
            "13856\n",
            "14240\n",
            "14358\n",
            "14382\n",
            "14550\n",
            "14601\n",
            "14671\n",
            "14961\n",
            "14999\n",
            "15296\n",
            "15339\n",
            "16604\n",
            "17174\n",
            "17632\n",
            "17764\n"
          ]
        }
      ]
    },
    {
      "cell_type": "code",
      "source": [
        "print(loved_movie)"
      ],
      "metadata": {
        "colab": {
          "base_uri": "https://localhost:8080/"
        },
        "id": "pQ4f_wDZiFaL",
        "outputId": "8a8c2d8a-be9b-4ed6-9f24-01c2fb3d83d7"
      },
      "execution_count": null,
      "outputs": [
        {
          "output_type": "stream",
          "name": "stdout",
          "text": [
            "{'13856', '17764', '12195', '17632', '14240', '11907', '9818', '571', '10774', '6974', '1865', '6099', '2743', '8387', '7230', '4345', '2342', '12232', '312', '7057', '8904', '15339', '8846', '2452', '3282', '14601', '494', '4727', '14999', '17174', '5237', '12084', '8782', '15296', '2862', '4633', '720', '2122', '11521', '12870', '7755', '3371', '14671', '16604', '2465', '12852', '2158', '14382', '14550', '5862', '3917', '5601', '14358', '14961', '12500', '5538', '6029'}\n"
          ]
        }
      ]
    },
    {
      "cell_type": "code",
      "source": [
        "movie_titles = []\n",
        "with open(\"movie_titles.csv\", encoding =\"cp1252\") as f:\n",
        "  data_lines = f.readlines()\n",
        "  for l in data_lines:\n",
        "    l = l.rstrip()\n",
        "    target = -1\n",
        "    target = l.find(\",\")\n",
        "    if l[:target] in loved_movie:\n",
        "      target = l.find(\",\", target+1)\n",
        "      movie_titles.append(l[target+1:])"
      ],
      "metadata": {
        "id": "kV0nMkwziALU"
      },
      "execution_count": null,
      "outputs": []
    },
    {
      "cell_type": "code",
      "source": [
        "movie_titles"
      ],
      "metadata": {
        "colab": {
          "base_uri": "https://localhost:8080/"
        },
        "id": "T9uQUuDJj2w7",
        "outputId": "39c84364-4ded-4f7c-9e08-c4b3dfac3894"
      },
      "execution_count": null,
      "outputs": [
        {
          "output_type": "execute_result",
          "data": {
            "text/plain": [
              "['High Fidelity',\n",
              " \"Monty Python's The Meaning of Life: Special Edition\",\n",
              " 'American Beauty',\n",
              " 'Roger & Me',\n",
              " 'Eternal Sunshine of the Spotless Mind',\n",
              " 'Being John Malkovich',\n",
              " 'Vietnam: A Television History',\n",
              " 'Super Size Me',\n",
              " 'Lord of the Rings: The Fellowship of the Ring',\n",
              " 'This Is Spinal Tap',\n",
              " 'The Pianist',\n",
              " 'The Silence of the Lambs',\n",
              " 'Sideways',\n",
              " 'Whale Rider',\n",
              " 'Garden State',\n",
              " 'Bowling for Columbine',\n",
              " 'Gandhi',\n",
              " 'Apocalypse Now Redux',\n",
              " 'To Die For',\n",
              " \"Monty Python's Life of Brian\",\n",
              " 'The Manchurian Candidate',\n",
              " 'Memento',\n",
              " 'Amelie',\n",
              " 'Apocalypse Now',\n",
              " 'The Usual Suspects',\n",
              " 'Lord of the Rings: The Two Towers: Extended Edition',\n",
              " 'The Lord of the Rings: The Fellowship of the Ring: Extended Edition',\n",
              " 'Touching the Void',\n",
              " 'Minority Report',\n",
              " 'The Royal Tenenbaums',\n",
              " 'Election',\n",
              " 'Good Will Hunting',\n",
              " 'L.A. Confidential',\n",
              " 'Taxi Driver',\n",
              " 'Lord of the Rings: The Two Towers',\n",
              " 'Cabaret',\n",
              " 'Adaptation',\n",
              " 'The Accused',\n",
              " 'Lost in Translation',\n",
              " \"Boys Don't Cry\",\n",
              " 'To Be and To Have',\n",
              " \"Schindler's List\",\n",
              " 'Raging Bull',\n",
              " 'Lord of the Rings: The Return of the King',\n",
              " 'Monty Python and the Holy Grail',\n",
              " 'Raising Arizona',\n",
              " 'The Shawshank Redemption: Special Edition',\n",
              " 'Harold and Maude',\n",
              " 'Downfall',\n",
              " 'Lord of the Rings: The Return of the King: Extended Edition',\n",
              " 'Monster',\n",
              " 'Band of Brothers',\n",
              " 'Three Kings',\n",
              " 'Unforgiven',\n",
              " 'Maria Full of Grace',\n",
              " 'Days of Wine and Roses',\n",
              " 'Shakespeare in Love']"
            ]
          },
          "metadata": {},
          "execution_count": 58
        }
      ]
    },
    {
      "cell_type": "code",
      "source": [
        "#testing cell\n",
        "unique_movies = set()\n",
        "d = dict()\n",
        "with open(\"movie_titles.csv\", encoding =\"cp1252\") as f:\n",
        "  data_lines = f.readlines()\n",
        "  for l in data_lines:\n",
        "    row = l.rstrip().split(\",\")\n",
        "    if len(row) > 3:\n",
        "      print(l)\n",
        "\n",
        "      d[row[2]] = d.get(row[2],0)+1\n",
        "  print(d)\n",
        "for k,v in d.items():\n",
        "  if v == 4:\n",
        "    print(k)"
      ],
      "metadata": {
        "id": "rtsdyGsHlKDE"
      },
      "execution_count": null,
      "outputs": []
    }
  ],
  "metadata": {
    "colab": {
      "provenance": [],
      "include_colab_link": true
    },
    "kernelspec": {
      "display_name": "Python 3",
      "name": "python3"
    },
    "language_info": {
      "name": "python"
    }
  },
  "nbformat": 4,
  "nbformat_minor": 0
}