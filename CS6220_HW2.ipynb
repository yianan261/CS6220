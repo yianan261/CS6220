{
  "nbformat": 4,
  "nbformat_minor": 0,
  "metadata": {
    "colab": {
      "provenance": [],
      "authorship_tag": "ABX9TyPiY3aEteZMY6ZMLjiS6kv5",
      "include_colab_link": true
    },
    "kernelspec": {
      "name": "python3",
      "display_name": "Python 3"
    },
    "language_info": {
      "name": "python"
    }
  },
  "cells": [
    {
      "cell_type": "markdown",
      "metadata": {
        "id": "view-in-github",
        "colab_type": "text"
      },
      "source": [
        "<a href=\"https://colab.research.google.com/github/yianan261/CS6220/blob/main/CS6220_HW2.ipynb\" target=\"_parent\"><img src=\"https://colab.research.google.com/assets/colab-badge.svg\" alt=\"Open In Colab\"/></a>"
      ]
    },
    {
      "cell_type": "markdown",
      "source": [
        "1. List all candidate 4-itemsets obtained by a candidate generation procedure using the $F_{k-1} × F_1$ merging strategy.\n",
        "<br>\n",
        "$F_{k-1} × F_1$\n",
        "k = 4, so $F_{k-1}$ = $F_3$\n",
        "We are given frequent 3-itemsets, and our elements are from 1-5, so we can generate candidates by sorting itemsets and pruning our candidates with $F_{k-1} × F_1$ merging strategy.\n",
        "The result should be {1, 2, 3, 4}, {1, 2, 3, 5}, {1, 2, 4, 5}, {1, 3, 4, 5}, {2, 3, 4, 5}"
      ],
      "metadata": {
        "id": "DiYLYTQMZAA1"
      }
    },
    {
      "cell_type": "code",
      "source": [
        "#calculation\n",
        "c3 = [[1,2,3],[1,2,4],[1,2,5],[1,3,4],[2,3,4],[2,3,5],[3,4,5]] #already in sorted order in this case\n",
        "c1 = [1,2,3,4,5]\n",
        "\n",
        "res = []\n",
        "for i in c3:\n",
        "  idx = i[-1]\n",
        "  for j in range(idx,len(c1)):\n",
        "    temp = i+[c1[j]]\n",
        "    if len(temp) == 4:\n",
        "      res.append(temp[:])\n",
        "      temp.pop()\n",
        "print(res)"
      ],
      "metadata": {
        "colab": {
          "base_uri": "https://localhost:8080/"
        },
        "id": "wqa4YMN6lMRL",
        "outputId": "e5e0d519-0575-4fa6-8d5d-65718a13c2e0"
      },
      "execution_count": 51,
      "outputs": [
        {
          "output_type": "stream",
          "name": "stdout",
          "text": [
            "[[1, 2, 3, 4], [1, 2, 3, 5], [1, 2, 4, 5], [1, 3, 4, 5], [2, 3, 4, 5]]\n"
          ]
        }
      ]
    },
    {
      "cell_type": "markdown",
      "source": [
        "2. List all candidate 4-itemsets obtained by the candidate generation procedure in A Priori,using $F_{k−1}$ × $F_{k−1}$.\n",
        "<br>\n",
        "We have k = 4, according to $F_{k−1}$ × $F_{k−1}$ candidate generation algorithm the first k-2 items of two frequent itemsets have to be the same, so the first 2 items of 2 itemsets have to be the same in this case, and k-1 itemset cannot be the same.\n",
        "The result should be {1, 2, 3, 4}, {1, 2, 3, 5}, {1, 2, 4, 5}, {2, 3, 4, 5}\n"
      ],
      "metadata": {
        "id": "4o-OQa4ut518"
      }
    },
    {
      "cell_type": "code",
      "source": [
        "#calculation\n",
        "c3 = [[1,2,3],[1,2,4],[1,2,5],[1,3,4],[2,3,4],[2,3,5],[3,4,5]] #already in sorted order in this case\n",
        "c3_2 = [[1,2,3],[1,2,4],[1,2,5],[1,3,4],[2,3,4],[2,3,5],[3,4,5]]\n",
        "res = []\n",
        "for i in range(len(c3)):\n",
        "  for j in range(i+1,len(c3_2)):\n",
        "    if c3[i][0] == c3_2[j][0] and c3[i][1] == c3_2[j][1]: #first k-2 items of two frequent itemsets have to be the same\n",
        "      temp_1 = set(c3[i])\n",
        "      temp_2 = set(c3_2[j])\n",
        "      temp = temp_1 | temp_2 #union\n",
        "      res.append(temp)\n",
        "print(res)"
      ],
      "metadata": {
        "colab": {
          "base_uri": "https://localhost:8080/"
        },
        "id": "ZwZ8UJqPHYq0",
        "outputId": "0801feee-5e7f-40b9-f8d2-0b5f61720461"
      },
      "execution_count": 6,
      "outputs": [
        {
          "output_type": "stream",
          "name": "stdout",
          "text": [
            "[{1, 2, 3, 4}, {1, 2, 3, 5}, {1, 2, 4, 5}, {2, 3, 4, 5}]\n"
          ]
        }
      ]
    },
    {
      "cell_type": "markdown",
      "source": [
        "3. List all candidate 4-itemsets that survive the candidate pruning step of the Apriori algorithm.\n",
        "<br>\n",
        "Since candidate pruning states that for itemsets X from previous candidate generation iterations, we consider its subsets where we find $X-{i_j}$, where j is $i_1$ to $i_k$ in that k-itemset X, if one of the subsets is infrequent then we can immediately prune that itemset because for an itemset to be frequent, all of its subsets have to be frequent according to Apriori property.\n",
        "So, we consider the candidates after 𝐹𝑘−1  ×  𝐹𝑘−1  candidate generation, which gives us {1, 2, 3, 4}, {1, 2, 3, 5}, {1, 2, 4, 5}, {2, 3, 4, 5}.\n",
        "We find the subsets of each of these frequent 4-itemsets, if one of the subsets is infrequent then we eliminate that candidate. After candidate pruning, only {1,2,3,4} is left\n"
      ],
      "metadata": {
        "id": "c_XkK1ZKPHHL"
      }
    },
    {
      "cell_type": "code",
      "source": [
        "#calculation\n",
        "nums = [[1, 2, 3, 4], [1, 2, 3, 5], [1, 2, 4, 5], [2, 3, 4, 5]]\n",
        "c3 = [[1,2,3],[1,2,4],[1,2,5],[1,3,4],[2,3,4],[2,3,5],[3,4,5]]\n",
        "c3_set = set()\n",
        "for i in c3:\n",
        "  c3_set.add(tuple(i))\n",
        "\n",
        "def helper(i,nums):\n",
        "  if len(temp) == 3:\n",
        "    if tuple(temp) not in c3_set:\n",
        "      return\n",
        "    else:\n",
        "      res.append(temp[:])\n",
        "    return\n",
        "\n",
        "  for j in range(i,len(nums)):\n",
        "    temp.append(nums[j])\n",
        "    helper(j+1,nums)\n",
        "    temp.pop()\n",
        "\n",
        "temp = []\n",
        "candidates = []\n",
        "for num in nums:\n",
        "  res = []\n",
        "  helper(0,num)\n",
        "  if len(res) == 4: #resulting combination should be 4 because choosing 3 out of 4 itemsets, all subsets should be frequent\n",
        "    candidates.append(num)\n",
        "print(\"candidates\",candidates)"
      ],
      "metadata": {
        "colab": {
          "base_uri": "https://localhost:8080/"
        },
        "id": "hF-WC-AbHYk1",
        "outputId": "5f3e83fc-d2ec-4177-fa9f-c5829fb14a7b"
      },
      "execution_count": 28,
      "outputs": [
        {
          "output_type": "stream",
          "name": "stdout",
          "text": [
            "candidates [[1, 2, 3, 4]]\n"
          ]
        }
      ]
    },
    {
      "cell_type": "markdown",
      "source": [
        "4. a) What is the maximum number of association rules that can be extracted from this data (including rules that have zero support)?\n",
        "### $2^{n}-1$ possible itemsets can be made, since we have 7 items in the data, n=7, therefore there are 127 possible itemsets (not including empty sets). The total number of association rules can be $3^{d} - 2^{d+1}+1$, d being the number of items, therefore there can be 1932 possible rules\n",
        "<br>\n",
        "b) What is the confidence of the rule {Milk, Diapers} ⇒ {Butter}?\n",
        "<br>\n",
        "$Confidence =  \\dfrac {X\\cup Y} X  = \\dfrac{2}{4} = \\dfrac{1}{2}$\n",
        "<br>\n",
        "c) What is the support for the rule {Milk, Diapers} ⇒ {Butter}?\n",
        "<br>\n",
        "$Support =  \\dfrac {X\\cup Y} N  = \\dfrac{2}{10} = \\dfrac{1}{5}$"
      ],
      "metadata": {
        "id": "2LK3ZbEDCRKZ"
      }
    },
    {
      "cell_type": "markdown",
      "source": [
        "5. True or False with an explanation: Given that {a,b,c,d} is a frequent itemset, {a,b} is always a frequent itemset.\n",
        "<br>\n",
        "**True** according to the Apriori principle, if an itemset is frequent then all of its subsets must also be frequent. {a,b} is a subset of {a,b,c,d}, since the latter is frequent the subset must also be frequent."
      ],
      "metadata": {
        "id": "KwpSGtPhp3ee"
      }
    },
    {
      "cell_type": "markdown",
      "source": [
        "6. True or False with an explanation: Given that {a,b}, {b,c} and {a,c} are frequent itemsets, {a,b,c} is always frequent.\n",
        "<br>\n",
        "**False** because we need to take in account the support count of {a,b,c}, which needs to be greater than a certain minimum threshold. The itemsets being frequent does not guarantee their supersets passing the threshold of support count."
      ],
      "metadata": {
        "id": "2jB6tH3WvpIg"
      }
    },
    {
      "cell_type": "markdown",
      "source": [
        "7.  True or False with an explanation: Given that the support of {a,b} is 20 and the support of {b,c} is 30, the support of {b} is larger than 20 but smaller than 30.\n",
        "<br>\n",
        "**False**. We already know its superset {a,b} has a support of 20, but support of {b} is greater than 30 because we know that {a,b} already has a a support of 20, and {b,c} has a support of 30, and these supersets contain the subset {b}, so we know the support of {b} is at least 50."
      ],
      "metadata": {
        "id": "HFiSXI28zgMR"
      }
    },
    {
      "cell_type": "markdown",
      "source": [
        "8. True or False with an explanation: In a dataset that has 5 items, the maximum number of size-2 frequent itemsets that can be extracted (assuming minsup > 0) is 20.\n",
        "<br>\n",
        "**False**. If we find all 2-itemsets of the 5 items, we should get ${5\\choose 2}$, which gives us combination of 10 itemsets. It is not possible for frequent 2-itemsets of these 5 items to exceed 10.\n"
      ],
      "metadata": {
        "id": "SNdb4GoY4yI3"
      }
    },
    {
      "cell_type": "markdown",
      "source": [
        "9. Draw the itemset lattice for the set of unique items I = {a, b, c}.\n"
      ],
      "metadata": {
        "id": "DTtdbOVx54Pr"
      }
    }
  ]
}